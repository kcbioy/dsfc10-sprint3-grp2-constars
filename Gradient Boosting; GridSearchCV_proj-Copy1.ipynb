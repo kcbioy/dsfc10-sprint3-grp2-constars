{
 "cells": [
  {
   "cell_type": "markdown",
   "metadata": {},
   "source": [
    "<div><span style=\"background-color: #9e4244; padding-top: 80px; padding-right: 20px; padding-bottom: 50px; padding-left: 20px; color: white; font-size: 22px; font-weight: bold\">Session 3: Tree-Based Ensemble Models</span></div>"
   ]
  },
  {
   "cell_type": "markdown",
   "metadata": {},
   "source": [
    "by BYJ Cirio"
   ]
  },
  {
   "cell_type": "markdown",
   "metadata": {},
   "source": [
    "<div class=\"alert alert-danger alert-info\">\n",
    "     In this notebook you will be learning the different tree-based ensemble models. Specifically, the topics covered are as follows:<br>\n",
    "    <ol>\n",
    "        <li>Decision-Tree</li>\n",
    "        <li>Random Forest</li>\n",
    "        <li>Gradient Boosting</li>\n",
    "        <li><i>Exercise: Further hypertune the tree-based ensemble models</i></li>\n",
    "    </ol>\n",
    "</div>"
   ]
  },
  {
   "cell_type": "code",
   "execution_count": 1,
   "metadata": {
    "ExecuteTime": {
     "end_time": "2022-10-28T22:31:48.550643Z",
     "start_time": "2022-10-28T22:31:39.248997Z"
    }
   },
   "outputs": [],
   "source": [
    "# general libraries\n",
    "import warnings\n",
    "import numpy as np\n",
    "import pandas as pd\n",
    "from tqdm.notebook import tqdm\n",
    "from collections import Counter\n",
    "warnings.filterwarnings(\"ignore\")\n",
    "\n",
    "# visualization\n",
    "import seaborn as sns\n",
    "import matplotlib.pyplot as plt\n",
    "from wordcloud import WordCloud\n",
    "from nltk.corpus import stopwords\n",
    "\n",
    "# modelling\n",
    "from sklearn.model_selection import train_test_split, RandomizedSearchCV\n",
    "from sklearn.model_selection import GridSearchCV, ShuffleSplit, StratifiedShuffleSplit\n",
    "from sklearn.linear_model import LogisticRegression\n",
    "from sklearn.tree import DecisionTreeClassifier\n",
    "from sklearn.ensemble import RandomForestClassifier, GradientBoostingClassifier"
   ]
  },
  {
   "cell_type": "code",
   "execution_count": null,
   "metadata": {},
   "outputs": [],
   "source": []
  },
  {
   "cell_type": "code",
   "execution_count": 2,
   "metadata": {
    "ExecuteTime": {
     "end_time": "2022-10-28T22:32:27.123585Z",
     "start_time": "2022-10-28T22:32:17.635825Z"
    }
   },
   "outputs": [
    {
     "data": {
      "text/html": [
       "<div>\n",
       "<style scoped>\n",
       "    .dataframe tbody tr th:only-of-type {\n",
       "        vertical-align: middle;\n",
       "    }\n",
       "\n",
       "    .dataframe tbody tr th {\n",
       "        vertical-align: top;\n",
       "    }\n",
       "\n",
       "    .dataframe thead th {\n",
       "        text-align: right;\n",
       "    }\n",
       "</style>\n",
       "<table border=\"1\" class=\"dataframe\">\n",
       "  <thead>\n",
       "    <tr style=\"text-align: right;\">\n",
       "      <th></th>\n",
       "      <th>Unnamed: 0</th>\n",
       "      <th>is_fraud</th>\n",
       "      <th>diff_datetime_hrs</th>\n",
       "      <th>prev_fraud</th>\n",
       "      <th>amt</th>\n",
       "      <th>city_pop</th>\n",
       "      <th>age</th>\n",
       "      <th>dist_to_merch_in_kms</th>\n",
       "      <th>category_entertainment</th>\n",
       "      <th>category_food_dining</th>\n",
       "      <th>...</th>\n",
       "      <th>city_San Pedro</th>\n",
       "      <th>city_Santa Rosa</th>\n",
       "      <th>city_Sorsogon</th>\n",
       "      <th>city_Surigao</th>\n",
       "      <th>city_Tacloban</th>\n",
       "      <th>city_Taguig City</th>\n",
       "      <th>city_Tagum</th>\n",
       "      <th>city_Tandag</th>\n",
       "      <th>city_Tarlac City</th>\n",
       "      <th>city_Valenzuela</th>\n",
       "    </tr>\n",
       "  </thead>\n",
       "  <tbody>\n",
       "    <tr>\n",
       "      <th>0</th>\n",
       "      <td>0</td>\n",
       "      <td>0</td>\n",
       "      <td>NaN</td>\n",
       "      <td>0.0</td>\n",
       "      <td>115.58</td>\n",
       "      <td>574089</td>\n",
       "      <td>83</td>\n",
       "      <td>66.720087</td>\n",
       "      <td>0</td>\n",
       "      <td>0</td>\n",
       "      <td>...</td>\n",
       "      <td>0</td>\n",
       "      <td>0</td>\n",
       "      <td>0</td>\n",
       "      <td>0</td>\n",
       "      <td>0</td>\n",
       "      <td>0</td>\n",
       "      <td>0</td>\n",
       "      <td>0</td>\n",
       "      <td>0</td>\n",
       "      <td>0</td>\n",
       "    </tr>\n",
       "    <tr>\n",
       "      <th>1</th>\n",
       "      <td>1</td>\n",
       "      <td>0</td>\n",
       "      <td>7.0</td>\n",
       "      <td>0.0</td>\n",
       "      <td>4.35</td>\n",
       "      <td>574089</td>\n",
       "      <td>83</td>\n",
       "      <td>89.750504</td>\n",
       "      <td>0</td>\n",
       "      <td>0</td>\n",
       "      <td>...</td>\n",
       "      <td>0</td>\n",
       "      <td>0</td>\n",
       "      <td>0</td>\n",
       "      <td>0</td>\n",
       "      <td>0</td>\n",
       "      <td>0</td>\n",
       "      <td>0</td>\n",
       "      <td>0</td>\n",
       "      <td>0</td>\n",
       "      <td>0</td>\n",
       "    </tr>\n",
       "    <tr>\n",
       "      <th>2</th>\n",
       "      <td>2</td>\n",
       "      <td>0</td>\n",
       "      <td>0.0</td>\n",
       "      <td>0.0</td>\n",
       "      <td>4.65</td>\n",
       "      <td>574089</td>\n",
       "      <td>83</td>\n",
       "      <td>31.625560</td>\n",
       "      <td>0</td>\n",
       "      <td>0</td>\n",
       "      <td>...</td>\n",
       "      <td>0</td>\n",
       "      <td>0</td>\n",
       "      <td>0</td>\n",
       "      <td>0</td>\n",
       "      <td>0</td>\n",
       "      <td>0</td>\n",
       "      <td>0</td>\n",
       "      <td>0</td>\n",
       "      <td>0</td>\n",
       "      <td>0</td>\n",
       "    </tr>\n",
       "    <tr>\n",
       "      <th>3</th>\n",
       "      <td>3</td>\n",
       "      <td>0</td>\n",
       "      <td>13.0</td>\n",
       "      <td>0.0</td>\n",
       "      <td>32.87</td>\n",
       "      <td>574089</td>\n",
       "      <td>83</td>\n",
       "      <td>112.130879</td>\n",
       "      <td>0</td>\n",
       "      <td>0</td>\n",
       "      <td>...</td>\n",
       "      <td>0</td>\n",
       "      <td>0</td>\n",
       "      <td>0</td>\n",
       "      <td>0</td>\n",
       "      <td>0</td>\n",
       "      <td>0</td>\n",
       "      <td>0</td>\n",
       "      <td>0</td>\n",
       "      <td>0</td>\n",
       "      <td>0</td>\n",
       "    </tr>\n",
       "    <tr>\n",
       "      <th>4</th>\n",
       "      <td>4</td>\n",
       "      <td>0</td>\n",
       "      <td>1.0</td>\n",
       "      <td>0.0</td>\n",
       "      <td>192.43</td>\n",
       "      <td>574089</td>\n",
       "      <td>83</td>\n",
       "      <td>101.931179</td>\n",
       "      <td>0</td>\n",
       "      <td>0</td>\n",
       "      <td>...</td>\n",
       "      <td>0</td>\n",
       "      <td>0</td>\n",
       "      <td>0</td>\n",
       "      <td>0</td>\n",
       "      <td>0</td>\n",
       "      <td>0</td>\n",
       "      <td>0</td>\n",
       "      <td>0</td>\n",
       "      <td>0</td>\n",
       "      <td>0</td>\n",
       "    </tr>\n",
       "  </tbody>\n",
       "</table>\n",
       "<p>5 rows × 255 columns</p>\n",
       "</div>"
      ],
      "text/plain": [
       "   Unnamed: 0  is_fraud  diff_datetime_hrs  prev_fraud     amt  city_pop  age  \\\n",
       "0           0         0                NaN         0.0  115.58    574089   83   \n",
       "1           1         0                7.0         0.0    4.35    574089   83   \n",
       "2           2         0                0.0         0.0    4.65    574089   83   \n",
       "3           3         0               13.0         0.0   32.87    574089   83   \n",
       "4           4         0                1.0         0.0  192.43    574089   83   \n",
       "\n",
       "   dist_to_merch_in_kms  category_entertainment  category_food_dining  ...  \\\n",
       "0             66.720087                       0                     0  ...   \n",
       "1             89.750504                       0                     0  ...   \n",
       "2             31.625560                       0                     0  ...   \n",
       "3            112.130879                       0                     0  ...   \n",
       "4            101.931179                       0                     0  ...   \n",
       "\n",
       "   city_San Pedro  city_Santa Rosa  city_Sorsogon  city_Surigao  \\\n",
       "0               0                0              0             0   \n",
       "1               0                0              0             0   \n",
       "2               0                0              0             0   \n",
       "3               0                0              0             0   \n",
       "4               0                0              0             0   \n",
       "\n",
       "   city_Tacloban  city_Taguig City  city_Tagum  city_Tandag  city_Tarlac City  \\\n",
       "0              0                 0           0            0                 0   \n",
       "1              0                 0           0            0                 0   \n",
       "2              0                 0           0            0                 0   \n",
       "3              0                 0           0            0                 0   \n",
       "4              0                 0           0            0                 0   \n",
       "\n",
       "   city_Valenzuela  \n",
       "0                0  \n",
       "1                0  \n",
       "2                0  \n",
       "3                0  \n",
       "4                0  \n",
       "\n",
       "[5 rows x 255 columns]"
      ]
     },
     "execution_count": 2,
     "metadata": {},
     "output_type": "execute_result"
    }
   ],
   "source": [
    "df = pd.read_csv('data/transactions_clean_onehot.csv', nrows=100000)\n",
    "df.head()"
   ]
  },
  {
   "cell_type": "code",
   "execution_count": 7,
   "metadata": {
    "ExecuteTime": {
     "end_time": "2022-10-28T22:47:07.257562Z",
     "start_time": "2022-10-28T22:47:07.212549Z"
    }
   },
   "outputs": [],
   "source": [
    "df['diff_datetime_hrs'] = df['diff_datetime_hrs'].fillna(0)"
   ]
  },
  {
   "cell_type": "code",
   "execution_count": 8,
   "metadata": {
    "ExecuteTime": {
     "end_time": "2022-10-28T22:47:09.472206Z",
     "start_time": "2022-10-28T22:47:09.183516Z"
    }
   },
   "outputs": [
    {
     "name": "stdout",
     "output_type": "stream",
     "text": [
      "Would Recommend:       0\n",
      "0  89155\n",
      "1    495\n",
      "Proportion Chance Criterion: 98.90%\n",
      "1.25 * Proportion Chance Criterion: 123.63%\n"
     ]
    },
    {
     "data": {
      "image/png": "[encoded data removed]",
      "text/plain": [
       "<Figure size 640x480 with 1 Axes>"
      ]
     },
     "metadata": {},
     "output_type": "display_data"
    }
   ],
   "source": [
    "state_counts = Counter(df['is_fraud'])\n",
    "df_state = pd.DataFrame.from_dict(state_counts, orient='index')\n",
    "df_state.plot(kind='bar', color='pink')\n",
    "\n",
    "num=(df_state[0]/df_state[0].sum())**2\n",
    "\n",
    "print(\"Would Recommend:{}\".format(df_state))\n",
    "\n",
    "print(\"Proportion Chance Criterion: {:0.2f}%\".format(100*num.sum()))\n",
    "print(\"1.25 * Proportion Chance Criterion: {:0.2f}%\".format(1.25*100*num.sum()))"
   ]
  },
  {
   "cell_type": "code",
   "execution_count": 9,
   "metadata": {
    "ExecuteTime": {
     "end_time": "2022-10-28T22:47:10.798023Z",
     "start_time": "2022-10-28T22:47:09.909732Z"
    }
   },
   "outputs": [],
   "source": [
    "X = df.drop(['is_fraud'], axis=1)\n",
    "y = df['is_fraud']\n",
    "(X_train, X_test, y_train, y_test) = train_test_split(X, \n",
    "                                                      y, \n",
    "                                                      random_state=42, \n",
    "                                                      test_size=0.25) "
   ]
  },
  {
   "cell_type": "code",
   "execution_count": 10,
   "metadata": {
    "ExecuteTime": {
     "end_time": "2022-10-28T22:47:11.112340Z",
     "start_time": "2022-10-28T22:47:11.101339Z"
    }
   },
   "outputs": [],
   "source": [
    "import pickle as pickle"
   ]
  },
  {
   "cell_type": "markdown",
   "metadata": {},
   "source": [
    "<div><span style=\"background-color: #ff0257; padding-top: 100px; padding-right: 20px; padding-bottom: 50px; padding-left: 20px; color: #FFFAF0; font-size: 18px; font-weight: bold\">Gradient Boosting </span></div>"
   ]
  },
  {
   "cell_type": "markdown",
   "metadata": {},
   "source": [
    "<b>Gradient boosting</b> works by building trees in a serial manner, where each tree tries to correct the mistakes of the previous one"
   ]
  },
  {
   "cell_type": "markdown",
   "metadata": {},
   "source": [
    "<i>learning_rate</i>- how strongly each tree tries to correct the mistakes of the previous trees <br>"
   ]
  },
  {
   "cell_type": "code",
   "execution_count": 11,
   "metadata": {
    "ExecuteTime": {
     "end_time": "2022-10-28T22:48:23.037878Z",
     "start_time": "2022-10-28T22:47:15.371707Z"
    }
   },
   "outputs": [
    {
     "name": "stdout",
     "output_type": "stream",
     "text": [
      "Fitting GBM\n",
      "Fitting 3 folds for each of 12 candidates, totalling 36 fits\n",
      "The best model is GradientBoostingClassifier(max_depth=1, n_estimators=1, random_state=42)\n",
      "Runtime (in seconds):  67.63814949989319\n"
     ]
    }
   ],
   "source": [
    "import time \n",
    "start = time.time()\n",
    "\n",
    "print(\"Fitting GBM\")\n",
    "\n",
    "param_grid = {\"n_estimators\": np.arange(1,3),\n",
    "             \"learning_rate\": [0.10, 0.20, 0.30],\n",
    "             \"max_depth\": np.arange(1,3)}\n",
    "\n",
    "gb = GradientBoostingClassifier(random_state = 42)\n",
    "\n",
    "shuffle_split = StratifiedShuffleSplit(n_splits = 3, test_size = 0.25)\n",
    "\n",
    "\n",
    "grid = GridSearchCV(gb, param_grid, cv=shuffle_split, n_jobs = 2, verbose = 2)\n",
    "\n",
    "grid.fit(X,y)\n",
    "\n",
    "print(\"The best model is %s\" % grid.best_estimator_)\n",
    "print(\"Runtime (in seconds): \", time.time() - start)\n",
    "\n"
   ]
  },
  {
   "cell_type": "code",
   "execution_count": 21,
   "metadata": {
    "ExecuteTime": {
     "end_time": "2022-10-28T10:47:21.442404Z",
     "start_time": "2022-10-28T09:16:17.190107Z"
    },
    "collapsed": true
   },
   "outputs": [
    {
     "name": "stdout",
     "output_type": "stream",
     "text": [
      "Fitting GBM\n",
      "Fitting 5 folds for each of 400 candidates, totalling 2000 fits\n"
     ]
    },
    {
     "ename": "KeyboardInterrupt",
     "evalue": "",
     "output_type": "error",
     "traceback": [
      "\u001b[1;31m---------------------------------------------------------------------------\u001b[0m",
      "\u001b[1;31mKeyboardInterrupt\u001b[0m                         Traceback (most recent call last)",
      "Cell \u001b[1;32mIn [21], line 17\u001b[0m\n\u001b[0;32m     12\u001b[0m shuffle_split \u001b[38;5;241m=\u001b[39m StratifiedShuffleSplit(n_splits \u001b[38;5;241m=\u001b[39m \u001b[38;5;241m5\u001b[39m, test_size \u001b[38;5;241m=\u001b[39m \u001b[38;5;241m0.25\u001b[39m)\n\u001b[0;32m     15\u001b[0m grid \u001b[38;5;241m=\u001b[39m GridSearchCV(gb, param_grid, cv\u001b[38;5;241m=\u001b[39mshuffle_split, n_jobs \u001b[38;5;241m=\u001b[39m \u001b[38;5;241m2\u001b[39m, verbose \u001b[38;5;241m=\u001b[39m \u001b[38;5;241m10\u001b[39m)\n\u001b[1;32m---> 17\u001b[0m \u001b[43mgrid\u001b[49m\u001b[38;5;241;43m.\u001b[39;49m\u001b[43mfit\u001b[49m\u001b[43m(\u001b[49m\u001b[43mX\u001b[49m\u001b[43m,\u001b[49m\u001b[43my\u001b[49m\u001b[43m)\u001b[49m\n\u001b[0;32m     19\u001b[0m \u001b[38;5;28mprint\u001b[39m(\u001b[38;5;124m\"\u001b[39m\u001b[38;5;124mThe best model is \u001b[39m\u001b[38;5;132;01m%s\u001b[39;00m\u001b[38;5;124m\"\u001b[39m \u001b[38;5;241m%\u001b[39m grid\u001b[38;5;241m.\u001b[39mbest_estimator_)\n\u001b[0;32m     20\u001b[0m \u001b[38;5;28mprint\u001b[39m(\u001b[38;5;124m\"\u001b[39m\u001b[38;5;124mRuntime (in seconds): \u001b[39m\u001b[38;5;124m\"\u001b[39m, time\u001b[38;5;241m.\u001b[39mtime() \u001b[38;5;241m-\u001b[39m start)\n",
      "File \u001b[1;32m~\\Documents\\DSFC10\\venv\\lib\\site-packages\\sklearn\\model_selection\\_search.py:875\u001b[0m, in \u001b[0;36mBaseSearchCV.fit\u001b[1;34m(self, X, y, groups, **fit_params)\u001b[0m\n\u001b[0;32m    869\u001b[0m     results \u001b[38;5;241m=\u001b[39m \u001b[38;5;28mself\u001b[39m\u001b[38;5;241m.\u001b[39m_format_results(\n\u001b[0;32m    870\u001b[0m         all_candidate_params, n_splits, all_out, all_more_results\n\u001b[0;32m    871\u001b[0m     )\n\u001b[0;32m    873\u001b[0m     \u001b[38;5;28;01mreturn\u001b[39;00m results\n\u001b[1;32m--> 875\u001b[0m \u001b[38;5;28;43mself\u001b[39;49m\u001b[38;5;241;43m.\u001b[39;49m\u001b[43m_run_search\u001b[49m\u001b[43m(\u001b[49m\u001b[43mevaluate_candidates\u001b[49m\u001b[43m)\u001b[49m\n\u001b[0;32m    877\u001b[0m \u001b[38;5;66;03m# multimetric is determined here because in the case of a callable\u001b[39;00m\n\u001b[0;32m    878\u001b[0m \u001b[38;5;66;03m# self.scoring the return type is only known after calling\u001b[39;00m\n\u001b[0;32m    879\u001b[0m first_test_score \u001b[38;5;241m=\u001b[39m all_out[\u001b[38;5;241m0\u001b[39m][\u001b[38;5;124m\"\u001b[39m\u001b[38;5;124mtest_scores\u001b[39m\u001b[38;5;124m\"\u001b[39m]\n",
      "File \u001b[1;32m~\\Documents\\DSFC10\\venv\\lib\\site-packages\\sklearn\\model_selection\\_search.py:1379\u001b[0m, in \u001b[0;36mGridSearchCV._run_search\u001b[1;34m(self, evaluate_candidates)\u001b[0m\n\u001b[0;32m   1377\u001b[0m \u001b[38;5;28;01mdef\u001b[39;00m \u001b[38;5;21m_run_search\u001b[39m(\u001b[38;5;28mself\u001b[39m, evaluate_candidates):\n\u001b[0;32m   1378\u001b[0m     \u001b[38;5;124;03m\"\"\"Search all candidates in param_grid\"\"\"\u001b[39;00m\n\u001b[1;32m-> 1379\u001b[0m     \u001b[43mevaluate_candidates\u001b[49m\u001b[43m(\u001b[49m\u001b[43mParameterGrid\u001b[49m\u001b[43m(\u001b[49m\u001b[38;5;28;43mself\u001b[39;49m\u001b[38;5;241;43m.\u001b[39;49m\u001b[43mparam_grid\u001b[49m\u001b[43m)\u001b[49m\u001b[43m)\u001b[49m\n",
      "File \u001b[1;32m~\\Documents\\DSFC10\\venv\\lib\\site-packages\\sklearn\\model_selection\\_search.py:822\u001b[0m, in \u001b[0;36mBaseSearchCV.fit.<locals>.evaluate_candidates\u001b[1;34m(candidate_params, cv, more_results)\u001b[0m\n\u001b[0;32m    814\u001b[0m \u001b[38;5;28;01mif\u001b[39;00m \u001b[38;5;28mself\u001b[39m\u001b[38;5;241m.\u001b[39mverbose \u001b[38;5;241m>\u001b[39m \u001b[38;5;241m0\u001b[39m:\n\u001b[0;32m    815\u001b[0m     \u001b[38;5;28mprint\u001b[39m(\n\u001b[0;32m    816\u001b[0m         \u001b[38;5;124m\"\u001b[39m\u001b[38;5;124mFitting \u001b[39m\u001b[38;5;132;01m{0}\u001b[39;00m\u001b[38;5;124m folds for each of \u001b[39m\u001b[38;5;132;01m{1}\u001b[39;00m\u001b[38;5;124m candidates,\u001b[39m\u001b[38;5;124m\"\u001b[39m\n\u001b[0;32m    817\u001b[0m         \u001b[38;5;124m\"\u001b[39m\u001b[38;5;124m totalling \u001b[39m\u001b[38;5;132;01m{2}\u001b[39;00m\u001b[38;5;124m fits\u001b[39m\u001b[38;5;124m\"\u001b[39m\u001b[38;5;241m.\u001b[39mformat(\n\u001b[0;32m    818\u001b[0m             n_splits, n_candidates, n_candidates \u001b[38;5;241m*\u001b[39m n_splits\n\u001b[0;32m    819\u001b[0m         )\n\u001b[0;32m    820\u001b[0m     )\n\u001b[1;32m--> 822\u001b[0m out \u001b[38;5;241m=\u001b[39m \u001b[43mparallel\u001b[49m\u001b[43m(\u001b[49m\n\u001b[0;32m    823\u001b[0m \u001b[43m    \u001b[49m\u001b[43mdelayed\u001b[49m\u001b[43m(\u001b[49m\u001b[43m_fit_and_score\u001b[49m\u001b[43m)\u001b[49m\u001b[43m(\u001b[49m\n\u001b[0;32m    824\u001b[0m \u001b[43m        \u001b[49m\u001b[43mclone\u001b[49m\u001b[43m(\u001b[49m\u001b[43mbase_estimator\u001b[49m\u001b[43m)\u001b[49m\u001b[43m,\u001b[49m\n\u001b[0;32m    825\u001b[0m \u001b[43m        \u001b[49m\u001b[43mX\u001b[49m\u001b[43m,\u001b[49m\n\u001b[0;32m    826\u001b[0m \u001b[43m        \u001b[49m\u001b[43my\u001b[49m\u001b[43m,\u001b[49m\n\u001b[0;32m    827\u001b[0m \u001b[43m        \u001b[49m\u001b[43mtrain\u001b[49m\u001b[38;5;241;43m=\u001b[39;49m\u001b[43mtrain\u001b[49m\u001b[43m,\u001b[49m\n\u001b[0;32m    828\u001b[0m \u001b[43m        \u001b[49m\u001b[43mtest\u001b[49m\u001b[38;5;241;43m=\u001b[39;49m\u001b[43mtest\u001b[49m\u001b[43m,\u001b[49m\n\u001b[0;32m    829\u001b[0m \u001b[43m        \u001b[49m\u001b[43mparameters\u001b[49m\u001b[38;5;241;43m=\u001b[39;49m\u001b[43mparameters\u001b[49m\u001b[43m,\u001b[49m\n\u001b[0;32m    830\u001b[0m \u001b[43m        \u001b[49m\u001b[43msplit_progress\u001b[49m\u001b[38;5;241;43m=\u001b[39;49m\u001b[43m(\u001b[49m\u001b[43msplit_idx\u001b[49m\u001b[43m,\u001b[49m\u001b[43m \u001b[49m\u001b[43mn_splits\u001b[49m\u001b[43m)\u001b[49m\u001b[43m,\u001b[49m\n\u001b[0;32m    831\u001b[0m \u001b[43m        \u001b[49m\u001b[43mcandidate_progress\u001b[49m\u001b[38;5;241;43m=\u001b[39;49m\u001b[43m(\u001b[49m\u001b[43mcand_idx\u001b[49m\u001b[43m,\u001b[49m\u001b[43m \u001b[49m\u001b[43mn_candidates\u001b[49m\u001b[43m)\u001b[49m\u001b[43m,\u001b[49m\n\u001b[0;32m    832\u001b[0m \u001b[43m        \u001b[49m\u001b[38;5;241;43m*\u001b[39;49m\u001b[38;5;241;43m*\u001b[39;49m\u001b[43mfit_and_score_kwargs\u001b[49m\u001b[43m,\u001b[49m\n\u001b[0;32m    833\u001b[0m \u001b[43m    \u001b[49m\u001b[43m)\u001b[49m\n\u001b[0;32m    834\u001b[0m \u001b[43m    \u001b[49m\u001b[38;5;28;43;01mfor\u001b[39;49;00m\u001b[43m \u001b[49m\u001b[43m(\u001b[49m\u001b[43mcand_idx\u001b[49m\u001b[43m,\u001b[49m\u001b[43m \u001b[49m\u001b[43mparameters\u001b[49m\u001b[43m)\u001b[49m\u001b[43m,\u001b[49m\u001b[43m \u001b[49m\u001b[43m(\u001b[49m\u001b[43msplit_idx\u001b[49m\u001b[43m,\u001b[49m\u001b[43m \u001b[49m\u001b[43m(\u001b[49m\u001b[43mtrain\u001b[49m\u001b[43m,\u001b[49m\u001b[43m \u001b[49m\u001b[43mtest\u001b[49m\u001b[43m)\u001b[49m\u001b[43m)\u001b[49m\u001b[43m \u001b[49m\u001b[38;5;129;43;01min\u001b[39;49;00m\u001b[43m \u001b[49m\u001b[43mproduct\u001b[49m\u001b[43m(\u001b[49m\n\u001b[0;32m    835\u001b[0m \u001b[43m        \u001b[49m\u001b[38;5;28;43menumerate\u001b[39;49m\u001b[43m(\u001b[49m\u001b[43mcandidate_params\u001b[49m\u001b[43m)\u001b[49m\u001b[43m,\u001b[49m\u001b[43m \u001b[49m\u001b[38;5;28;43menumerate\u001b[39;49m\u001b[43m(\u001b[49m\u001b[43mcv\u001b[49m\u001b[38;5;241;43m.\u001b[39;49m\u001b[43msplit\u001b[49m\u001b[43m(\u001b[49m\u001b[43mX\u001b[49m\u001b[43m,\u001b[49m\u001b[43m \u001b[49m\u001b[43my\u001b[49m\u001b[43m,\u001b[49m\u001b[43m \u001b[49m\u001b[43mgroups\u001b[49m\u001b[43m)\u001b[49m\u001b[43m)\u001b[49m\n\u001b[0;32m    836\u001b[0m \u001b[43m    \u001b[49m\u001b[43m)\u001b[49m\n\u001b[0;32m    837\u001b[0m \u001b[43m\u001b[49m\u001b[43m)\u001b[49m\n\u001b[0;32m    839\u001b[0m \u001b[38;5;28;01mif\u001b[39;00m \u001b[38;5;28mlen\u001b[39m(out) \u001b[38;5;241m<\u001b[39m \u001b[38;5;241m1\u001b[39m:\n\u001b[0;32m    840\u001b[0m     \u001b[38;5;28;01mraise\u001b[39;00m \u001b[38;5;167;01mValueError\u001b[39;00m(\n\u001b[0;32m    841\u001b[0m         \u001b[38;5;124m\"\u001b[39m\u001b[38;5;124mNo fits were performed. \u001b[39m\u001b[38;5;124m\"\u001b[39m\n\u001b[0;32m    842\u001b[0m         \u001b[38;5;124m\"\u001b[39m\u001b[38;5;124mWas the CV iterator empty? \u001b[39m\u001b[38;5;124m\"\u001b[39m\n\u001b[0;32m    843\u001b[0m         \u001b[38;5;124m\"\u001b[39m\u001b[38;5;124mWere there no candidates?\u001b[39m\u001b[38;5;124m\"\u001b[39m\n\u001b[0;32m    844\u001b[0m     )\n",
      "File \u001b[1;32m~\\Documents\\DSFC10\\venv\\lib\\site-packages\\joblib\\parallel.py:1056\u001b[0m, in \u001b[0;36mParallel.__call__\u001b[1;34m(self, iterable)\u001b[0m\n\u001b[0;32m   1053\u001b[0m     \u001b[38;5;28mself\u001b[39m\u001b[38;5;241m.\u001b[39m_iterating \u001b[38;5;241m=\u001b[39m \u001b[38;5;28;01mFalse\u001b[39;00m\n\u001b[0;32m   1055\u001b[0m \u001b[38;5;28;01mwith\u001b[39;00m \u001b[38;5;28mself\u001b[39m\u001b[38;5;241m.\u001b[39m_backend\u001b[38;5;241m.\u001b[39mretrieval_context():\n\u001b[1;32m-> 1056\u001b[0m     \u001b[38;5;28;43mself\u001b[39;49m\u001b[38;5;241;43m.\u001b[39;49m\u001b[43mretrieve\u001b[49m\u001b[43m(\u001b[49m\u001b[43m)\u001b[49m\n\u001b[0;32m   1057\u001b[0m \u001b[38;5;66;03m# Make sure that we get a last message telling us we are done\u001b[39;00m\n\u001b[0;32m   1058\u001b[0m elapsed_time \u001b[38;5;241m=\u001b[39m time\u001b[38;5;241m.\u001b[39mtime() \u001b[38;5;241m-\u001b[39m \u001b[38;5;28mself\u001b[39m\u001b[38;5;241m.\u001b[39m_start_time\n",
      "File \u001b[1;32m~\\Documents\\DSFC10\\venv\\lib\\site-packages\\joblib\\parallel.py:935\u001b[0m, in \u001b[0;36mParallel.retrieve\u001b[1;34m(self)\u001b[0m\n\u001b[0;32m    933\u001b[0m \u001b[38;5;28;01mtry\u001b[39;00m:\n\u001b[0;32m    934\u001b[0m     \u001b[38;5;28;01mif\u001b[39;00m \u001b[38;5;28mgetattr\u001b[39m(\u001b[38;5;28mself\u001b[39m\u001b[38;5;241m.\u001b[39m_backend, \u001b[38;5;124m'\u001b[39m\u001b[38;5;124msupports_timeout\u001b[39m\u001b[38;5;124m'\u001b[39m, \u001b[38;5;28;01mFalse\u001b[39;00m):\n\u001b[1;32m--> 935\u001b[0m         \u001b[38;5;28mself\u001b[39m\u001b[38;5;241m.\u001b[39m_output\u001b[38;5;241m.\u001b[39mextend(\u001b[43mjob\u001b[49m\u001b[38;5;241;43m.\u001b[39;49m\u001b[43mget\u001b[49m\u001b[43m(\u001b[49m\u001b[43mtimeout\u001b[49m\u001b[38;5;241;43m=\u001b[39;49m\u001b[38;5;28;43mself\u001b[39;49m\u001b[38;5;241;43m.\u001b[39;49m\u001b[43mtimeout\u001b[49m\u001b[43m)\u001b[49m)\n\u001b[0;32m    936\u001b[0m     \u001b[38;5;28;01melse\u001b[39;00m:\n\u001b[0;32m    937\u001b[0m         \u001b[38;5;28mself\u001b[39m\u001b[38;5;241m.\u001b[39m_output\u001b[38;5;241m.\u001b[39mextend(job\u001b[38;5;241m.\u001b[39mget())\n",
      "File \u001b[1;32m~\\Documents\\DSFC10\\venv\\lib\\site-packages\\joblib\\_parallel_backends.py:542\u001b[0m, in \u001b[0;36mLokyBackend.wrap_future_result\u001b[1;34m(future, timeout)\u001b[0m\n\u001b[0;32m    539\u001b[0m \u001b[38;5;124;03m\"\"\"Wrapper for Future.result to implement the same behaviour as\u001b[39;00m\n\u001b[0;32m    540\u001b[0m \u001b[38;5;124;03mAsyncResults.get from multiprocessing.\"\"\"\u001b[39;00m\n\u001b[0;32m    541\u001b[0m \u001b[38;5;28;01mtry\u001b[39;00m:\n\u001b[1;32m--> 542\u001b[0m     \u001b[38;5;28;01mreturn\u001b[39;00m \u001b[43mfuture\u001b[49m\u001b[38;5;241;43m.\u001b[39;49m\u001b[43mresult\u001b[49m\u001b[43m(\u001b[49m\u001b[43mtimeout\u001b[49m\u001b[38;5;241;43m=\u001b[39;49m\u001b[43mtimeout\u001b[49m\u001b[43m)\u001b[49m\n\u001b[0;32m    543\u001b[0m \u001b[38;5;28;01mexcept\u001b[39;00m CfTimeoutError \u001b[38;5;28;01mas\u001b[39;00m e:\n\u001b[0;32m    544\u001b[0m     \u001b[38;5;28;01mraise\u001b[39;00m \u001b[38;5;167;01mTimeoutError\u001b[39;00m \u001b[38;5;28;01mfrom\u001b[39;00m \u001b[38;5;21;01me\u001b[39;00m\n",
      "File \u001b[1;32m~\\Documents\\DSFC10\\py391\\lib\\concurrent\\futures\\_base.py:441\u001b[0m, in \u001b[0;36mFuture.result\u001b[1;34m(self, timeout)\u001b[0m\n\u001b[0;32m    438\u001b[0m \u001b[38;5;28;01melif\u001b[39;00m \u001b[38;5;28mself\u001b[39m\u001b[38;5;241m.\u001b[39m_state \u001b[38;5;241m==\u001b[39m FINISHED:\n\u001b[0;32m    439\u001b[0m     \u001b[38;5;28;01mreturn\u001b[39;00m \u001b[38;5;28mself\u001b[39m\u001b[38;5;241m.\u001b[39m__get_result()\n\u001b[1;32m--> 441\u001b[0m \u001b[38;5;28;43mself\u001b[39;49m\u001b[38;5;241;43m.\u001b[39;49m\u001b[43m_condition\u001b[49m\u001b[38;5;241;43m.\u001b[39;49m\u001b[43mwait\u001b[49m\u001b[43m(\u001b[49m\u001b[43mtimeout\u001b[49m\u001b[43m)\u001b[49m\n\u001b[0;32m    443\u001b[0m \u001b[38;5;28;01mif\u001b[39;00m \u001b[38;5;28mself\u001b[39m\u001b[38;5;241m.\u001b[39m_state \u001b[38;5;129;01min\u001b[39;00m [CANCELLED, CANCELLED_AND_NOTIFIED]:\n\u001b[0;32m    444\u001b[0m     \u001b[38;5;28;01mraise\u001b[39;00m CancelledError()\n",
      "File \u001b[1;32m~\\Documents\\DSFC10\\py391\\lib\\threading.py:312\u001b[0m, in \u001b[0;36mCondition.wait\u001b[1;34m(self, timeout)\u001b[0m\n\u001b[0;32m    310\u001b[0m \u001b[38;5;28;01mtry\u001b[39;00m:    \u001b[38;5;66;03m# restore state no matter what (e.g., KeyboardInterrupt)\u001b[39;00m\n\u001b[0;32m    311\u001b[0m     \u001b[38;5;28;01mif\u001b[39;00m timeout \u001b[38;5;129;01mis\u001b[39;00m \u001b[38;5;28;01mNone\u001b[39;00m:\n\u001b[1;32m--> 312\u001b[0m         \u001b[43mwaiter\u001b[49m\u001b[38;5;241;43m.\u001b[39;49m\u001b[43macquire\u001b[49m\u001b[43m(\u001b[49m\u001b[43m)\u001b[49m\n\u001b[0;32m    313\u001b[0m         gotit \u001b[38;5;241m=\u001b[39m \u001b[38;5;28;01mTrue\u001b[39;00m\n\u001b[0;32m    314\u001b[0m     \u001b[38;5;28;01melse\u001b[39;00m:\n",
      "\u001b[1;31mKeyboardInterrupt\u001b[0m: "
     ]
    }
   ],
   "source": [
    "import time \n",
    "start = time.time()\n",
    "\n",
    "print(\"Fitting GBM\")\n",
    "\n",
    "param_grid = {\"n_estimators\": np.arange(1,11),\n",
    "             \"learning_rate\": [0.05, 0.15, 0.25, 0.35],\n",
    "             \"max_depth\": np.arange(1,11)}\n",
    "\n",
    "gb = GradientBoostingClassifier(random_state = 42)\n",
    "\n",
    "shuffle_split = StratifiedShuffleSplit(n_splits = 5, test_size = 0.25)\n",
    "\n",
    "\n",
    "grid = GridSearchCV(gb, param_grid, cv=shuffle_split, n_jobs = 2, verbose = 10)\n",
    "\n",
    "grid.fit(X,y)\n",
    "\n",
    "print(\"The best model is %s\" % grid.best_estimator_)\n",
    "print(\"Runtime (in seconds): \", time.time() - start)\n",
    "\n"
   ]
  },
  {
   "cell_type": "code",
   "execution_count": null,
   "metadata": {
    "ExecuteTime": {
     "end_time": "2022-10-28T10:47:21.500419Z",
     "start_time": "2022-10-28T10:47:21.500419Z"
    }
   },
   "outputs": [],
   "source": [
    "# save the model to a pickle file\n",
    "pickle_file_name = \"gb_gridsearch_proj4.pkl\"  \n",
    "\n",
    "with open(pickle_file_name, 'wb') as file:  \n",
    "    pickle.dump(grid, file)"
   ]
  },
  {
   "cell_type": "code",
   "execution_count": 12,
   "metadata": {
    "ExecuteTime": {
     "end_time": "2022-10-28T23:06:57.670939Z",
     "start_time": "2022-10-28T22:55:32.551034Z"
    }
   },
   "outputs": [
    {
     "name": "stdout",
     "output_type": "stream",
     "text": [
      "Fitting GBM\n",
      "Fitting 10 folds for each of 10 candidates, totalling 100 fits\n",
      "The best model is GradientBoostingClassifier(learning_rate=0.05, max_depth=8, n_estimators=10,\n",
      "                           random_state=42)\n",
      "Runtime (in seconds):  685.0781087875366\n"
     ]
    }
   ],
   "source": [
    "import time \n",
    "start = time.time()\n",
    "\n",
    "print(\"Fitting GBM\")\n",
    "\n",
    "param_grid = {\"n_estimators\": np.arange(1,11),\n",
    "             \"learning_rate\": [0.05, 0.10, 0.15, 0.25, 0.35, 0.40],\n",
    "             \"max_depth\": np.arange(1,11)}\n",
    "\n",
    "gb = GradientBoostingClassifier(random_state = 42)\n",
    "\n",
    "shuffle_split = StratifiedShuffleSplit(n_splits = 10, test_size = 0.25)\n",
    "\n",
    "\n",
    "RSCV = RandomizedSearchCV(gb, param_grid, cv=shuffle_split, n_jobs = 2, verbose = 10)\n",
    "\n",
    "RSCV.fit(X,y)\n",
    "\n",
    "print(\"The best model is %s\" % RSCV.best_estimator_)\n",
    "print(\"Runtime (in seconds): \", time.time() - start)\n",
    "\n"
   ]
  },
  {
   "cell_type": "code",
   "execution_count": 13,
   "metadata": {
    "ExecuteTime": {
     "end_time": "2022-10-28T23:06:57.873993Z",
     "start_time": "2022-10-28T23:06:57.711932Z"
    }
   },
   "outputs": [],
   "source": [
    "# save the model to a pickle file\n",
    "pickle_file_name = \"gb_randsearch_proj5.pkl\"  \n",
    "\n",
    "with open(pickle_file_name, 'wb') as file:  \n",
    "    pickle.dump(RSCV, file)"
   ]
  },
  {
   "cell_type": "code",
   "execution_count": null,
   "metadata": {},
   "outputs": [],
   "source": [
    "# >>> from sklearn.datasets import load_iris\n",
    "# >>> from sklearn.linear_model import LogisticRegression\n",
    "# >>> from sklearn.model_selection import RandomizedSearchCV\n",
    "# >>> from scipy.stats import uniform\n",
    "# >>> iris = load_iris()\n",
    "# >>> logistic = LogisticRegression(solver='saga', tol=1e-2, max_iter=200,\n",
    "# ...                               random_state=0)\n",
    "# >>> distributions = dict(C=uniform(loc=0, scale=4),\n",
    "# ...                      penalty=['l2', 'l1'])\n",
    "# >>> clf = RandomizedSearchCV(logistic, distributions, random_state=0)\n",
    "# >>> search = clf.fit(iris.data, iris.target)\n",
    "# >>> search.best_params_"
   ]
  },
  {
   "cell_type": "code",
   "execution_count": null,
   "metadata": {
    "ExecuteTime": {
     "start_time": "2022-10-27T20:32:33.350Z"
    }
   },
   "outputs": [],
   "source": [
    "#best model\n",
    "best_gb = grid.best_estimator_\n",
    "best_gb.fit(X,y)"
   ]
  },
  {
   "cell_type": "code",
   "execution_count": null,
   "metadata": {
    "ExecuteTime": {
     "start_time": "2022-10-27T20:34:58.847Z"
    }
   },
   "outputs": [],
   "source": [
    "# save the model to a pickle file\n",
    "pickle_file_name = \"gb_gridsearch_proj1.pkl\"  \n",
    "\n",
    "with open(pickle_file_name, 'wb') as file:  \n",
    "    pickle.dump(grid, file)"
   ]
  },
  {
   "cell_type": "code",
   "execution_count": null,
   "metadata": {},
   "outputs": [],
   "source": [
    "# save the model to a pickle file\n",
    "pickle_file_name = \"gb_gridsearch_proj2.pkl\"  \n",
    "\n",
    "with open(pickle_file_name, 'wb') as file:  \n",
    "    pickle.dump(gb_learningrate, file)"
   ]
  },
  {
   "cell_type": "code",
   "execution_count": 14,
   "metadata": {
    "ExecuteTime": {
     "end_time": "2022-10-27T19:50:18.139053Z",
     "start_time": "2022-10-27T19:50:18.129048Z"
    }
   },
   "outputs": [],
   "source": [
    "# import time \n",
    "# start = time.time()\n",
    "# all_training = pd.DataFrame()\n",
    "# all_test = pd.DataFrame()\n",
    "# for seedN in tqdm(range(1,10,1)):\n",
    "#     X_train, X_test, y_train, y_test = train_test_split(X,y, \n",
    "#                                                         test_size=0.25, random_state=seedN)\n",
    "\n",
    "#     training_accuracy = []\n",
    "#     test_accuracy = []\n",
    "#     maxdepth_settings = range(1, 11) # try maxdepth from 1 to 10\n",
    "\n",
    "#     for depth in tqdm(maxdepth_settings):   \n",
    "#         tree = GradientBoostingClassifier(max_depth=depth)  # build the model\n",
    "#         tree.fit(X_train, y_train)\n",
    "\n",
    "#         training_accuracy.append(tree.score(X_train, y_train)) # record training set accuracy\n",
    "#         test_accuracy.append(tree.score(X_test, y_test))   # record generalization accuracy\n",
    "    \n",
    "#     all_training[seedN]=training_accuracy\n",
    "#     all_test[seedN] = test_accuracy\n",
    "# print(\"Runtime (in secs): \", time.time() - start)"
   ]
  },
  {
   "cell_type": "code",
   "execution_count": null,
   "metadata": {
    "ExecuteTime": {
     "end_time": "2022-10-27T20:23:49.484205Z",
     "start_time": "2022-10-27T20:23:49.484205Z"
    }
   },
   "outputs": [],
   "source": [
    "# from sklearn import svm, datasets\n",
    "# from sklearn.model_selection import GridSearchCV\n",
    "# iris = datasets.load_iris()\n",
    "# parameters = {'kernel':('linear', 'rbf'), 'C':[1, 10]}\n",
    "# svc = svm.SVC()\n",
    "# clf = GridSearchCV(svc, parameters)\n",
    "# clf.fit(iris.data, iris.target)\n",
    "# GridSearchCV(estimator=SVC(),\n",
    "#              param_grid={'C': [1, 10], 'kernel': ('linear', 'rbf')})\n",
    "# sorted(clf.cv_results_.keys())\n",
    "# ['mean_fit_time', 'mean_score_time', 'mean_test_score',...\n",
    "#  'param_C', 'param_kernel', 'params',...\n",
    "#  'rank_test_score', 'split0_test_score',...\n",
    "#  'split2_test_score', ...\n",
    "#  'std_fit_time', 'std_score_time', 'std_test_score']\n"
   ]
  },
  {
   "cell_type": "code",
   "execution_count": null,
   "metadata": {
    "ExecuteTime": {
     "start_time": "2022-10-27T15:38:14.194Z"
    }
   },
   "outputs": [],
   "source": [
    "fig = plt.figure(figsize=(15, 6))\n",
    "plt.errorbar(maxdepth_settings, all_training.mean(axis=1),\n",
    "             yerr=all_training.std(axis=1), label=\"training accuracy\")\n",
    "plt.errorbar(maxdepth_settings, all_test.mean(axis=1),\n",
    "             yerr=all_test.std(axis=1), label=\"test accuracy\")\n",
    "plt.ylabel(\"Accuracy\")\n",
    "plt.xlabel(\"max_depth\")\n",
    "plt.legend()\n",
    "bestdepth=np.argmax(all_test.mean(axis=1))+1\n",
    "print(\"Highest Average Test Set Achieved = %f\" % np.amax(all_test.mean(axis=1)))\n",
    "print(\"Best max_depth Parameters = %d\" %bestdepth )"
   ]
  },
  {
   "cell_type": "code",
   "execution_count": null,
   "metadata": {
    "ExecuteTime": {
     "start_time": "2022-10-27T15:38:14.573Z"
    }
   },
   "outputs": [],
   "source": [
    "# save the model to a pickle file\n",
    "pickle_file_name = \"tree_proj.pkl\"  \n",
    "\n",
    "with open(pickle_file_name, 'wb') as file:  \n",
    "    pickle.dump(tree, file)"
   ]
  },
  {
   "cell_type": "code",
   "execution_count": null,
   "metadata": {
    "ExecuteTime": {
     "start_time": "2022-10-27T15:38:14.880Z"
    }
   },
   "outputs": [],
   "source": [
    "all_training = pd.DataFrame()\n",
    "all_test = pd.DataFrame()\n",
    "for seedN in tqdm(range(1,10,1)):\n",
    "    X_train, X_test, y_train, y_test = train_test_split(X,y, \n",
    "                                                        test_size=0.25, random_state=seedN)\n",
    "\n",
    "    training_accuracy = []\n",
    "    test_accuracy = []\n",
    "    learningrate_settings = np.arange(0.1, 0.3, 0.05) # try learning_rate from 0.1 to 0.3\n",
    "\n",
    "    for rate in tqdm(learningrate_settings):   \n",
    "        gb_learningrate = GradientBoostingClassifier(learning_rate=rate)  # build the model\n",
    "        gb_learningrate.fit(X_train, y_train)\n",
    "\n",
    "        training_accuracy.append(gb_learningrate.score(X_train, y_train)) # record training set accuracy\n",
    "        test_accuracy.append(gb_learningrate.score(X_test, y_test))   # record generalization accuracy\n",
    "    \n",
    "    all_training[seedN]=training_accuracy\n",
    "    all_test[seedN] = test_accuracy"
   ]
  },
  {
   "cell_type": "code",
   "execution_count": null,
   "metadata": {
    "ExecuteTime": {
     "start_time": "2022-10-27T15:38:15.117Z"
    }
   },
   "outputs": [],
   "source": [
    "fig = plt.figure(figsize=(15, 6))\n",
    "plt.errorbar(learningrate_settings, all_training.mean(axis=1),\n",
    "             yerr=all_training.std(axis=1), label=\"training accuracy\")\n",
    "plt.errorbar(learningrate_settings, all_test.mean(axis=1),\n",
    "             yerr=all_test.std(axis=1), label=\"test accuracy\")\n",
    "plt.ylabel(\"Accuracy\")\n",
    "plt.xlabel(\"learning_rate\")\n",
    "plt.legend()\n",
    "bestdepth=np.argmax(all_test.mean(axis=1))+1\n",
    "print(\"Highest Average Test Set Achieved = %f\" % np.amax(all_test.mean(axis=1)))\n",
    "print(\"Best learning_rate Parameters = %d\" %bestdepth )"
   ]
  },
  {
   "cell_type": "code",
   "execution_count": null,
   "metadata": {
    "ExecuteTime": {
     "start_time": "2022-10-27T15:38:15.377Z"
    }
   },
   "outputs": [],
   "source": [
    "# save the model to a pickle file\n",
    "pickle_file_name = \"gb_learningrate_proj.pkl\"  \n",
    "\n",
    "with open(pickle_file_name, 'wb') as file:  \n",
    "    pickle.dump(gb_learningrate, file)"
   ]
  },
  {
   "cell_type": "code",
   "execution_count": null,
   "metadata": {},
   "outputs": [],
   "source": []
  },
  {
   "cell_type": "code",
   "execution_count": null,
   "metadata": {
    "ExecuteTime": {
     "start_time": "2022-10-27T15:38:16.374Z"
    }
   },
   "outputs": [],
   "source": [
    "import time \n",
    "start = time.time()\n",
    "all_training = pd.DataFrame()\n",
    "all_test = pd.DataFrame()\n",
    "for seedN in tqdm(range(1,10,1)):\n",
    "    X_train, X_test, y_train, y_test = train_test_split(X,y, \n",
    "                                                        test_size=0.25, random_state=seedN)\n",
    "\n",
    "    training_accuracy = []\n",
    "    test_accuracy = []\n",
    "    n_estimators_settings = range(1, 100) # try number of boosting stages from 1 to 100\n",
    "\n",
    "    for stage in tqdm(n_estimator_settings):   \n",
    "        gb_stage = GradientBoostingClassifier(n_estimators=stage)  # build the model\n",
    "        gb_stage.fit(X_train, y_train)\n",
    "\n",
    "        training_accuracy.append(gb_stage.score(X_train, y_train)) # record training set accuracy\n",
    "        test_accuracy.append(gb_stage.score(X_test, y_test))   # record generalization accuracy\n",
    "    \n",
    "    all_training[seedN]=training_accuracy\n",
    "    all_test[seedN] = test_accuracy\n",
    "print(\"Runtime (in secs): \", time.time() - start)"
   ]
  },
  {
   "cell_type": "code",
   "execution_count": null,
   "metadata": {
    "ExecuteTime": {
     "start_time": "2022-10-27T15:38:16.954Z"
    }
   },
   "outputs": [],
   "source": [
    "fig = plt.figure(figsize=(15, 6))\n",
    "plt.errorbar(n_estimators_settings, all_training.mean(axis=1),\n",
    "             yerr=all_training.std(axis=1), label=\"training accuracy\")\n",
    "plt.errorbar(n_estimators_settings, all_test.mean(axis=1),\n",
    "             yerr=all_test.std(axis=1), label=\"test accuracy\")\n",
    "plt.ylabel(\"Accuracy\")\n",
    "plt.xlabel(\"Boosting Stages\")\n",
    "plt.legend()\n",
    "bestdepth=np.argmax(all_test.mean(axis=1))+1\n",
    "print(\"Highest Average Test Set Achieved = %f\" % np.amax(all_test.mean(axis=1)))\n",
    "print(\"Best n_estimators (Boosting Stage) Parameters = %d\" %bestdepth )"
   ]
  },
  {
   "cell_type": "code",
   "execution_count": null,
   "metadata": {
    "ExecuteTime": {
     "start_time": "2022-10-27T15:38:17.296Z"
    }
   },
   "outputs": [],
   "source": [
    "# save the model to a pickle file\n",
    "pickle_file_name = \"gb_n_estimators_proj.pkl\"  \n",
    "\n",
    "with open(pickle_file_name, 'wb') as file:  \n",
    "    pickle.dump(gb_stage, file)"
   ]
  },
  {
   "cell_type": "code",
   "execution_count": null,
   "metadata": {},
   "outputs": [],
   "source": []
  },
  {
   "cell_type": "markdown",
   "metadata": {},
   "source": [
    "<u>Advantages</u>:\n",
    "\n",
    "(1) Invariant to scaling of the data\n",
    "\n",
    "<u>Disadvantages</u>:\n",
    "\n",
    "(1) Might be longer to run than the decision tree <br>\n",
    "(2) Sensitive to parameter choice <br>\n",
    "\n",
    "(3) Does not work well on sparse data"
   ]
  },
  {
   "cell_type": "code",
   "execution_count": null,
   "metadata": {},
   "outputs": [],
   "source": []
  },
  {
   "cell_type": "code",
   "execution_count": null,
   "metadata": {},
   "outputs": [],
   "source": []
  }
 ],
 "metadata": {
  "kernelspec": {
   "display_name": "Python 3 (ipykernel)",
   "language": "python",
   "name": "python3"
  },
  "language_info": {
   "codemirror_mode": {
    "name": "ipython",
    "version": 3
   },
   "file_extension": ".py",
   "mimetype": "text/x-python",
   "name": "python",
   "nbconvert_exporter": "python",
   "pygments_lexer": "ipython3",
   "version": "3.9.12"
  },
  "toc": {
   "base_numbering": 1,
   "nav_menu": {},
   "number_sections": true,
   "sideBar": true,
   "skip_h1_title": false,
   "title_cell": "Table of Contents",
   "title_sidebar": "Contents",
   "toc_cell": false,
   "toc_position": {},
   "toc_section_display": true,
   "toc_window_display": false
  },
  "varInspector": {
   "cols": {
    "lenName": 16,
    "lenType": 16,
    "lenVar": 40
   },
   "kernels_config": {
    "python": {
     "delete_cmd_postfix": "",
     "delete_cmd_prefix": "del ",
     "library": "var_list.py",
     "varRefreshCmd": "print(var_dic_list())"
    },
    "r": {
     "delete_cmd_postfix": ") ",
     "delete_cmd_prefix": "rm(",
     "library": "var_list.r",
     "varRefreshCmd": "cat(var_dic_list()) "
    }
   },
   "types_to_exclude": [
    "module",
    "function",
    "builtin_function_or_method",
    "instance",
    "_Feature"
   ],
   "window_display": false
  }
 },
 "nbformat": 4,
 "nbformat_minor": 4
}
