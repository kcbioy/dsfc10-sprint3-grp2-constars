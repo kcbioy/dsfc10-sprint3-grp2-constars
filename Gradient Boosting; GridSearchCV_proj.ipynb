{
 "cells": [
  {
   "cell_type": "markdown",
   "metadata": {},
   "source": [
    "<div><span style=\"background-color: #9e4244; padding-top: 80px; padding-right: 20px; padding-bottom: 50px; padding-left: 20px; color: white; font-size: 22px; font-weight: bold\">Session 3: Tree-Based Ensemble Models</span></div>"
   ]
  },
  {
   "cell_type": "markdown",
   "metadata": {},
   "source": [
    "by BYJ Cirio"
   ]
  },
  {
   "cell_type": "markdown",
   "metadata": {},
   "source": [
    "<div class=\"alert alert-danger alert-info\">\n",
    "     In this notebook you will be learning the different tree-based ensemble models. Specifically, the topics covered are as follows:<br>\n",
    "    <ol>\n",
    "        <li>Decision-Tree</li>\n",
    "        <li>Random Forest</li>\n",
    "        <li>Gradient Boosting</li>\n",
    "        <li><i>Exercise: Further hypertune the tree-based ensemble models</i></li>\n",
    "    </ol>\n",
    "</div>"
   ]
  },
  {
   "cell_type": "code",
   "execution_count": 28,
   "metadata": {
    "ExecuteTime": {
     "end_time": "2022-10-27T20:25:56.691431Z",
     "start_time": "2022-10-27T20:25:56.667424Z"
    }
   },
   "outputs": [],
   "source": [
    "# general libraries\n",
    "import warnings\n",
    "import numpy as np\n",
    "import pandas as pd\n",
    "from tqdm.notebook import tqdm\n",
    "from collections import Counter\n",
    "warnings.filterwarnings(\"ignore\")\n",
    "\n",
    "# visualization\n",
    "import seaborn as sns\n",
    "import matplotlib.pyplot as plt\n",
    "from wordcloud import WordCloud\n",
    "from nltk.corpus import stopwords\n",
    "\n",
    "# modelling\n",
    "from sklearn.model_selection import train_test_split\n",
    "from sklearn.model_selection import GridSearchCV, ShuffleSplit, StratifiedShuffleSplit\n",
    "from sklearn.linear_model import LogisticRegression\n",
    "from sklearn.tree import DecisionTreeClassifier\n",
    "from sklearn.ensemble import RandomForestClassifier, GradientBoostingClassifier"
   ]
  },
  {
   "cell_type": "code",
   "execution_count": null,
   "metadata": {},
   "outputs": [],
   "source": []
  },
  {
   "cell_type": "code",
   "execution_count": 9,
   "metadata": {
    "ExecuteTime": {
     "end_time": "2022-10-27T19:49:55.369261Z",
     "start_time": "2022-10-27T19:49:46.320515Z"
    }
   },
   "outputs": [
    {
     "data": {
      "text/html": [
       "<div>\n",
       "<style scoped>\n",
       "    .dataframe tbody tr th:only-of-type {\n",
       "        vertical-align: middle;\n",
       "    }\n",
       "\n",
       "    .dataframe tbody tr th {\n",
       "        vertical-align: top;\n",
       "    }\n",
       "\n",
       "    .dataframe thead th {\n",
       "        text-align: right;\n",
       "    }\n",
       "</style>\n",
       "<table border=\"1\" class=\"dataframe\">\n",
       "  <thead>\n",
       "    <tr style=\"text-align: right;\">\n",
       "      <th></th>\n",
       "      <th>lat</th>\n",
       "      <th>long</th>\n",
       "      <th>city_pop</th>\n",
       "      <th>amt</th>\n",
       "      <th>is_fraud</th>\n",
       "      <th>merch_lat</th>\n",
       "      <th>merch_long</th>\n",
       "      <th>trans_day</th>\n",
       "      <th>age</th>\n",
       "      <th>gender_M</th>\n",
       "      <th>...</th>\n",
       "      <th>trans_month_str_Mar</th>\n",
       "      <th>trans_month_str_May</th>\n",
       "      <th>trans_month_str_Nov</th>\n",
       "      <th>trans_month_str_Oct</th>\n",
       "      <th>trans_month_str_Sep</th>\n",
       "      <th>part_of_day_afternoon</th>\n",
       "      <th>part_of_day_breakfast</th>\n",
       "      <th>part_of_day_dinner</th>\n",
       "      <th>part_of_day_early morning</th>\n",
       "      <th>part_of_day_lunch</th>\n",
       "    </tr>\n",
       "  </thead>\n",
       "  <tbody>\n",
       "    <tr>\n",
       "      <th>0</th>\n",
       "      <td>14.5833</td>\n",
       "      <td>121.0333</td>\n",
       "      <td>386276</td>\n",
       "      <td>35.16</td>\n",
       "      <td>0</td>\n",
       "      <td>15.288587</td>\n",
       "      <td>120.878945</td>\n",
       "      <td>21</td>\n",
       "      <td>63</td>\n",
       "      <td>1</td>\n",
       "      <td>...</td>\n",
       "      <td>0</td>\n",
       "      <td>0</td>\n",
       "      <td>0</td>\n",
       "      <td>1</td>\n",
       "      <td>0</td>\n",
       "      <td>1</td>\n",
       "      <td>0</td>\n",
       "      <td>0</td>\n",
       "      <td>0</td>\n",
       "      <td>0</td>\n",
       "    </tr>\n",
       "    <tr>\n",
       "      <th>1</th>\n",
       "      <td>14.5833</td>\n",
       "      <td>121.0333</td>\n",
       "      <td>386276</td>\n",
       "      <td>69.11</td>\n",
       "      <td>0</td>\n",
       "      <td>15.126879</td>\n",
       "      <td>120.581111</td>\n",
       "      <td>10</td>\n",
       "      <td>62</td>\n",
       "      <td>1</td>\n",
       "      <td>...</td>\n",
       "      <td>0</td>\n",
       "      <td>0</td>\n",
       "      <td>0</td>\n",
       "      <td>0</td>\n",
       "      <td>0</td>\n",
       "      <td>0</td>\n",
       "      <td>0</td>\n",
       "      <td>0</td>\n",
       "      <td>1</td>\n",
       "      <td>0</td>\n",
       "    </tr>\n",
       "    <tr>\n",
       "      <th>2</th>\n",
       "      <td>14.5833</td>\n",
       "      <td>121.0333</td>\n",
       "      <td>386276</td>\n",
       "      <td>64.68</td>\n",
       "      <td>0</td>\n",
       "      <td>13.602285</td>\n",
       "      <td>121.657351</td>\n",
       "      <td>15</td>\n",
       "      <td>62</td>\n",
       "      <td>1</td>\n",
       "      <td>...</td>\n",
       "      <td>0</td>\n",
       "      <td>0</td>\n",
       "      <td>0</td>\n",
       "      <td>0</td>\n",
       "      <td>0</td>\n",
       "      <td>0</td>\n",
       "      <td>0</td>\n",
       "      <td>0</td>\n",
       "      <td>1</td>\n",
       "      <td>0</td>\n",
       "    </tr>\n",
       "    <tr>\n",
       "      <th>3</th>\n",
       "      <td>14.5833</td>\n",
       "      <td>121.0333</td>\n",
       "      <td>386276</td>\n",
       "      <td>87.48</td>\n",
       "      <td>0</td>\n",
       "      <td>13.613058</td>\n",
       "      <td>121.609547</td>\n",
       "      <td>17</td>\n",
       "      <td>62</td>\n",
       "      <td>1</td>\n",
       "      <td>...</td>\n",
       "      <td>0</td>\n",
       "      <td>1</td>\n",
       "      <td>0</td>\n",
       "      <td>0</td>\n",
       "      <td>0</td>\n",
       "      <td>0</td>\n",
       "      <td>1</td>\n",
       "      <td>0</td>\n",
       "      <td>0</td>\n",
       "      <td>0</td>\n",
       "    </tr>\n",
       "    <tr>\n",
       "      <th>4</th>\n",
       "      <td>14.5833</td>\n",
       "      <td>121.0333</td>\n",
       "      <td>386276</td>\n",
       "      <td>5.53</td>\n",
       "      <td>0</td>\n",
       "      <td>14.694617</td>\n",
       "      <td>121.334535</td>\n",
       "      <td>22</td>\n",
       "      <td>63</td>\n",
       "      <td>1</td>\n",
       "      <td>...</td>\n",
       "      <td>0</td>\n",
       "      <td>0</td>\n",
       "      <td>0</td>\n",
       "      <td>0</td>\n",
       "      <td>0</td>\n",
       "      <td>1</td>\n",
       "      <td>0</td>\n",
       "      <td>0</td>\n",
       "      <td>0</td>\n",
       "      <td>0</td>\n",
       "    </tr>\n",
       "  </tbody>\n",
       "</table>\n",
       "<p>5 rows × 387 columns</p>\n",
       "</div>"
      ],
      "text/plain": [
       "       lat      long  city_pop    amt  is_fraud  merch_lat  merch_long  \\\n",
       "0  14.5833  121.0333    386276  35.16         0  15.288587  120.878945   \n",
       "1  14.5833  121.0333    386276  69.11         0  15.126879  120.581111   \n",
       "2  14.5833  121.0333    386276  64.68         0  13.602285  121.657351   \n",
       "3  14.5833  121.0333    386276  87.48         0  13.613058  121.609547   \n",
       "4  14.5833  121.0333    386276   5.53         0  14.694617  121.334535   \n",
       "\n",
       "   trans_day  age  gender_M  ...  trans_month_str_Mar  trans_month_str_May  \\\n",
       "0         21   63         1  ...                    0                    0   \n",
       "1         10   62         1  ...                    0                    0   \n",
       "2         15   62         1  ...                    0                    0   \n",
       "3         17   62         1  ...                    0                    1   \n",
       "4         22   63         1  ...                    0                    0   \n",
       "\n",
       "   trans_month_str_Nov  trans_month_str_Oct  trans_month_str_Sep  \\\n",
       "0                    0                    1                    0   \n",
       "1                    0                    0                    0   \n",
       "2                    0                    0                    0   \n",
       "3                    0                    0                    0   \n",
       "4                    0                    0                    0   \n",
       "\n",
       "   part_of_day_afternoon  part_of_day_breakfast  part_of_day_dinner  \\\n",
       "0                      1                      0                   0   \n",
       "1                      0                      0                   0   \n",
       "2                      0                      0                   0   \n",
       "3                      0                      1                   0   \n",
       "4                      1                      0                   0   \n",
       "\n",
       "   part_of_day_early morning  part_of_day_lunch  \n",
       "0                          0                  0  \n",
       "1                          1                  0  \n",
       "2                          1                  0  \n",
       "3                          0                  0  \n",
       "4                          0                  0  \n",
       "\n",
       "[5 rows x 387 columns]"
      ]
     },
     "execution_count": 9,
     "metadata": {},
     "output_type": "execute_result"
    }
   ],
   "source": [
    "df = pd.read_csv('data/cc_df_proj.csv', nrows=100000)\n",
    "df.head()"
   ]
  },
  {
   "cell_type": "code",
   "execution_count": 10,
   "metadata": {
    "ExecuteTime": {
     "end_time": "2022-10-27T19:49:56.028622Z",
     "start_time": "2022-10-27T19:49:55.414021Z"
    }
   },
   "outputs": [
    {
     "name": "stdout",
     "output_type": "stream",
     "text": [
      "Would Recommend:       0\n",
      "0  99142\n",
      "1    858\n",
      "Proportion Chance Criterion: 98.30%\n",
      "1.25 * Proportion Chance Criterion: 122.87%\n"
     ]
    },
    {
     "data": {
      "image/png": "[encoded data removed]",
      "text/plain": [
       "<Figure size 640x480 with 1 Axes>"
      ]
     },
     "metadata": {},
     "output_type": "display_data"
    }
   ],
   "source": [
    "state_counts = Counter(df['is_fraud'])\n",
    "df_state = pd.DataFrame.from_dict(state_counts, orient='index')\n",
    "df_state.plot(kind='bar', color='pink')\n",
    "\n",
    "num=(df_state[0]/df_state[0].sum())**2\n",
    "\n",
    "print(\"Would Recommend:{}\".format(df_state))\n",
    "\n",
    "print(\"Proportion Chance Criterion: {:0.2f}%\".format(100*num.sum()))\n",
    "print(\"1.25 * Proportion Chance Criterion: {:0.2f}%\".format(1.25*100*num.sum()))"
   ]
  },
  {
   "cell_type": "code",
   "execution_count": 11,
   "metadata": {
    "ExecuteTime": {
     "end_time": "2022-10-27T19:49:57.809275Z",
     "start_time": "2022-10-27T19:49:56.045631Z"
    }
   },
   "outputs": [],
   "source": [
    "X = df.drop(['is_fraud'], axis=1)\n",
    "y = df['is_fraud']\n",
    "(X_train, X_test, y_train, y_test) = train_test_split(X, \n",
    "                                                      y, \n",
    "                                                      random_state=42, \n",
    "                                                      test_size=0.25) "
   ]
  },
  {
   "cell_type": "code",
   "execution_count": 15,
   "metadata": {
    "ExecuteTime": {
     "end_time": "2022-10-27T19:50:21.996990Z",
     "start_time": "2022-10-27T19:50:21.971985Z"
    }
   },
   "outputs": [],
   "source": [
    "import pickle as pkl"
   ]
  },
  {
   "cell_type": "markdown",
   "metadata": {},
   "source": [
    "<div><span style=\"background-color: #ff0257; padding-top: 100px; padding-right: 20px; padding-bottom: 50px; padding-left: 20px; color: #FFFAF0; font-size: 18px; font-weight: bold\">Gradient Boosting </span></div>"
   ]
  },
  {
   "cell_type": "markdown",
   "metadata": {},
   "source": [
    "<b>Gradient boosting</b> works by building trees in a serial manner, where each tree tries to correct the mistakes of the previous one"
   ]
  },
  {
   "cell_type": "markdown",
   "metadata": {},
   "source": [
    "<i>learning_rate</i>- how strongly each tree tries to correct the mistakes of the previous trees <br>"
   ]
  },
  {
   "cell_type": "code",
   "execution_count": 29,
   "metadata": {
    "ExecuteTime": {
     "end_time": "2022-10-27T20:27:50.197767Z",
     "start_time": "2022-10-27T20:26:01.042110Z"
    }
   },
   "outputs": [
    {
     "name": "stdout",
     "output_type": "stream",
     "text": [
      "Fitting GBM\n",
      "Fitting 3 folds for each of 12 candidates, totalling 36 fits\n",
      "The best model is GradientBoostingClassifier(learning_rate=0.3, max_depth=2, n_estimators=2,\n",
      "                           random_state=42)\n",
      "Runtime (in seconds):  109.1326515674591\n"
     ]
    }
   ],
   "source": [
    "import time \n",
    "start = time.time()\n",
    "\n",
    "print(\"Fitting GBM\")\n",
    "\n",
    "param_grid = {\"n_estimators\": np.arange(1,3),\n",
    "             \"learning_rate\": [0.10, 0.20, 0.30],\n",
    "             \"max_depth\": np.arange(1,3)}\n",
    "\n",
    "gb = GradientBoostingClassifier(random_state = 42)\n",
    "\n",
    "shuffle_split = StratifiedShuffleSplit(n_splits = 3, test_size = 0.25)\n",
    "\n",
    "\n",
    "grid = GridSearchCV(gb, param_grid, cv=shuffle_split, n_jobs = 2, verbose = 2)\n",
    "\n",
    "grid.fit(X,y)\n",
    "\n",
    "print(\"The best model is %s\" % grid.best_estimator_)\n",
    "print(\"Runtime (in seconds): \", time.time() - start)\n",
    "\n"
   ]
  },
  {
   "cell_type": "code",
   "execution_count": null,
   "metadata": {
    "ExecuteTime": {
     "start_time": "2022-10-27T20:32:31.964Z"
    }
   },
   "outputs": [
    {
     "name": "stdout",
     "output_type": "stream",
     "text": [
      "Fitting GBM\n",
      "Fitting 5 folds for each of 700 candidates, totalling 3500 fits\n"
     ]
    }
   ],
   "source": [
    "import time \n",
    "start = time.time()\n",
    "\n",
    "print(\"Fitting GBM\")\n",
    "\n",
    "param_grid = {\"n_estimators\": np.arange(1,11),\n",
    "             \"learning_rate\": [0.05, 0.10, 0.15, 0.20, 0.25, 0.30, 0.35],\n",
    "             \"max_depth\": np.arange(1,11)}\n",
    "\n",
    "gb = GradientBoostingClassifier(random_state = 42)\n",
    "\n",
    "shuffle_split = StratifiedShuffleSplit(n_splits = 5, test_size = 0.25)\n",
    "\n",
    "\n",
    "grid = GridSearchCV(gb, param_grid, cv=shuffle_split, n_jobs = 2, verbose = 10)\n",
    "\n",
    "grid.fit(X,y)\n",
    "\n",
    "print(\"The best model is %s\" % grid.best_estimator_)\n",
    "print(\"Runtime (in seconds): \", time.time() - start)\n",
    "\n"
   ]
  },
  {
   "cell_type": "code",
   "execution_count": null,
   "metadata": {
    "ExecuteTime": {
     "start_time": "2022-10-27T20:32:33.350Z"
    }
   },
   "outputs": [],
   "source": [
    "#best model\n",
    "best_gb = grid.best_estimator_\n",
    "best_gb.fit(X,y)"
   ]
  },
  {
   "cell_type": "code",
   "execution_count": null,
   "metadata": {
    "ExecuteTime": {
     "start_time": "2022-10-27T20:34:58.847Z"
    }
   },
   "outputs": [],
   "source": [
    "# save the model to a pickle file\n",
    "pickle_file_name = \"gb_gridsearch_proj1.pkl\"  \n",
    "\n",
    "with open(pickle_file_name, 'wb') as file:  \n",
    "    pickle.dump(grid, file)"
   ]
  },
  {
   "cell_type": "code",
   "execution_count": null,
   "metadata": {},
   "outputs": [],
   "source": [
    "# save the model to a pickle file\n",
    "pickle_file_name = \"gb_gridsearch_proj2.pkl\"  \n",
    "\n",
    "with open(pickle_file_name, 'wb') as file:  \n",
    "    pickle.dump(gb_learningrate, file)"
   ]
  },
  {
   "cell_type": "code",
   "execution_count": 14,
   "metadata": {
    "ExecuteTime": {
     "end_time": "2022-10-27T19:50:18.139053Z",
     "start_time": "2022-10-27T19:50:18.129048Z"
    }
   },
   "outputs": [],
   "source": [
    "# import time \n",
    "# start = time.time()\n",
    "# all_training = pd.DataFrame()\n",
    "# all_test = pd.DataFrame()\n",
    "# for seedN in tqdm(range(1,10,1)):\n",
    "#     X_train, X_test, y_train, y_test = train_test_split(X,y, \n",
    "#                                                         test_size=0.25, random_state=seedN)\n",
    "\n",
    "#     training_accuracy = []\n",
    "#     test_accuracy = []\n",
    "#     maxdepth_settings = range(1, 11) # try maxdepth from 1 to 10\n",
    "\n",
    "#     for depth in tqdm(maxdepth_settings):   \n",
    "#         tree = GradientBoostingClassifier(max_depth=depth)  # build the model\n",
    "#         tree.fit(X_train, y_train)\n",
    "\n",
    "#         training_accuracy.append(tree.score(X_train, y_train)) # record training set accuracy\n",
    "#         test_accuracy.append(tree.score(X_test, y_test))   # record generalization accuracy\n",
    "    \n",
    "#     all_training[seedN]=training_accuracy\n",
    "#     all_test[seedN] = test_accuracy\n",
    "# print(\"Runtime (in secs): \", time.time() - start)"
   ]
  },
  {
   "cell_type": "code",
   "execution_count": null,
   "metadata": {
    "ExecuteTime": {
     "end_time": "2022-10-27T20:23:49.484205Z",
     "start_time": "2022-10-27T20:23:49.484205Z"
    }
   },
   "outputs": [],
   "source": [
    "# from sklearn import svm, datasets\n",
    "# from sklearn.model_selection import GridSearchCV\n",
    "# iris = datasets.load_iris()\n",
    "# parameters = {'kernel':('linear', 'rbf'), 'C':[1, 10]}\n",
    "# svc = svm.SVC()\n",
    "# clf = GridSearchCV(svc, parameters)\n",
    "# clf.fit(iris.data, iris.target)\n",
    "# GridSearchCV(estimator=SVC(),\n",
    "#              param_grid={'C': [1, 10], 'kernel': ('linear', 'rbf')})\n",
    "# sorted(clf.cv_results_.keys())\n",
    "# ['mean_fit_time', 'mean_score_time', 'mean_test_score',...\n",
    "#  'param_C', 'param_kernel', 'params',...\n",
    "#  'rank_test_score', 'split0_test_score',...\n",
    "#  'split2_test_score', ...\n",
    "#  'std_fit_time', 'std_score_time', 'std_test_score']\n"
   ]
  },
  {
   "cell_type": "code",
   "execution_count": null,
   "metadata": {
    "ExecuteTime": {
     "start_time": "2022-10-27T15:38:14.194Z"
    }
   },
   "outputs": [],
   "source": [
    "fig = plt.figure(figsize=(15, 6))\n",
    "plt.errorbar(maxdepth_settings, all_training.mean(axis=1),\n",
    "             yerr=all_training.std(axis=1), label=\"training accuracy\")\n",
    "plt.errorbar(maxdepth_settings, all_test.mean(axis=1),\n",
    "             yerr=all_test.std(axis=1), label=\"test accuracy\")\n",
    "plt.ylabel(\"Accuracy\")\n",
    "plt.xlabel(\"max_depth\")\n",
    "plt.legend()\n",
    "bestdepth=np.argmax(all_test.mean(axis=1))+1\n",
    "print(\"Highest Average Test Set Achieved = %f\" % np.amax(all_test.mean(axis=1)))\n",
    "print(\"Best max_depth Parameters = %d\" %bestdepth )"
   ]
  },
  {
   "cell_type": "code",
   "execution_count": null,
   "metadata": {
    "ExecuteTime": {
     "start_time": "2022-10-27T15:38:14.573Z"
    }
   },
   "outputs": [],
   "source": [
    "# save the model to a pickle file\n",
    "pickle_file_name = \"tree_proj.pkl\"  \n",
    "\n",
    "with open(pickle_file_name, 'wb') as file:  \n",
    "    pickle.dump(tree, file)"
   ]
  },
  {
   "cell_type": "code",
   "execution_count": null,
   "metadata": {
    "ExecuteTime": {
     "start_time": "2022-10-27T15:38:14.880Z"
    }
   },
   "outputs": [],
   "source": [
    "all_training = pd.DataFrame()\n",
    "all_test = pd.DataFrame()\n",
    "for seedN in tqdm(range(1,10,1)):\n",
    "    X_train, X_test, y_train, y_test = train_test_split(X,y, \n",
    "                                                        test_size=0.25, random_state=seedN)\n",
    "\n",
    "    training_accuracy = []\n",
    "    test_accuracy = []\n",
    "    learningrate_settings = np.arange(0.1, 0.3, 0.05) # try learning_rate from 0.1 to 0.3\n",
    "\n",
    "    for rate in tqdm(learningrate_settings):   \n",
    "        gb_learningrate = GradientBoostingClassifier(learning_rate=rate)  # build the model\n",
    "        gb_learningrate.fit(X_train, y_train)\n",
    "\n",
    "        training_accuracy.append(gb_learningrate.score(X_train, y_train)) # record training set accuracy\n",
    "        test_accuracy.append(gb_learningrate.score(X_test, y_test))   # record generalization accuracy\n",
    "    \n",
    "    all_training[seedN]=training_accuracy\n",
    "    all_test[seedN] = test_accuracy"
   ]
  },
  {
   "cell_type": "code",
   "execution_count": null,
   "metadata": {
    "ExecuteTime": {
     "start_time": "2022-10-27T15:38:15.117Z"
    }
   },
   "outputs": [],
   "source": [
    "fig = plt.figure(figsize=(15, 6))\n",
    "plt.errorbar(learningrate_settings, all_training.mean(axis=1),\n",
    "             yerr=all_training.std(axis=1), label=\"training accuracy\")\n",
    "plt.errorbar(learningrate_settings, all_test.mean(axis=1),\n",
    "             yerr=all_test.std(axis=1), label=\"test accuracy\")\n",
    "plt.ylabel(\"Accuracy\")\n",
    "plt.xlabel(\"learning_rate\")\n",
    "plt.legend()\n",
    "bestdepth=np.argmax(all_test.mean(axis=1))+1\n",
    "print(\"Highest Average Test Set Achieved = %f\" % np.amax(all_test.mean(axis=1)))\n",
    "print(\"Best learning_rate Parameters = %d\" %bestdepth )"
   ]
  },
  {
   "cell_type": "code",
   "execution_count": null,
   "metadata": {
    "ExecuteTime": {
     "start_time": "2022-10-27T15:38:15.377Z"
    }
   },
   "outputs": [],
   "source": [
    "# save the model to a pickle file\n",
    "pickle_file_name = \"gb_learningrate_proj.pkl\"  \n",
    "\n",
    "with open(pickle_file_name, 'wb') as file:  \n",
    "    pickle.dump(gb_learningrate, file)"
   ]
  },
  {
   "cell_type": "code",
   "execution_count": null,
   "metadata": {},
   "outputs": [],
   "source": []
  },
  {
   "cell_type": "code",
   "execution_count": null,
   "metadata": {
    "ExecuteTime": {
     "start_time": "2022-10-27T15:38:16.374Z"
    }
   },
   "outputs": [],
   "source": [
    "import time \n",
    "start = time.time()\n",
    "all_training = pd.DataFrame()\n",
    "all_test = pd.DataFrame()\n",
    "for seedN in tqdm(range(1,10,1)):\n",
    "    X_train, X_test, y_train, y_test = train_test_split(X,y, \n",
    "                                                        test_size=0.25, random_state=seedN)\n",
    "\n",
    "    training_accuracy = []\n",
    "    test_accuracy = []\n",
    "    n_estimators_settings = range(1, 100) # try number of boosting stages from 1 to 100\n",
    "\n",
    "    for stage in tqdm(n_estimator_settings):   \n",
    "        gb_stage = GradientBoostingClassifier(n_estimators=stage)  # build the model\n",
    "        gb_stage.fit(X_train, y_train)\n",
    "\n",
    "        training_accuracy.append(gb_stage.score(X_train, y_train)) # record training set accuracy\n",
    "        test_accuracy.append(gb_stage.score(X_test, y_test))   # record generalization accuracy\n",
    "    \n",
    "    all_training[seedN]=training_accuracy\n",
    "    all_test[seedN] = test_accuracy\n",
    "print(\"Runtime (in secs): \", time.time() - start)"
   ]
  },
  {
   "cell_type": "code",
   "execution_count": null,
   "metadata": {
    "ExecuteTime": {
     "start_time": "2022-10-27T15:38:16.954Z"
    }
   },
   "outputs": [],
   "source": [
    "fig = plt.figure(figsize=(15, 6))\n",
    "plt.errorbar(n_estimators_settings, all_training.mean(axis=1),\n",
    "             yerr=all_training.std(axis=1), label=\"training accuracy\")\n",
    "plt.errorbar(n_estimators_settings, all_test.mean(axis=1),\n",
    "             yerr=all_test.std(axis=1), label=\"test accuracy\")\n",
    "plt.ylabel(\"Accuracy\")\n",
    "plt.xlabel(\"Boosting Stages\")\n",
    "plt.legend()\n",
    "bestdepth=np.argmax(all_test.mean(axis=1))+1\n",
    "print(\"Highest Average Test Set Achieved = %f\" % np.amax(all_test.mean(axis=1)))\n",
    "print(\"Best n_estimators (Boosting Stage) Parameters = %d\" %bestdepth )"
   ]
  },
  {
   "cell_type": "code",
   "execution_count": null,
   "metadata": {
    "ExecuteTime": {
     "start_time": "2022-10-27T15:38:17.296Z"
    }
   },
   "outputs": [],
   "source": [
    "# save the model to a pickle file\n",
    "pickle_file_name = \"gb_n_estimators_proj.pkl\"  \n",
    "\n",
    "with open(pickle_file_name, 'wb') as file:  \n",
    "    pickle.dump(gb_stage, file)"
   ]
  },
  {
   "cell_type": "code",
   "execution_count": null,
   "metadata": {},
   "outputs": [],
   "source": []
  },
  {
   "cell_type": "markdown",
   "metadata": {},
   "source": [
    "<u>Advantages</u>:\n",
    "\n",
    "(1) Invariant to scaling of the data\n",
    "\n",
    "<u>Disadvantages</u>:\n",
    "\n",
    "(1) Might be longer to run than the decision tree <br>\n",
    "(2) Sensitive to parameter choice <br>\n",
    "\n",
    "(3) Does not work well on sparse data"
   ]
  },
  {
   "cell_type": "code",
   "execution_count": null,
   "metadata": {},
   "outputs": [],
   "source": []
  },
  {
   "cell_type": "code",
   "execution_count": null,
   "metadata": {},
   "outputs": [],
   "source": []
  }
 ],
 "metadata": {
  "kernelspec": {
   "display_name": "Python 3 (ipykernel)",
   "language": "python",
   "name": "python3"
  },
  "language_info": {
   "codemirror_mode": {
    "name": "ipython",
    "version": 3
   },
   "file_extension": ".py",
   "mimetype": "text/x-python",
   "name": "python",
   "nbconvert_exporter": "python",
   "pygments_lexer": "ipython3",
   "version": "3.9.12"
  },
  "toc": {
   "base_numbering": 1,
   "nav_menu": {},
   "number_sections": true,
   "sideBar": true,
   "skip_h1_title": false,
   "title_cell": "Table of Contents",
   "title_sidebar": "Contents",
   "toc_cell": false,
   "toc_position": {},
   "toc_section_display": true,
   "toc_window_display": false
  },
  "varInspector": {
   "cols": {
    "lenName": 16,
    "lenType": 16,
    "lenVar": 40
   },
   "kernels_config": {
    "python": {
     "delete_cmd_postfix": "",
     "delete_cmd_prefix": "del ",
     "library": "var_list.py",
     "varRefreshCmd": "print(var_dic_list())"
    },
    "r": {
     "delete_cmd_postfix": ") ",
     "delete_cmd_prefix": "rm(",
     "library": "var_list.r",
     "varRefreshCmd": "cat(var_dic_list()) "
    }
   },
   "types_to_exclude": [
    "module",
    "function",
    "builtin_function_or_method",
    "instance",
    "_Feature"
   ],
   "window_display": false
  }
 },
 "nbformat": 4,
 "nbformat_minor": 4
}
