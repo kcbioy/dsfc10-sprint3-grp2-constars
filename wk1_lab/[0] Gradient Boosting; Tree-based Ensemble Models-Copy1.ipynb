{
 "cells": [
  {
   "cell_type": "code",
   "execution_count": 7,
   "metadata": {
    "ExecuteTime": {
     "end_time": "2022-10-21T07:21:12.706156Z",
     "start_time": "2022-10-21T07:21:12.683152Z"
    }
   },
   "outputs": [],
   "source": [
    "# general libraries\n",
    "import warnings\n",
    "import numpy as np\n",
    "import pandas as pd\n",
    "from tqdm.notebook import tqdm\n",
    "from collections import Counter\n",
    "warnings.filterwarnings(\"ignore\")\n",
    "\n",
    "# visualization\n",
    "import seaborn as sns\n",
    "import matplotlib.pyplot as plt\n",
    "from wordcloud import WordCloud\n",
    "from nltk.corpus import stopwords\n",
    "\n",
    "# modelling\n",
    "from sklearn.model_selection import train_test_split\n",
    "from sklearn.linear_model import LogisticRegression\n",
    "from sklearn.tree import DecisionTreeClassifier\n",
    "from sklearn.ensemble import RandomForestClassifier, GradientBoostingClassifier"
   ]
  },
  {
   "cell_type": "code",
   "execution_count": 8,
   "metadata": {
    "ExecuteTime": {
     "end_time": "2022-10-21T07:21:18.061952Z",
     "start_time": "2022-10-21T07:21:15.680327Z"
    }
   },
   "outputs": [
    {
     "data": {
      "text/html": [
       "<div>\n",
       "<style scoped>\n",
       "    .dataframe tbody tr th:only-of-type {\n",
       "        vertical-align: middle;\n",
       "    }\n",
       "\n",
       "    .dataframe tbody tr th {\n",
       "        vertical-align: top;\n",
       "    }\n",
       "\n",
       "    .dataframe thead th {\n",
       "        text-align: right;\n",
       "    }\n",
       "</style>\n",
       "<table border=\"1\" class=\"dataframe\">\n",
       "  <thead>\n",
       "    <tr style=\"text-align: right;\">\n",
       "      <th></th>\n",
       "      <th>lat</th>\n",
       "      <th>long</th>\n",
       "      <th>city_pop</th>\n",
       "      <th>amt</th>\n",
       "      <th>is_fraud</th>\n",
       "      <th>merch_lat</th>\n",
       "      <th>merch_long</th>\n",
       "      <th>trans_day</th>\n",
       "      <th>age</th>\n",
       "      <th>gender_F</th>\n",
       "      <th>...</th>\n",
       "      <th>trans_month__Mar</th>\n",
       "      <th>trans_month__May</th>\n",
       "      <th>trans_month__Nov</th>\n",
       "      <th>trans_month__Oct</th>\n",
       "      <th>trans_month__Sep</th>\n",
       "      <th>part_of_day_afternoon</th>\n",
       "      <th>part_of_day_breakfast</th>\n",
       "      <th>part_of_day_dinner</th>\n",
       "      <th>part_of_day_early morning</th>\n",
       "      <th>part_of_day_lunch</th>\n",
       "    </tr>\n",
       "  </thead>\n",
       "  <tbody>\n",
       "    <tr>\n",
       "      <th>0</th>\n",
       "      <td>9.65</td>\n",
       "      <td>123.85</td>\n",
       "      <td>105051</td>\n",
       "      <td>825.04</td>\n",
       "      <td>1</td>\n",
       "      <td>9.265518</td>\n",
       "      <td>123.368859</td>\n",
       "      <td>13</td>\n",
       "      <td>60</td>\n",
       "      <td>0</td>\n",
       "      <td>...</td>\n",
       "      <td>0</td>\n",
       "      <td>0</td>\n",
       "      <td>0</td>\n",
       "      <td>0</td>\n",
       "      <td>0</td>\n",
       "      <td>0</td>\n",
       "      <td>0</td>\n",
       "      <td>1</td>\n",
       "      <td>0</td>\n",
       "      <td>0</td>\n",
       "    </tr>\n",
       "    <tr>\n",
       "      <th>1</th>\n",
       "      <td>9.65</td>\n",
       "      <td>123.85</td>\n",
       "      <td>105051</td>\n",
       "      <td>306.55</td>\n",
       "      <td>1</td>\n",
       "      <td>9.236416</td>\n",
       "      <td>124.337292</td>\n",
       "      <td>12</td>\n",
       "      <td>60</td>\n",
       "      <td>0</td>\n",
       "      <td>...</td>\n",
       "      <td>0</td>\n",
       "      <td>0</td>\n",
       "      <td>0</td>\n",
       "      <td>0</td>\n",
       "      <td>0</td>\n",
       "      <td>0</td>\n",
       "      <td>0</td>\n",
       "      <td>0</td>\n",
       "      <td>1</td>\n",
       "      <td>0</td>\n",
       "    </tr>\n",
       "    <tr>\n",
       "      <th>2</th>\n",
       "      <td>9.65</td>\n",
       "      <td>123.85</td>\n",
       "      <td>105051</td>\n",
       "      <td>346.48</td>\n",
       "      <td>1</td>\n",
       "      <td>9.460644</td>\n",
       "      <td>124.461767</td>\n",
       "      <td>12</td>\n",
       "      <td>60</td>\n",
       "      <td>0</td>\n",
       "      <td>...</td>\n",
       "      <td>0</td>\n",
       "      <td>0</td>\n",
       "      <td>0</td>\n",
       "      <td>0</td>\n",
       "      <td>0</td>\n",
       "      <td>0</td>\n",
       "      <td>0</td>\n",
       "      <td>0</td>\n",
       "      <td>0</td>\n",
       "      <td>1</td>\n",
       "    </tr>\n",
       "    <tr>\n",
       "      <th>3</th>\n",
       "      <td>9.65</td>\n",
       "      <td>123.85</td>\n",
       "      <td>105051</td>\n",
       "      <td>919.50</td>\n",
       "      <td>1</td>\n",
       "      <td>10.606020</td>\n",
       "      <td>123.930862</td>\n",
       "      <td>12</td>\n",
       "      <td>60</td>\n",
       "      <td>0</td>\n",
       "      <td>...</td>\n",
       "      <td>0</td>\n",
       "      <td>0</td>\n",
       "      <td>0</td>\n",
       "      <td>0</td>\n",
       "      <td>0</td>\n",
       "      <td>0</td>\n",
       "      <td>0</td>\n",
       "      <td>0</td>\n",
       "      <td>1</td>\n",
       "      <td>0</td>\n",
       "    </tr>\n",
       "    <tr>\n",
       "      <th>4</th>\n",
       "      <td>9.65</td>\n",
       "      <td>123.85</td>\n",
       "      <td>105051</td>\n",
       "      <td>1131.45</td>\n",
       "      <td>1</td>\n",
       "      <td>8.806183</td>\n",
       "      <td>123.719528</td>\n",
       "      <td>13</td>\n",
       "      <td>60</td>\n",
       "      <td>0</td>\n",
       "      <td>...</td>\n",
       "      <td>0</td>\n",
       "      <td>0</td>\n",
       "      <td>0</td>\n",
       "      <td>0</td>\n",
       "      <td>0</td>\n",
       "      <td>0</td>\n",
       "      <td>0</td>\n",
       "      <td>1</td>\n",
       "      <td>0</td>\n",
       "      <td>0</td>\n",
       "    </tr>\n",
       "  </tbody>\n",
       "</table>\n",
       "<p>5 rows × 951 columns</p>\n",
       "</div>"
      ],
      "text/plain": [
       "    lat    long  city_pop      amt  is_fraud  merch_lat  merch_long  \\\n",
       "0  9.65  123.85    105051   825.04         1   9.265518  123.368859   \n",
       "1  9.65  123.85    105051   306.55         1   9.236416  124.337292   \n",
       "2  9.65  123.85    105051   346.48         1   9.460644  124.461767   \n",
       "3  9.65  123.85    105051   919.50         1  10.606020  123.930862   \n",
       "4  9.65  123.85    105051  1131.45         1   8.806183  123.719528   \n",
       "\n",
       "   trans_day  age  gender_F  ...  trans_month__Mar  trans_month__May  \\\n",
       "0         13   60         0  ...                 0                 0   \n",
       "1         12   60         0  ...                 0                 0   \n",
       "2         12   60         0  ...                 0                 0   \n",
       "3         12   60         0  ...                 0                 0   \n",
       "4         13   60         0  ...                 0                 0   \n",
       "\n",
       "   trans_month__Nov  trans_month__Oct  trans_month__Sep  \\\n",
       "0                 0                 0                 0   \n",
       "1                 0                 0                 0   \n",
       "2                 0                 0                 0   \n",
       "3                 0                 0                 0   \n",
       "4                 0                 0                 0   \n",
       "\n",
       "   part_of_day_afternoon  part_of_day_breakfast  part_of_day_dinner  \\\n",
       "0                      0                      0                   1   \n",
       "1                      0                      0                   0   \n",
       "2                      0                      0                   0   \n",
       "3                      0                      0                   0   \n",
       "4                      0                      0                   1   \n",
       "\n",
       "   part_of_day_early morning  part_of_day_lunch  \n",
       "0                          0                  0  \n",
       "1                          1                  0  \n",
       "2                          0                  1  \n",
       "3                          1                  0  \n",
       "4                          0                  0  \n",
       "\n",
       "[5 rows x 951 columns]"
      ]
     },
     "execution_count": 8,
     "metadata": {},
     "output_type": "execute_result"
    }
   ],
   "source": [
    "df = pd.read_csv('data/cc_df.csv', nrows=10000)\n",
    "df.head()"
   ]
  },
  {
   "cell_type": "code",
   "execution_count": 9,
   "metadata": {
    "ExecuteTime": {
     "end_time": "2022-10-21T07:21:21.152409Z",
     "start_time": "2022-10-21T07:21:20.782870Z"
    }
   },
   "outputs": [
    {
     "name": "stdout",
     "output_type": "stream",
     "text": [
      "Would Recommend:      0\n",
      "1   100\n",
      "0  9900\n",
      "Proportion Chance Criterion: 98.02%\n",
      "1.25 * Proportion Chance Criterion: 122.52%\n"
     ]
    },
    {
     "data": {
      "image/png": "[encoded data removed]",
      "text/plain": [
       "<Figure size 640x480 with 1 Axes>"
      ]
     },
     "metadata": {},
     "output_type": "display_data"
    }
   ],
   "source": [
    "state_counts = Counter(df['is_fraud'])\n",
    "df_state = pd.DataFrame.from_dict(state_counts, orient='index')\n",
    "df_state.plot(kind='bar', color='pink')\n",
    "\n",
    "num=(df_state[0]/df_state[0].sum())**2\n",
    "\n",
    "print(\"Would Recommend:{}\".format(df_state))\n",
    "\n",
    "print(\"Proportion Chance Criterion: {:0.2f}%\".format(100*num.sum()))\n",
    "print(\"1.25 * Proportion Chance Criterion: {:0.2f}%\".format(1.25*100*num.sum()))"
   ]
  },
  {
   "cell_type": "code",
   "execution_count": 10,
   "metadata": {
    "ExecuteTime": {
     "end_time": "2022-10-21T07:21:22.846344Z",
     "start_time": "2022-10-21T07:21:22.392186Z"
    }
   },
   "outputs": [],
   "source": [
    "X = df.drop(['is_fraud'], axis=1)\n",
    "y = df['is_fraud']\n",
    "(X_train, X_test, y_train, y_test) = train_test_split(X, \n",
    "                                                      y, \n",
    "                                                      random_state=42, \n",
    "                                                      test_size=0.25) "
   ]
  },
  {
   "cell_type": "code",
   "execution_count": 15,
   "metadata": {
    "ExecuteTime": {
     "end_time": "2022-10-21T08:02:47.001844Z",
     "start_time": "2022-10-21T08:02:46.971836Z"
    }
   },
   "outputs": [],
   "source": [
    "import pickle"
   ]
  },
  {
   "cell_type": "markdown",
   "metadata": {},
   "source": [
    "<div><span style=\"background-color: #ff0257; padding-top: 100px; padding-right: 20px; padding-bottom: 50px; padding-left: 20px; color: #FFFAF0; font-size: 18px; font-weight: bold\">Gradient Boosting </span></div>"
   ]
  },
  {
   "cell_type": "markdown",
   "metadata": {},
   "source": [
    "<b>Gradient boosting</b> works by building trees in a serial manner, where each tree tries to correct the mistakes of the previous one"
   ]
  },
  {
   "cell_type": "markdown",
   "metadata": {},
   "source": [
    "<i>learning_rate</i>- how strongly each tree tries to correct the mistakes of the previous trees <br>"
   ]
  },
  {
   "cell_type": "code",
   "execution_count": 12,
   "metadata": {
    "ExecuteTime": {
     "end_time": "2022-10-21T08:01:32.189406Z",
     "start_time": "2022-10-21T07:21:25.685472Z"
    }
   },
   "outputs": [
    {
     "data": {
      "application/vnd.jupyter.widget-view+json": {
       "model_id": "77be32023fde43dd9f020ebf5d9c01a1",
       "version_major": 2,
       "version_minor": 0
      },
      "text/plain": [
       "  0%|          | 0/9 [00:00<?, ?it/s]"
      ]
     },
     "metadata": {},
     "output_type": "display_data"
    },
    {
     "data": {
      "application/vnd.jupyter.widget-view+json": {
       "model_id": "e7b7473369214cb08dc89843450e664b",
       "version_major": 2,
       "version_minor": 0
      },
      "text/plain": [
       "  0%|          | 0/10 [00:00<?, ?it/s]"
      ]
     },
     "metadata": {},
     "output_type": "display_data"
    },
    {
     "data": {
      "application/vnd.jupyter.widget-view+json": {
       "model_id": "8b983e08e08d47cbb79cfc312f9204a4",
       "version_major": 2,
       "version_minor": 0
      },
      "text/plain": [
       "  0%|          | 0/10 [00:00<?, ?it/s]"
      ]
     },
     "metadata": {},
     "output_type": "display_data"
    },
    {
     "data": {
      "application/vnd.jupyter.widget-view+json": {
       "model_id": "73f5ea3e39934b94b68684bdbbb418d7",
       "version_major": 2,
       "version_minor": 0
      },
      "text/plain": [
       "  0%|          | 0/10 [00:00<?, ?it/s]"
      ]
     },
     "metadata": {},
     "output_type": "display_data"
    },
    {
     "data": {
      "application/vnd.jupyter.widget-view+json": {
       "model_id": "11937490a77643f1a4ff6c27d881a24d",
       "version_major": 2,
       "version_minor": 0
      },
      "text/plain": [
       "  0%|          | 0/10 [00:00<?, ?it/s]"
      ]
     },
     "metadata": {},
     "output_type": "display_data"
    },
    {
     "data": {
      "application/vnd.jupyter.widget-view+json": {
       "model_id": "2fb726b223774b64bf5c9d5eb9a3ff58",
       "version_major": 2,
       "version_minor": 0
      },
      "text/plain": [
       "  0%|          | 0/10 [00:00<?, ?it/s]"
      ]
     },
     "metadata": {},
     "output_type": "display_data"
    },
    {
     "data": {
      "application/vnd.jupyter.widget-view+json": {
       "model_id": "88148985c6b8424e9548e3c911209716",
       "version_major": 2,
       "version_minor": 0
      },
      "text/plain": [
       "  0%|          | 0/10 [00:00<?, ?it/s]"
      ]
     },
     "metadata": {},
     "output_type": "display_data"
    },
    {
     "data": {
      "application/vnd.jupyter.widget-view+json": {
       "model_id": "6572c3c7255d4ce29037cf3969b962a1",
       "version_major": 2,
       "version_minor": 0
      },
      "text/plain": [
       "  0%|          | 0/10 [00:00<?, ?it/s]"
      ]
     },
     "metadata": {},
     "output_type": "display_data"
    },
    {
     "data": {
      "application/vnd.jupyter.widget-view+json": {
       "model_id": "966bef46c48b4b81a27f8ac4285562b0",
       "version_major": 2,
       "version_minor": 0
      },
      "text/plain": [
       "  0%|          | 0/10 [00:00<?, ?it/s]"
      ]
     },
     "metadata": {},
     "output_type": "display_data"
    },
    {
     "data": {
      "application/vnd.jupyter.widget-view+json": {
       "model_id": "dd3eeb0e13674ef6b23c28105d582153",
       "version_major": 2,
       "version_minor": 0
      },
      "text/plain": [
       "  0%|          | 0/10 [00:00<?, ?it/s]"
      ]
     },
     "metadata": {},
     "output_type": "display_data"
    },
    {
     "name": "stdout",
     "output_type": "stream",
     "text": [
      "Runtime (in secs):  2406.3865456581116\n"
     ]
    }
   ],
   "source": [
    "import time \n",
    "start = time.time()\n",
    "all_training = pd.DataFrame()\n",
    "all_test = pd.DataFrame()\n",
    "for seedN in tqdm(range(1,10,1)):\n",
    "    X_train, X_test, y_train, y_test = train_test_split(X,y, \n",
    "                                                        test_size=0.25, random_state=seedN)\n",
    "\n",
    "    training_accuracy = []\n",
    "    test_accuracy = []\n",
    "    maxdepth_settings = range(1, 11) # try maxdepth from 1 to 10\n",
    "\n",
    "    for depth in tqdm(maxdepth_settings):   \n",
    "        tree = GradientBoostingClassifier(max_depth=depth)  # build the model\n",
    "        tree.fit(X_train, y_train)\n",
    "\n",
    "        training_accuracy.append(tree.score(X_train, y_train)) # record training set accuracy\n",
    "        test_accuracy.append(tree.score(X_test, y_test))   # record generalization accuracy\n",
    "    \n",
    "    all_training[seedN]=training_accuracy\n",
    "    all_test[seedN] = test_accuracy\n",
    "print(\"Runtime (in secs): \", time.time() - start)"
   ]
  },
  {
   "cell_type": "code",
   "execution_count": 13,
   "metadata": {
    "ExecuteTime": {
     "end_time": "2022-10-21T08:02:24.089701Z",
     "start_time": "2022-10-21T08:02:23.049449Z"
    }
   },
   "outputs": [
    {
     "name": "stdout",
     "output_type": "stream",
     "text": [
      "Highest Average Test Set Achieved = 0.995156\n",
      "Best max_depth Parameters = 8\n"
     ]
    },
    {
     "data": {
      "image/png": "[encoded data removed]",
      "text/plain": [
       "<Figure size 1500x600 with 1 Axes>"
      ]
     },
     "metadata": {},
     "output_type": "display_data"
    }
   ],
   "source": [
    "fig = plt.figure(figsize=(15, 6))\n",
    "plt.errorbar(maxdepth_settings, all_training.mean(axis=1),\n",
    "             yerr=all_training.std(axis=1), label=\"training accuracy\")\n",
    "plt.errorbar(maxdepth_settings, all_test.mean(axis=1),\n",
    "             yerr=all_test.std(axis=1), label=\"test accuracy\")\n",
    "plt.ylabel(\"Accuracy\")\n",
    "plt.xlabel(\"max_depth\")\n",
    "plt.legend()\n",
    "bestdepth=np.argmax(all_test.mean(axis=1))+1\n",
    "print(\"Highest Average Test Set Achieved = %f\" % np.amax(all_test.mean(axis=1)))\n",
    "print(\"Best max_depth Parameters = %d\" %bestdepth )"
   ]
  },
  {
   "cell_type": "code",
   "execution_count": 17,
   "metadata": {
    "ExecuteTime": {
     "end_time": "2022-10-21T08:03:00.922284Z",
     "start_time": "2022-10-21T08:03:00.871272Z"
    }
   },
   "outputs": [],
   "source": [
    "# save the model to a pickle file\n",
    "pickle_file_name = \"tree5.pkl\"  \n",
    "\n",
    "with open(pickle_file_name, 'wb') as file:  \n",
    "    pickle.dump(tree, file)"
   ]
  },
  {
   "cell_type": "code",
   "execution_count": 22,
   "metadata": {
    "ExecuteTime": {
     "end_time": "2022-10-21T09:26:51.293000Z",
     "start_time": "2022-10-21T08:26:37.748931Z"
    }
   },
   "outputs": [
    {
     "data": {
      "application/vnd.jupyter.widget-view+json": {
       "model_id": "4c5b664e779441a6847932ff368bade7",
       "version_major": 2,
       "version_minor": 0
      },
      "text/plain": [
       "  0%|          | 0/9 [00:00<?, ?it/s]"
      ]
     },
     "metadata": {},
     "output_type": "display_data"
    },
    {
     "data": {
      "application/vnd.jupyter.widget-view+json": {
       "model_id": "7fd25fb6b3d14734899f3600217ce6aa",
       "version_major": 2,
       "version_minor": 0
      },
      "text/plain": [
       "  0%|          | 0/19 [00:00<?, ?it/s]"
      ]
     },
     "metadata": {},
     "output_type": "display_data"
    },
    {
     "data": {
      "application/vnd.jupyter.widget-view+json": {
       "model_id": "90703bb20a14444582d6526055ce9cf7",
       "version_major": 2,
       "version_minor": 0
      },
      "text/plain": [
       "  0%|          | 0/19 [00:00<?, ?it/s]"
      ]
     },
     "metadata": {},
     "output_type": "display_data"
    },
    {
     "data": {
      "application/vnd.jupyter.widget-view+json": {
       "model_id": "399b6204255c4f2189dfbd45f295edeb",
       "version_major": 2,
       "version_minor": 0
      },
      "text/plain": [
       "  0%|          | 0/19 [00:00<?, ?it/s]"
      ]
     },
     "metadata": {},
     "output_type": "display_data"
    },
    {
     "data": {
      "application/vnd.jupyter.widget-view+json": {
       "model_id": "5489bac3b2084f709ca7f9646aafddf4",
       "version_major": 2,
       "version_minor": 0
      },
      "text/plain": [
       "  0%|          | 0/19 [00:00<?, ?it/s]"
      ]
     },
     "metadata": {},
     "output_type": "display_data"
    },
    {
     "data": {
      "application/vnd.jupyter.widget-view+json": {
       "model_id": "a189dd66177e4ddc9ce3dad13c49c618",
       "version_major": 2,
       "version_minor": 0
      },
      "text/plain": [
       "  0%|          | 0/19 [00:00<?, ?it/s]"
      ]
     },
     "metadata": {},
     "output_type": "display_data"
    },
    {
     "data": {
      "application/vnd.jupyter.widget-view+json": {
       "model_id": "f269002cbb95462a87c24742483ced8d",
       "version_major": 2,
       "version_minor": 0
      },
      "text/plain": [
       "  0%|          | 0/19 [00:00<?, ?it/s]"
      ]
     },
     "metadata": {},
     "output_type": "display_data"
    },
    {
     "data": {
      "application/vnd.jupyter.widget-view+json": {
       "model_id": "638d173d817b4baea6dc798a7f92aed0",
       "version_major": 2,
       "version_minor": 0
      },
      "text/plain": [
       "  0%|          | 0/19 [00:00<?, ?it/s]"
      ]
     },
     "metadata": {},
     "output_type": "display_data"
    },
    {
     "data": {
      "application/vnd.jupyter.widget-view+json": {
       "model_id": "60a55f88d4cc47f59062e43815472008",
       "version_major": 2,
       "version_minor": 0
      },
      "text/plain": [
       "  0%|          | 0/19 [00:00<?, ?it/s]"
      ]
     },
     "metadata": {},
     "output_type": "display_data"
    },
    {
     "data": {
      "application/vnd.jupyter.widget-view+json": {
       "model_id": "5a816c7c52794248a5a6ab26f7af693e",
       "version_major": 2,
       "version_minor": 0
      },
      "text/plain": [
       "  0%|          | 0/19 [00:00<?, ?it/s]"
      ]
     },
     "metadata": {},
     "output_type": "display_data"
    }
   ],
   "source": [
    "#start = time.time()\n",
    "all_training = pd.DataFrame()\n",
    "all_test = pd.DataFrame()\n",
    "for seedN in tqdm(range(1,10,1)):\n",
    "    X_train, X_test, y_train, y_test = train_test_split(X,y, \n",
    "                                                        test_size=0.25, random_state=seedN)\n",
    "\n",
    "    training_accuracy = []\n",
    "    test_accuracy = []\n",
    "    learningrate_settings = np.arange(0.01, 0.2, 0.01) # try learning_rate from 0.1 to 0.3\n",
    "\n",
    "    for rate in tqdm(learningrate_settings):   \n",
    "        gb_learningrate = GradientBoostingClassifier(learning_rate=rate)  # build the model\n",
    "        gb_learningrate.fit(X_train, y_train)\n",
    "\n",
    "        training_accuracy.append(gb_learningrate.score(X_train, y_train)) # record training set accuracy\n",
    "        test_accuracy.append(gb_learningrate.score(X_test, y_test))   # record generalization accuracy\n",
    "    \n",
    "    all_training[seedN]=training_accuracy\n",
    "    all_test[seedN] = test_accuracy\n",
    "\n",
    "#print(\"Runtime (in secs): \", time.time() - start)"
   ]
  },
  {
   "cell_type": "code",
   "execution_count": 23,
   "metadata": {
    "ExecuteTime": {
     "end_time": "2022-10-21T09:27:50.709276Z",
     "start_time": "2022-10-21T09:27:49.915701Z"
    }
   },
   "outputs": [
    {
     "name": "stdout",
     "output_type": "stream",
     "text": [
      "Highest Average Test Set Achieved = 0.995556\n",
      "Best learning_rate Parameters = 4\n"
     ]
    },
    {
     "data": {
      "image/png": "[encoded data removed]",
      "text/plain": [
       "<Figure size 1500x600 with 1 Axes>"
      ]
     },
     "metadata": {},
     "output_type": "display_data"
    }
   ],
   "source": [
    "fig = plt.figure(figsize=(15, 6))\n",
    "plt.errorbar(learningrate_settings, all_training.mean(axis=1),\n",
    "             yerr=all_training.std(axis=1), label=\"training accuracy\")\n",
    "plt.errorbar(learningrate_settings, all_test.mean(axis=1),\n",
    "             yerr=all_test.std(axis=1), label=\"test accuracy\")\n",
    "plt.ylabel(\"Accuracy\")\n",
    "plt.xlabel(\"learning_rate\")\n",
    "plt.legend()\n",
    "bestrate=np.argmax(all_test.mean(axis=1))+1\n",
    "print(\"Highest Average Test Set Achieved = %f\" % np.amax(all_test.mean(axis=1)))\n",
    "print(\"Best learning_rate Parameters = %d\" %bestrate )"
   ]
  },
  {
   "cell_type": "code",
   "execution_count": 27,
   "metadata": {
    "ExecuteTime": {
     "end_time": "2022-10-21T09:35:24.764722Z",
     "start_time": "2022-10-21T09:35:24.732711Z"
    }
   },
   "outputs": [],
   "source": [
    "# save the model to a pickle file\n",
    "pickle_file_name = \"gb_learningrate.pkl\"  \n",
    "\n",
    "with open(pickle_file_name, 'wb') as file:  \n",
    "    pkl.dump(gb_learningrate, file)"
   ]
  },
  {
   "cell_type": "code",
   "execution_count": null,
   "metadata": {},
   "outputs": [],
   "source": []
  },
  {
   "cell_type": "code",
   "execution_count": null,
   "metadata": {
    "ExecuteTime": {
     "end_time": "2022-10-21T07:20:57.676246Z",
     "start_time": "2022-10-21T07:20:57.676246Z"
    }
   },
   "outputs": [],
   "source": [
    "import time \n",
    "start = time.time()\n",
    "all_training = pd.DataFrame()\n",
    "all_test = pd.DataFrame()\n",
    "for seedN in tqdm(range(1,10,1)):\n",
    "    X_train, X_test, y_train, y_test = train_test_split(X,y, \n",
    "                                                        test_size=0.25, random_state=seedN)\n",
    "\n",
    "    training_accuracy = []\n",
    "    test_accuracy = []\n",
    "    n_estimators_settings = range(1, 100) # try number of boosting stages from 1 to 100\n",
    "\n",
    "    for stage in tqdm(n_estimator_settings):   \n",
    "        gb_stage = GradientBoostingClassifier(n_estimators=stage)  # build the model\n",
    "        gb_stage.fit(X_train, y_train)\n",
    "\n",
    "        training_accuracy.append(gb_stage.score(X_train, y_train)) # record training set accuracy\n",
    "        test_accuracy.append(gb_stage.score(X_test, y_test))   # record generalization accuracy\n",
    "    \n",
    "    all_training[seedN]=training_accuracy\n",
    "    all_test[seedN] = test_accuracy\n",
    "print(\"Runtime (in secs): \", time.time() - start)"
   ]
  },
  {
   "cell_type": "code",
   "execution_count": null,
   "metadata": {
    "ExecuteTime": {
     "end_time": "2022-10-21T07:20:57.684247Z",
     "start_time": "2022-10-21T07:20:57.684247Z"
    }
   },
   "outputs": [],
   "source": [
    "fig = plt.figure(figsize=(15, 6))\n",
    "plt.errorbar(n_estimators_settings, all_training.mean(axis=1),\n",
    "             yerr=all_training.std(axis=1), label=\"training accuracy\")\n",
    "plt.errorbar(n_estimators_settings, all_test.mean(axis=1),\n",
    "             yerr=all_test.std(axis=1), label=\"test accuracy\")\n",
    "plt.ylabel(\"Accuracy\")\n",
    "plt.xlabel(\"Boosting Stages\")\n",
    "plt.legend()\n",
    "beststage=np.argmax(all_test.mean(axis=1))+1\n",
    "print(\"Highest Average Test Set Achieved = %f\" % np.amax(all_test.mean(axis=1)))\n",
    "print(\"Best n_estimators (Boosting Stage) Parameters = %d\" %beststage )"
   ]
  },
  {
   "cell_type": "code",
   "execution_count": null,
   "metadata": {
    "ExecuteTime": {
     "end_time": "2022-10-21T07:20:57.693247Z",
     "start_time": "2022-10-21T07:20:57.693247Z"
    }
   },
   "outputs": [],
   "source": [
    "# save the model to a pickle file\n",
    "pickle_file_name = \"gb_n_estimators.pkl\"  \n",
    "\n",
    "with open(pickle_file_name, 'wb') as file:  \n",
    "    pickle.dump(gb_stage, file)"
   ]
  },
  {
   "cell_type": "code",
   "execution_count": null,
   "metadata": {},
   "outputs": [],
   "source": []
  },
  {
   "cell_type": "code",
   "execution_count": null,
   "metadata": {},
   "outputs": [],
   "source": [
    " "
   ]
  },
  {
   "cell_type": "markdown",
   "metadata": {},
   "source": [
    "<u>Advantages</u>:\n",
    "\n",
    "(1) Invariant to scaling of the data\n",
    "\n",
    "<u>Disadvantages</u>:\n",
    "\n",
    "(1) Might be longer to run than the decision tree <br>\n",
    "(2) Sensitive to parameter choice <br>\n",
    "\n",
    "(3) Does not work well on sparse data"
   ]
  }
 ],
 "metadata": {
  "kernelspec": {
   "display_name": "Python 3 (ipykernel)",
   "language": "python",
   "name": "python3"
  },
  "language_info": {
   "codemirror_mode": {
    "name": "ipython",
    "version": 3
   },
   "file_extension": ".py",
   "mimetype": "text/x-python",
   "name": "python",
   "nbconvert_exporter": "python",
   "pygments_lexer": "ipython3",
   "version": "3.9.12"
  },
  "toc": {
   "base_numbering": 1,
   "nav_menu": {},
   "number_sections": true,
   "sideBar": true,
   "skip_h1_title": false,
   "title_cell": "Table of Contents",
   "title_sidebar": "Contents",
   "toc_cell": false,
   "toc_position": {},
   "toc_section_display": true,
   "toc_window_display": false
  },
  "varInspector": {
   "cols": {
    "lenName": 16,
    "lenType": 16,
    "lenVar": 40
   },
   "kernels_config": {
    "python": {
     "delete_cmd_postfix": "",
     "delete_cmd_prefix": "del ",
     "library": "var_list.py",
     "varRefreshCmd": "print(var_dic_list())"
    },
    "r": {
     "delete_cmd_postfix": ") ",
     "delete_cmd_prefix": "rm(",
     "library": "var_list.r",
     "varRefreshCmd": "cat(var_dic_list()) "
    }
   },
   "types_to_exclude": [
    "module",
    "function",
    "builtin_function_or_method",
    "instance",
    "_Feature"
   ],
   "window_display": false
  }
 },
 "nbformat": 4,
 "nbformat_minor": 4
}
