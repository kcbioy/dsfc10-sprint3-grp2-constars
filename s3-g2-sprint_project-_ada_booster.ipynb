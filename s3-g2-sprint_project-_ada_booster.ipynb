{
 "cells": [
  {
   "cell_type": "markdown",
   "metadata": {},
   "source": [
    "<div><span style=\"background-color: #9e4244; padding-top: 80px; padding-right: 20px; padding-bottom: 50px; padding-left: 20px; color: white; font-size: 22px; font-weight: bold\">Session 8: Machine Learning Pipelines</span></div>"
   ]
  },
  {
   "cell_type": "markdown",
   "metadata": {},
   "source": [
    "by BYJ Cirio"
   ]
  },
  {
   "cell_type": "markdown",
   "metadata": {},
   "source": [
    "<div class=\"alert alert-danger alert-info\">\n",
    "     In this notebook you will learn how to automate your machine learning model pipelines. Specifically, the topics covered are as follows:<br>\n",
    "    <ol>\n",
    "        <li>Auto-ML</li>\n",
    "        <li>Grid-search CV/Randomized Search CV</li>\n",
    "        <li>Example project</li>\n",
    "    </ol>\n",
    "</div>"
   ]
  },
  {
   "cell_type": "code",
   "execution_count": 31,
   "metadata": {
    "ExecuteTime": {
     "end_time": "2022-06-25T17:06:40.840624Z",
     "start_time": "2022-06-25T17:06:26.941745Z"
    }
   },
   "outputs": [
    {
     "name": "stdout",
     "output_type": "stream",
     "text": [
      "Requirement already satisfied: termcolor in /Users/iggyfranco/Downloads/venv/lib/python3.9/site-packages (2.0.1)\n",
      "\n",
      "\u001b[1m[\u001b[0m\u001b[34;49mnotice\u001b[0m\u001b[1;39;49m]\u001b[0m\u001b[39;49m A new release of pip available: \u001b[0m\u001b[31;49m22.2.2\u001b[0m\u001b[39;49m -> \u001b[0m\u001b[32;49m22.3\u001b[0m\n",
      "\u001b[1m[\u001b[0m\u001b[34;49mnotice\u001b[0m\u001b[1;39;49m]\u001b[0m\u001b[39;49m To update, run: \u001b[0m\u001b[32;49mpip install --upgrade pip\u001b[0m\n",
      "Requirement already satisfied: imblearn in /Users/iggyfranco/Downloads/venv/lib/python3.9/site-packages (0.0)\n",
      "Requirement already satisfied: imbalanced-learn in /Users/iggyfranco/Downloads/venv/lib/python3.9/site-packages (from imblearn) (0.9.1)\n",
      "Requirement already satisfied: scikit-learn>=1.1.0 in /Users/iggyfranco/Downloads/venv/lib/python3.9/site-packages (from imbalanced-learn->imblearn) (1.1.3)\n",
      "Requirement already satisfied: threadpoolctl>=2.0.0 in /Users/iggyfranco/Downloads/venv/lib/python3.9/site-packages (from imbalanced-learn->imblearn) (3.1.0)\n",
      "Requirement already satisfied: numpy>=1.17.3 in /Users/iggyfranco/Downloads/venv/lib/python3.9/site-packages (from imbalanced-learn->imblearn) (1.20.3)\n",
      "Requirement already satisfied: scipy>=1.3.2 in /Users/iggyfranco/Downloads/venv/lib/python3.9/site-packages (from imbalanced-learn->imblearn) (1.7.2)\n",
      "Requirement already satisfied: joblib>=1.0.0 in /Users/iggyfranco/Downloads/venv/lib/python3.9/site-packages (from imbalanced-learn->imblearn) (1.2.0)\n",
      "\n",
      "\u001b[1m[\u001b[0m\u001b[34;49mnotice\u001b[0m\u001b[1;39;49m]\u001b[0m\u001b[39;49m A new release of pip available: \u001b[0m\u001b[31;49m22.2.2\u001b[0m\u001b[39;49m -> \u001b[0m\u001b[32;49m22.3\u001b[0m\n",
      "\u001b[1m[\u001b[0m\u001b[34;49mnotice\u001b[0m\u001b[1;39;49m]\u001b[0m\u001b[39;49m To update, run: \u001b[0m\u001b[32;49mpip install --upgrade pip\u001b[0m\n"
     ]
    }
   ],
   "source": [
    "# General Libraries\n",
    "import re\n",
    "import time\n",
    "import warnings\n",
    "import numpy as np\n",
    "import pandas as pd\n",
    "from tqdm.notebook import tqdm\n",
    "from collections import Counter\n",
    "warnings.filterwarnings(\"ignore\")\n",
    "\n",
    "# Visualizations\n",
    "import seaborn as sns\n",
    "!pip install termcolor\n",
    "from termcolor import colored\n",
    "import matplotlib.pyplot as plt\n",
    "import plotly.graph_objects as go\n",
    "\n",
    "# Sklearn\n",
    "from sklearn.preprocessing import MinMaxScaler\n",
    "from sklearn.model_selection import (train_test_split, GridSearchCV,\n",
    "                                     StratifiedKFold)\n",
    "from sklearn.neighbors import KNeighborsClassifier\n",
    "from sklearn.svm import SVC\n",
    "from sklearn.linear_model import LogisticRegression\n",
    "from sklearn.naive_bayes import GaussianNB\n",
    "from sklearn.tree import DecisionTreeClassifier\n",
    "from sklearn.ensemble import (RandomForestClassifier,  \n",
    "                              GradientBoostingClassifier,\n",
    "                              AdaBoostClassifier)\n",
    "from sklearn.model_selection import cross_validate\n",
    "from sklearn.metrics import (ConfusionMatrixDisplay, precision_score, recall_score)\n",
    "\n",
    "# Imblearn\n",
    "!pip install imblearn\n",
    "from imblearn.pipeline import Pipeline, make_pipeline\n",
    "from imblearn.over_sampling import (SMOTE, ADASYN, BorderlineSMOTE, SVMSMOTE)\n",
    "from imblearn.under_sampling import (TomekLinks, NearMiss, AllKNN,\n",
    "                                     EditedNearestNeighbours, \n",
    "                                     RepeatedEditedNearestNeighbours) \n",
    "from imblearn.combine import SMOTETomek, SMOTEENN\n",
    "\n",
    "# SHAP\n",
    "import shap"
   ]
  },
  {
   "cell_type": "code",
   "execution_count": 32,
   "metadata": {
    "ExecuteTime": {
     "end_time": "2022-06-25T17:06:47.142146Z",
     "start_time": "2022-06-25T17:06:40.843628Z"
    }
   },
   "outputs": [
    {
     "data": {
      "text/html": [
       "<div>\n",
       "<style scoped>\n",
       "    .dataframe tbody tr th:only-of-type {\n",
       "        vertical-align: middle;\n",
       "    }\n",
       "\n",
       "    .dataframe tbody tr th {\n",
       "        vertical-align: top;\n",
       "    }\n",
       "\n",
       "    .dataframe thead th {\n",
       "        text-align: right;\n",
       "    }\n",
       "</style>\n",
       "<table border=\"1\" class=\"dataframe\">\n",
       "  <thead>\n",
       "    <tr style=\"text-align: right;\">\n",
       "      <th></th>\n",
       "      <th>is_fraud</th>\n",
       "      <th>diff_datetime_hrs</th>\n",
       "      <th>prev_fraud</th>\n",
       "      <th>amt</th>\n",
       "      <th>city_pop</th>\n",
       "      <th>age</th>\n",
       "      <th>dist_to_merch_in_kms</th>\n",
       "      <th>category_entertainment</th>\n",
       "      <th>category_food_dining</th>\n",
       "      <th>category_gas_transport</th>\n",
       "      <th>...</th>\n",
       "      <th>city_San Pedro</th>\n",
       "      <th>city_Santa Rosa</th>\n",
       "      <th>city_Sorsogon</th>\n",
       "      <th>city_Surigao</th>\n",
       "      <th>city_Tacloban</th>\n",
       "      <th>city_Taguig City</th>\n",
       "      <th>city_Tagum</th>\n",
       "      <th>city_Tandag</th>\n",
       "      <th>city_Tarlac City</th>\n",
       "      <th>city_Valenzuela</th>\n",
       "    </tr>\n",
       "  </thead>\n",
       "  <tbody>\n",
       "    <tr>\n",
       "      <th>0</th>\n",
       "      <td>0</td>\n",
       "      <td>0.0</td>\n",
       "      <td>0.0</td>\n",
       "      <td>115.58</td>\n",
       "      <td>574089</td>\n",
       "      <td>83</td>\n",
       "      <td>66.720087</td>\n",
       "      <td>0</td>\n",
       "      <td>0</td>\n",
       "      <td>0</td>\n",
       "      <td>...</td>\n",
       "      <td>0</td>\n",
       "      <td>0</td>\n",
       "      <td>0</td>\n",
       "      <td>0</td>\n",
       "      <td>0</td>\n",
       "      <td>0</td>\n",
       "      <td>0</td>\n",
       "      <td>0</td>\n",
       "      <td>0</td>\n",
       "      <td>0</td>\n",
       "    </tr>\n",
       "    <tr>\n",
       "      <th>1</th>\n",
       "      <td>0</td>\n",
       "      <td>7.0</td>\n",
       "      <td>0.0</td>\n",
       "      <td>4.35</td>\n",
       "      <td>574089</td>\n",
       "      <td>83</td>\n",
       "      <td>89.750504</td>\n",
       "      <td>0</td>\n",
       "      <td>0</td>\n",
       "      <td>0</td>\n",
       "      <td>...</td>\n",
       "      <td>0</td>\n",
       "      <td>0</td>\n",
       "      <td>0</td>\n",
       "      <td>0</td>\n",
       "      <td>0</td>\n",
       "      <td>0</td>\n",
       "      <td>0</td>\n",
       "      <td>0</td>\n",
       "      <td>0</td>\n",
       "      <td>0</td>\n",
       "    </tr>\n",
       "    <tr>\n",
       "      <th>2</th>\n",
       "      <td>0</td>\n",
       "      <td>0.0</td>\n",
       "      <td>0.0</td>\n",
       "      <td>4.65</td>\n",
       "      <td>574089</td>\n",
       "      <td>83</td>\n",
       "      <td>31.625560</td>\n",
       "      <td>0</td>\n",
       "      <td>0</td>\n",
       "      <td>0</td>\n",
       "      <td>...</td>\n",
       "      <td>0</td>\n",
       "      <td>0</td>\n",
       "      <td>0</td>\n",
       "      <td>0</td>\n",
       "      <td>0</td>\n",
       "      <td>0</td>\n",
       "      <td>0</td>\n",
       "      <td>0</td>\n",
       "      <td>0</td>\n",
       "      <td>0</td>\n",
       "    </tr>\n",
       "    <tr>\n",
       "      <th>3</th>\n",
       "      <td>0</td>\n",
       "      <td>13.0</td>\n",
       "      <td>0.0</td>\n",
       "      <td>32.87</td>\n",
       "      <td>574089</td>\n",
       "      <td>83</td>\n",
       "      <td>112.130879</td>\n",
       "      <td>0</td>\n",
       "      <td>0</td>\n",
       "      <td>0</td>\n",
       "      <td>...</td>\n",
       "      <td>0</td>\n",
       "      <td>0</td>\n",
       "      <td>0</td>\n",
       "      <td>0</td>\n",
       "      <td>0</td>\n",
       "      <td>0</td>\n",
       "      <td>0</td>\n",
       "      <td>0</td>\n",
       "      <td>0</td>\n",
       "      <td>0</td>\n",
       "    </tr>\n",
       "    <tr>\n",
       "      <th>4</th>\n",
       "      <td>0</td>\n",
       "      <td>1.0</td>\n",
       "      <td>0.0</td>\n",
       "      <td>192.43</td>\n",
       "      <td>574089</td>\n",
       "      <td>83</td>\n",
       "      <td>101.931179</td>\n",
       "      <td>0</td>\n",
       "      <td>0</td>\n",
       "      <td>0</td>\n",
       "      <td>...</td>\n",
       "      <td>0</td>\n",
       "      <td>0</td>\n",
       "      <td>0</td>\n",
       "      <td>0</td>\n",
       "      <td>0</td>\n",
       "      <td>0</td>\n",
       "      <td>0</td>\n",
       "      <td>0</td>\n",
       "      <td>0</td>\n",
       "      <td>0</td>\n",
       "    </tr>\n",
       "  </tbody>\n",
       "</table>\n",
       "<p>5 rows × 254 columns</p>\n",
       "</div>"
      ],
      "text/plain": [
       "   is_fraud  diff_datetime_hrs  prev_fraud     amt  city_pop  age  \\\n",
       "0         0                0.0         0.0  115.58    574089   83   \n",
       "1         0                7.0         0.0    4.35    574089   83   \n",
       "2         0                0.0         0.0    4.65    574089   83   \n",
       "3         0               13.0         0.0   32.87    574089   83   \n",
       "4         0                1.0         0.0  192.43    574089   83   \n",
       "\n",
       "   dist_to_merch_in_kms  category_entertainment  category_food_dining  \\\n",
       "0             66.720087                       0                     0   \n",
       "1             89.750504                       0                     0   \n",
       "2             31.625560                       0                     0   \n",
       "3            112.130879                       0                     0   \n",
       "4            101.931179                       0                     0   \n",
       "\n",
       "   category_gas_transport  ...  city_San Pedro  city_Santa Rosa  \\\n",
       "0                       0  ...               0                0   \n",
       "1                       0  ...               0                0   \n",
       "2                       0  ...               0                0   \n",
       "3                       0  ...               0                0   \n",
       "4                       0  ...               0                0   \n",
       "\n",
       "   city_Sorsogon  city_Surigao  city_Tacloban  city_Taguig City  city_Tagum  \\\n",
       "0              0             0              0                 0           0   \n",
       "1              0             0              0                 0           0   \n",
       "2              0             0              0                 0           0   \n",
       "3              0             0              0                 0           0   \n",
       "4              0             0              0                 0           0   \n",
       "\n",
       "   city_Tandag  city_Tarlac City  city_Valenzuela  \n",
       "0            0                 0                0  \n",
       "1            0                 0                0  \n",
       "2            0                 0                0  \n",
       "3            0                 0                0  \n",
       "4            0                 0                0  \n",
       "\n",
       "[5 rows x 254 columns]"
      ]
     },
     "execution_count": 32,
     "metadata": {},
     "output_type": "execute_result"
    }
   ],
   "source": [
    "df = pd.read_csv('/Users/iggyfranco/Downloads/transactions_clean_onehot.csv', nrows=100000)\n",
    "to_drop = ['Unnamed: 0']\n",
    "df = df.drop(to_drop, axis=1)\n",
    "df['diff_datetime_hrs'] = df['diff_datetime_hrs'].fillna(0)\n",
    "df.head()"
   ]
  },
  {
   "cell_type": "code",
   "execution_count": 33,
   "metadata": {},
   "outputs": [
    {
     "name": "stdout",
     "output_type": "stream",
     "text": [
      "is_fraud\n",
      "diff_datetime_hrs\n",
      "prev_fraud\n",
      "amt\n",
      "city_pop\n",
      "age\n",
      "dist_to_merch_in_kms\n",
      "category_entertainment\n",
      "category_food_dining\n",
      "category_gas_transport\n",
      "category_grocery_pos\n",
      "category_health_fitness\n",
      "category_home\n",
      "category_kids_pets\n",
      "category_misc_pos\n",
      "category_personal_care\n",
      "category_shopping_pos\n",
      "category_travel\n",
      "prev_category_entertainment\n",
      "prev_category_food_dining\n",
      "prev_category_gas_transport\n",
      "prev_category_grocery_net\n",
      "prev_category_grocery_pos\n",
      "prev_category_health_fitness\n",
      "prev_category_home\n",
      "prev_category_kids_pets\n",
      "prev_category_misc_net\n",
      "prev_category_misc_pos\n",
      "prev_category_personal_care\n",
      "prev_category_shopping_net\n",
      "prev_category_shopping_pos\n",
      "prev_category_travel\n",
      "hrs_cat_<= 1hr\n",
      "hrs_cat_> 12hrs\n",
      "hrs_cat_> 1hr\n",
      "hrs_cat_> 24hrs\n",
      "hrs_cat_> 3hrs\n",
      "hrs_cat_> 6hrs\n",
      "merchant_360 Fitness Club\n",
      "merchant_ABS-CBN Corporation\n",
      "merchant_Ace Hardware\n",
      "merchant_Agila Bus Transport\n",
      "merchant_AirAsia\n",
      "merchant_Alfonso Liner\n",
      "merchant_All Day Supermarket\n",
      "merchant_Altisima Energy, Inc.\n",
      "merchant_Anytime Fitness\n",
      "merchant_Avon Cosmetics Inc.\n",
      "merchant_Baliwag Transit Inc\n",
      "merchant_Beiersdorf Philippines Inc.\n",
      "merchant_Bioresearch\n",
      "merchant_Bow & Wow\n",
      "merchant_Bratpack\n",
      "merchant_Buena Vista Travel and Tours\n",
      "merchant_Caltex (Chevron Corporation)\n",
      "merchant_Cebu Pacific\n",
      "merchant_Celebrity Fitness\n",
      "merchant_Centrum Fuel\n",
      "merchant_Chicco Philippines\n",
      "merchant_Classpass\n",
      "merchant_CleanFuel Philippines\n",
      "merchant_Club Gymnastica\n",
      "merchant_Colgate-Palmolive Philippines Inc.\n",
      "merchant_Comic Alley\n",
      "merchant_Cornerstone Entertainment\n",
      "merchant_Cosmetique Asia Corp.\n",
      "merchant_Crate and Barrel\n",
      "merchant_Curves\n",
      "merchant_DIY Hardware\n",
      "merchant_Daiso\n",
      "merchant_Debenhams\n",
      "merchant_Dunkin Brands Group Inc\n",
      "merchant_Eventscape Manila\n",
      "merchant_Ever Supermarket\n",
      "merchant_Fitness First\n",
      "merchant_FiveStar\n",
      "merchant_Flying V (TWA Inc.)\n",
      "merchant_Fully Booked\n",
      "merchant_GMA Pictures\n",
      "merchant_Gaisano Grand Group\n",
      "merchant_Genesis\n",
      "merchant_Gold's Gym\n",
      "merchant_Goldilocks Bakeshop Inc\n",
      "merchant_Gourdo\n",
      "merchant_Gourdos\n",
      "merchant_Happy Foods Group\n",
      "merchant_Hawk Bags\n",
      "merchant_Hill's Pet Nutrition Inc.\n",
      "merchant_Human Nature\n",
      "merchant_Iams Co\n",
      "merchant_Ikea\n",
      "merchant_Innisfree\n",
      "merchant_Inquirer Holdings Corporation\n",
      "merchant_Insular Oil Corp.\n",
      "merchant_JAM Liner\n",
      "merchant_Japan Home Center\n",
      "merchant_Japan Homes\n",
      "merchant_Jetti Petroleum Inc.\n",
      "merchant_Johnson & Johnson (Philippines) Inc.\n",
      "merchant_Jollibee Foods Corporation\n",
      "merchant_KCC Supermarket\n",
      "merchant_Kidzoona\n",
      "merchant_Kimberly Clarke\n",
      "merchant_Kultura\n",
      "merchant_L'Oreal Philippines Inc.\n",
      "merchant_Landers\n",
      "merchant_Landmark Corp\n",
      "merchant_Landmark Supermarket\n",
      "merchant_Liquigaz Philippines Corp.\n",
      "merchant_Mandaue Foam Industries Corp\n",
      "merchant_Marks and Spencer\n",
      "merchant_Mars Philippines Inc.\n",
      "merchant_Mary Grace Cafe\n",
      "merchant_Mary Kay Philippines\n",
      "merchant_Max's Group Inc\n",
      "merchant_McDonalds Corp\n",
      "merchant_Merkado Supermarket\n",
      "merchant_Metro Retail Stores Group\n",
      "merchant_Miniso\n",
      "merchant_Muji\n",
      "merchant_National Bookstore\n",
      "merchant_Nature Republic\n",
      "merchant_Nine Media Corporation\n",
      "merchant_Octagon\n",
      "merchant_Office Warehouse\n",
      "merchant_Pacific Paint Philippines Inc\n",
      "merchant_Pet Warehouse\n",
      "merchant_PetExpress\n",
      "merchant_Petron Corporation\n",
      "merchant_Philippine Airlines\n",
      "merchant_Philippine Educational Theater Association\n",
      "merchant_Phoenix Petroleum\n",
      "merchant_Pilipinas Shell\n",
      "merchant_Pioneer Center Supermarket\n",
      "merchant_Play Nation\n",
      "merchant_Point-to-Point\n",
      "merchant_Pottery Barn\n",
      "merchant_Pound for Pound Fitness\n",
      "merchant_Power Mac Center\n",
      "merchant_Procter & Gamble Philippines Inc.\n",
      "merchant_Ptt Philippines Corporation\n",
      "merchant_Puregold Price Club Inc\n",
      "merchant_RRCG Transport\n",
      "merchant_Rappler Holdings Corporation\n",
      "merchant_Rebel Yoga\n",
      "merchant_Robinsons Retail Holdings Inc\n",
      "merchant_Royal Canin Philippines\n",
      "merchant_Rustan Group\n",
      "merchant_Rustans\n",
      "merchant_Rustans Supermarket\n",
      "merchant_S&R Membership Shopping\n",
      "merchant_SB Furniture Industry Co\n",
      "merchant_SM Retail Inc\n",
      "merchant_Saulog Transit Inc\n",
      "merchant_Sawasdee Marketing Corp\n",
      "merchant_SeaOil Philippines Inc.\n",
      "merchant_Shakey's International Inc.\n",
      "merchant_SilanganFit\n",
      "merchant_Silicon Valley\n",
      "merchant_SkyJet\n",
      "merchant_Slimmers World\n",
      "merchant_Solar Entertainment\n",
      "merchant_Splash Corp.\n",
      "merchant_Stage Act Philippines Production Company\n",
      "merchant_Standard Hospitality Group\n",
      "merchant_Star Cinema\n",
      "merchant_Starbucks Corp\n",
      "merchant_Starmedia Entertainment\n",
      "merchant_Suyen Corporation\n",
      "merchant_TV5 Network Incorporated\n",
      "merchant_The Bistro Group\n",
      "merchant_The Moment Group\n",
      "merchant_The Table Group\n",
      "merchant_The Upper Deck Gym\n",
      "merchant_Tier One Entertainment\n",
      "merchant_Timezone\n",
      "merchant_Toby's Sports\n",
      "merchant_Total SE\n",
      "merchant_Toy Kingdom\n",
      "merchant_Toys R Us Philippines\n",
      "merchant_Travel Club\n",
      "merchant_True Value\n",
      "merchant_Tupperware Brands Philippines\n",
      "merchant_Typo\n",
      "merchant_UFC Gym\n",
      "merchant_Unilever Philippines Inc.\n",
      "merchant_Unimart\n",
      "merchant_Unioil Petroleum Philippines Inc.\n",
      "merchant_Uratex Philippines\n",
      "merchant_Urban Ashram Yoga\n",
      "merchant_Urban Pets\n",
      "merchant_Victory Liner\n",
      "merchant_Viva Entertainment\n",
      "merchant_Waltermart Supermarket Inc\n",
      "merchant_West Elm\n",
      "merchant_Yum! Brands Inc\n",
      "merchant_Yves Rocher\n",
      "city_Angeles City\n",
      "city_Antipolo\n",
      "city_Bacolod\n",
      "city_Bacoor\n",
      "city_Baguio City\n",
      "city_Batangas\n",
      "city_Borongan\n",
      "city_Cabadbaran\n",
      "city_Cabanatuan City\n",
      "city_Cadiz\n",
      "city_Caloocan City\n",
      "city_Cebu City\n",
      "city_City of Calamba\n",
      "city_City of Isabela\n",
      "city_City of Paranaque\n",
      "city_Cotabato\n",
      "city_Dasmarinas\n",
      "city_Digos\n",
      "city_Dipolog\n",
      "city_General Santos\n",
      "city_Ilagan\n",
      "city_Iligan\n",
      "city_Iloilo\n",
      "city_Laoag\n",
      "city_Legazpi City\n",
      "city_Lipa City\n",
      "city_Lucena\n",
      "city_Maasin\n",
      "city_Mabalacat\n",
      "city_Mandaluyong City\n",
      "city_Manila\n",
      "city_Marikina City\n",
      "city_Masbate\n",
      "city_Mati\n",
      "city_Muntinlupa City\n",
      "city_Naga City\n",
      "city_Navotas\n",
      "city_Olongapo\n",
      "city_Ormoc\n",
      "city_Oroquieta\n",
      "city_Pagadian\n",
      "city_Palayan City\n",
      "city_Pasay City\n",
      "city_Puerto Princesa\n",
      "city_San Fernando\n",
      "city_San Jose del Monte\n",
      "city_San Pablo\n",
      "city_San Pedro\n",
      "city_Santa Rosa\n",
      "city_Sorsogon\n",
      "city_Surigao\n",
      "city_Tacloban\n",
      "city_Taguig City\n",
      "city_Tagum\n",
      "city_Tandag\n",
      "city_Tarlac City\n",
      "city_Valenzuela\n"
     ]
    }
   ],
   "source": [
    "for col in df.columns:\n",
    "    print(col)"
   ]
  },
  {
   "cell_type": "code",
   "execution_count": 34,
   "metadata": {
    "ExecuteTime": {
     "end_time": "2022-06-25T17:06:59.724833Z",
     "start_time": "2022-06-25T17:06:59.489891Z"
    }
   },
   "outputs": [
    {
     "name": "stdout",
     "output_type": "stream",
     "text": [
      "Would Recommend:       0\n",
      "0  89155\n",
      "1    495\n",
      "Proportion Chance Criterion: 98.90%\n",
      "1.25 * Proportion Chance Criterion: 123.63%\n"
     ]
    },
    {
     "data": {
      "image/png": "[encoded data removed]",
      "text/plain": [
       "<Figure size 640x480 with 1 Axes>"
      ]
     },
     "metadata": {},
     "output_type": "display_data"
    }
   ],
   "source": [
    "state_counts = Counter(df['is_fraud'])\n",
    "df_state = pd.DataFrame.from_dict(state_counts, orient='index')\n",
    "df_state.plot(kind='bar', color='pink')\n",
    "\n",
    "num=(df_state[0]/df_state[0].sum())**2\n",
    "\n",
    "print(\"Would Recommend:{}\".format(df_state))\n",
    "\n",
    "print(\"Proportion Chance Criterion: {:0.2f}%\".format(100*num.sum()))\n",
    "print(\"1.25 * Proportion Chance Criterion: {:0.2f}%\".format(1.25*100*num.sum()))"
   ]
  },
  {
   "cell_type": "code",
   "execution_count": 35,
   "metadata": {
    "ExecuteTime": {
     "end_time": "2022-06-25T17:07:01.323651Z",
     "start_time": "2022-06-25T17:07:00.408410Z"
    }
   },
   "outputs": [],
   "source": [
    "X = df.drop(['is_fraud'], axis=1)\n",
    "y = df['is_fraud']\n",
    "(X_trainval, X_holdout, y_trainval, y_holdout) = train_test_split(X, y, \n",
    "                                                                  random_state=11, test_size=0.25,\n",
    "                                                                  stratify=y)"
   ]
  },
  {
   "cell_type": "markdown",
   "metadata": {},
   "source": [
    "<div><span style=\"background-color: #ff0257; padding-top: 100px; padding-right: 20px; padding-bottom: 50px; padding-left: 20px; color: #FFFAF0; font-size: 18px; font-weight: bold\">Auto-ML </span></div>"
   ]
  },
  {
   "cell_type": "code",
   "execution_count": 36,
   "metadata": {},
   "outputs": [],
   "source": [
    "models_dict = {'AdaBooster': AdaBoostClassifier()}"
   ]
  },
  {
   "cell_type": "code",
   "execution_count": 37,
   "metadata": {
    "ExecuteTime": {
     "end_time": "2022-06-25T17:07:04.220771Z",
     "start_time": "2022-06-25T17:07:04.197393Z"
    }
   },
   "outputs": [],
   "source": [
    "def auto_ml(X, y, models_dict, scaler=None, cv=None, res_t=None):\n",
    "    \"\"\"Apply resampling for imbalanced data\"\"\"\n",
    "    results = {}\n",
    "    results2 = {}\n",
    "\n",
    "    # log start time\n",
    "    total_start = time.time()\n",
    "\n",
    "    for model_name, model in tqdm(models_dict.items()):\n",
    "        \n",
    "        ################# this portion can be edited ###############\n",
    "        train_scores = []\n",
    "        val_scores = []\n",
    "\n",
    "        train_recall = []\n",
    "        val_recall = []\n",
    "\n",
    "        ###########################################################\n",
    "\n",
    "        for train_index, val_index in tqdm(cv.split(X, y)):\n",
    "\n",
    "            X_train, X_val = X.iloc[train_index], X.iloc[val_index]\n",
    "            y_train, y_val = y.iloc[train_index], y.iloc[val_index]\n",
    "\n",
    "            # Apply scaling\n",
    "            if scaler is not None:\n",
    "                X_train = scaler.fit_transform(X_train)\n",
    "                X_val = scaler.transform(X_val)\n",
    "            else:\n",
    "                pass\n",
    "            # Apply resampling\n",
    "            if res_t is not None:\n",
    "                s = time.time()\n",
    "                X_train, y_train = res_t.fit_resample(X_train, y_train)\n",
    "                print(f'Resampling done in {time.time() - s}')\n",
    "            else:\n",
    "                pass\n",
    "            start_time = time.time()\n",
    "\n",
    "            # fit\n",
    "            model.fit(X_train, y_train)\n",
    "\n",
    "            # predict\n",
    "            train_preds = model.predict(X_train)\n",
    "            val_preds = model.predict(X_val)\n",
    "            \n",
    "            ################# this portion can be edited ###############\n",
    "\n",
    "            # classification accuracy\n",
    "            train_scores.append(model.score(X_train, y_train))\n",
    "            val_scores.append(model.score(X_val, y_val))\n",
    "\n",
    "            # recall\n",
    "            train_recall.append(recall_score(y_train, train_preds))\n",
    "            val_recall.append(recall_score(y_val, val_preds))\n",
    "\n",
    "            end_time = time.time()\n",
    "\n",
    "            results[model_name] = {\n",
    "                'Train Accuracy': np.round(np.mean(train_scores) * 100, 2),\n",
    "                'Val Accuracy': np.round(np.mean(val_scores) * 100, 2),\n",
    "                'Train Recall': np.round(np.mean(train_recall) * 100, 2),\n",
    "                'Val Recall': np.round(np.mean(val_recall) * 100, 2),\n",
    "                'Run Time': end_time - start_time\n",
    "            }\n",
    "\n",
    "            results2[model_name] = {\n",
    "                'Train Accuracy': '{:.2f}%'.format(np.round(np.mean(train_scores)*100, 2)),\n",
    "                'Val Accuracy': '{:.2f}%'.format(np.round(np.mean(val_scores)*100, 2)),\n",
    "                'Train Recall': '{:.2f}%'.format(np.round(np.mean(train_recall)*100, 2)),\n",
    "                'Val Recall': '{:.2f}%'.format(np.round(np.mean(val_recall)*100, 2)),\n",
    "                'Run Time': end_time - start_time\n",
    "            }\n",
    "            \n",
    "            ###########################################################\n",
    "\n",
    "    results = pd.DataFrame(results).T\n",
    "    results2 = pd.DataFrame(results2).T\n",
    "    return [results, results2]\n"
   ]
  },
  {
   "cell_type": "markdown",
   "metadata": {},
   "source": [
    "### Baseline"
   ]
  },
  {
   "cell_type": "code",
   "execution_count": 38,
   "metadata": {},
   "outputs": [
    {
     "data": {
      "application/vnd.jupyter.widget-view+json": {
       "model_id": "74fa86853ea7490599ff1402aed6a615",
       "version_major": 2,
       "version_minor": 0
      },
      "text/plain": [
       "  0%|          | 0/1 [00:00<?, ?it/s]"
      ]
     },
     "metadata": {},
     "output_type": "display_data"
    },
    {
     "data": {
      "application/vnd.jupyter.widget-view+json": {
       "model_id": "e115f132eb4146ba829ecaaf946710be",
       "version_major": 2,
       "version_minor": 0
      },
      "text/plain": [
       "0it [00:00, ?it/s]"
      ]
     },
     "metadata": {},
     "output_type": "display_data"
    },
    {
     "name": "stdout",
     "output_type": "stream",
     "text": [
      "Runtime (in secs): 66.47342109680176\n"
     ]
    },
    {
     "data": {
      "text/html": [
       "<div>\n",
       "<style scoped>\n",
       "    .dataframe tbody tr th:only-of-type {\n",
       "        vertical-align: middle;\n",
       "    }\n",
       "\n",
       "    .dataframe tbody tr th {\n",
       "        vertical-align: top;\n",
       "    }\n",
       "\n",
       "    .dataframe thead th {\n",
       "        text-align: right;\n",
       "    }\n",
       "</style>\n",
       "<table border=\"1\" class=\"dataframe\">\n",
       "  <thead>\n",
       "    <tr style=\"text-align: right;\">\n",
       "      <th></th>\n",
       "      <th>Run Time</th>\n",
       "      <th>Train Accuracy</th>\n",
       "      <th>Train Recall</th>\n",
       "      <th>Val Accuracy</th>\n",
       "      <th>Val Recall</th>\n",
       "    </tr>\n",
       "  </thead>\n",
       "  <tbody>\n",
       "    <tr>\n",
       "      <th>AdaBooster</th>\n",
       "      <td>12.532776</td>\n",
       "      <td>99.93%</td>\n",
       "      <td>90.70%</td>\n",
       "      <td>99.90%</td>\n",
       "      <td>86.53%</td>\n",
       "    </tr>\n",
       "  </tbody>\n",
       "</table>\n",
       "</div>"
      ],
      "text/plain": [
       "             Run Time Train Accuracy Train Recall Val Accuracy Val Recall\n",
       "AdaBooster  12.532776         99.93%       90.70%       99.90%     86.53%"
      ]
     },
     "metadata": {},
     "output_type": "display_data"
    }
   ],
   "source": [
    "start=time.time()\n",
    "auto_run = auto_ml(X_trainval, y_trainval, models_dict, scaler=MinMaxScaler(),\n",
    "               cv=StratifiedKFold(n_splits=5))\n",
    "\n",
    "auto = auto_run[0]\n",
    "auto_run[1]\n",
    "print(\"Runtime (in secs):\", time.time()-start)\n",
    "display(auto_run[1])"
   ]
  },
  {
   "cell_type": "markdown",
   "metadata": {},
   "source": [
    "### Applying resampling techniques"
   ]
  },
  {
   "cell_type": "markdown",
   "metadata": {},
   "source": [
    "#### Oversampling"
   ]
  },
  {
   "cell_type": "code",
   "execution_count": 39,
   "metadata": {
    "ExecuteTime": {
     "end_time": "2022-06-25T17:27:00.661394Z",
     "start_time": "2022-06-25T17:07:24.494356Z"
    }
   },
   "outputs": [
    {
     "name": "stdout",
     "output_type": "stream",
     "text": [
      "---------------------------------------------------\u001b[1m\u001b[31mSMOTE\u001b[0m---------------------------------------------------\n"
     ]
    },
    {
     "data": {
      "application/vnd.jupyter.widget-view+json": {
       "model_id": "8db12a3a52c5448eb5c06285a85a5c4e",
       "version_major": 2,
       "version_minor": 0
      },
      "text/plain": [
       "  0%|          | 0/1 [00:00<?, ?it/s]"
      ]
     },
     "metadata": {},
     "output_type": "display_data"
    },
    {
     "data": {
      "application/vnd.jupyter.widget-view+json": {
       "model_id": "40b696ef0acc48bba847ebb65f07f143",
       "version_major": 2,
       "version_minor": 0
      },
      "text/plain": [
       "0it [00:00, ?it/s]"
      ]
     },
     "metadata": {},
     "output_type": "display_data"
    },
    {
     "name": "stdout",
     "output_type": "stream",
     "text": [
      "Resampling done in 0.9078149795532227\n",
      "Resampling done in 1.0433731079101562\n",
      "Resampling done in 0.8942909240722656\n",
      "Resampling done in 1.2486531734466553\n",
      "Resampling done in 0.9297399520874023\n"
     ]
    },
    {
     "data": {
      "text/html": [
       "<div>\n",
       "<style scoped>\n",
       "    .dataframe tbody tr th:only-of-type {\n",
       "        vertical-align: middle;\n",
       "    }\n",
       "\n",
       "    .dataframe tbody tr th {\n",
       "        vertical-align: top;\n",
       "    }\n",
       "\n",
       "    .dataframe thead th {\n",
       "        text-align: right;\n",
       "    }\n",
       "</style>\n",
       "<table border=\"1\" class=\"dataframe\">\n",
       "  <thead>\n",
       "    <tr style=\"text-align: right;\">\n",
       "      <th></th>\n",
       "      <th>Run Time</th>\n",
       "      <th>Train Accuracy</th>\n",
       "      <th>Train Recall</th>\n",
       "      <th>Val Accuracy</th>\n",
       "      <th>Val Recall</th>\n",
       "    </tr>\n",
       "  </thead>\n",
       "  <tbody>\n",
       "    <tr>\n",
       "      <th>AdaBooster</th>\n",
       "      <td>61.243057</td>\n",
       "      <td>99.84%</td>\n",
       "      <td>99.80%</td>\n",
       "      <td>99.85%</td>\n",
       "      <td>95.15%</td>\n",
       "    </tr>\n",
       "  </tbody>\n",
       "</table>\n",
       "</div>"
      ],
      "text/plain": [
       "             Run Time Train Accuracy Train Recall Val Accuracy Val Recall\n",
       "AdaBooster  61.243057         99.84%       99.80%       99.85%     95.15%"
      ]
     },
     "metadata": {},
     "output_type": "display_data"
    },
    {
     "name": "stdout",
     "output_type": "stream",
     "text": [
      "Runtime (in secs): 282.9060320854187\n",
      "--------------------------------------------------\u001b[1m\u001b[31mADASYN\u001b[0m---------------------------------------------------\n"
     ]
    },
    {
     "data": {
      "application/vnd.jupyter.widget-view+json": {
       "model_id": "a0ea2351e7ea453ba94af794ac062869",
       "version_major": 2,
       "version_minor": 0
      },
      "text/plain": [
       "  0%|          | 0/1 [00:00<?, ?it/s]"
      ]
     },
     "metadata": {},
     "output_type": "display_data"
    },
    {
     "data": {
      "application/vnd.jupyter.widget-view+json": {
       "model_id": "56bd3f0df2d64f028d621d6367669db7",
       "version_major": 2,
       "version_minor": 0
      },
      "text/plain": [
       "0it [00:00, ?it/s]"
      ]
     },
     "metadata": {},
     "output_type": "display_data"
    },
    {
     "name": "stdout",
     "output_type": "stream",
     "text": [
      "Resampling done in 1.1450049877166748\n",
      "Resampling done in 0.9503879547119141\n",
      "Resampling done in 1.1190531253814697\n",
      "Resampling done in 0.8012599945068359\n",
      "Resampling done in 0.8118488788604736\n"
     ]
    },
    {
     "data": {
      "text/html": [
       "<div>\n",
       "<style scoped>\n",
       "    .dataframe tbody tr th:only-of-type {\n",
       "        vertical-align: middle;\n",
       "    }\n",
       "\n",
       "    .dataframe tbody tr th {\n",
       "        vertical-align: top;\n",
       "    }\n",
       "\n",
       "    .dataframe thead th {\n",
       "        text-align: right;\n",
       "    }\n",
       "</style>\n",
       "<table border=\"1\" class=\"dataframe\">\n",
       "  <thead>\n",
       "    <tr style=\"text-align: right;\">\n",
       "      <th></th>\n",
       "      <th>Run Time</th>\n",
       "      <th>Train Accuracy</th>\n",
       "      <th>Train Recall</th>\n",
       "      <th>Val Accuracy</th>\n",
       "      <th>Val Recall</th>\n",
       "    </tr>\n",
       "  </thead>\n",
       "  <tbody>\n",
       "    <tr>\n",
       "      <th>AdaBooster</th>\n",
       "      <td>47.458555</td>\n",
       "      <td>99.84%</td>\n",
       "      <td>99.80%</td>\n",
       "      <td>99.85%</td>\n",
       "      <td>96.77%</td>\n",
       "    </tr>\n",
       "  </tbody>\n",
       "</table>\n",
       "</div>"
      ],
      "text/plain": [
       "             Run Time Train Accuracy Train Recall Val Accuracy Val Recall\n",
       "AdaBooster  47.458555         99.84%       99.80%       99.85%     96.77%"
      ]
     },
     "metadata": {},
     "output_type": "display_data"
    },
    {
     "name": "stdout",
     "output_type": "stream",
     "text": [
      "Runtime (in secs): 256.7600448131561\n"
     ]
    }
   ],
   "source": [
    "res_list = [('SMOTE', SMOTE()),\n",
    "            ('ADASYN', ADASYN())]\n",
    "\n",
    "outputs = []\n",
    "for title, res in res_list:\n",
    "    start=time.time()\n",
    "    print(colored(title, 'red', attrs=['bold']).center(120, \"-\"))\n",
    "    var = auto_ml(X_trainval, y_trainval, models_dict, scaler=MinMaxScaler(),\n",
    "                    cv=StratifiedKFold(n_splits=5), res_t=res)\n",
    "    outputs.append(var[0])\n",
    "    display(var[1])\n",
    "    print(\"Runtime (in secs):\", time.time()-start)\n"
   ]
  },
  {
   "cell_type": "code",
   "execution_count": 40,
   "metadata": {},
   "outputs": [
    {
     "data": {
      "image/png": "[encoded data removed]",
      "text/plain": [
       "<Figure size 2000x800 with 1 Axes>"
      ]
     },
     "metadata": {},
     "output_type": "display_data"
    }
   ],
   "source": [
    "ps_over = pd.DataFrame(index=models_dict.keys())\n",
    "ps_over['NoResampling Val Recall'] = auto_run[1]['Val Recall']\n",
    "ps_over['SMOTE Val Recall'] = outputs[0]['Val Recall']\n",
    "ps_over['ADASYN Val Recall'] = outputs[1]['Val Recall']\n",
    "fig, ax = plt.subplots(figsize=(20, 8))\n",
    "ps_over.plot.bar(ax=ax)\n",
    "ax.set_ylabel('Recall Score', fontsize=12)\n",
    "for spine in ['right', 'top']:\n",
    "        ax.spines[spine].set_visible(False)\n",
    "ax.legend(edgecolor='white')\n",
    "fig.suptitle(\"Resampling Techniques-Oversampling\", size=15, y=0.9, weight='bold')\n",
    "plt.xticks(rotation=45, fontsize=12)\n",
    "plt.show()"
   ]
  },
  {
   "cell_type": "markdown",
   "metadata": {},
   "source": [
    "#### Undersampling"
   ]
  },
  {
   "cell_type": "code",
   "execution_count": 41,
   "metadata": {
    "ExecuteTime": {
     "end_time": "2022-06-25T18:40:04.141335Z",
     "start_time": "2022-06-25T18:09:12.815457Z"
    }
   },
   "outputs": [
    {
     "name": "stdout",
     "output_type": "stream",
     "text": [
      "------------------------------------------------\u001b[1m\u001b[31mTomekLinks\u001b[0m-------------------------------------------------\n"
     ]
    },
    {
     "data": {
      "application/vnd.jupyter.widget-view+json": {
       "model_id": "91d8c34dbbab49aaa1eb5c78528bfa1e",
       "version_major": 2,
       "version_minor": 0
      },
      "text/plain": [
       "  0%|          | 0/1 [00:00<?, ?it/s]"
      ]
     },
     "metadata": {},
     "output_type": "display_data"
    },
    {
     "data": {
      "application/vnd.jupyter.widget-view+json": {
       "model_id": "c00e8cb7da684bab897e610000350b83",
       "version_major": 2,
       "version_minor": 0
      },
      "text/plain": [
       "0it [00:00, ?it/s]"
      ]
     },
     "metadata": {},
     "output_type": "display_data"
    },
    {
     "name": "stdout",
     "output_type": "stream",
     "text": [
      "Resampling done in 27.23011589050293\n",
      "Resampling done in 32.852137088775635\n",
      "Resampling done in 32.376314878463745\n",
      "Resampling done in 32.04712796211243\n",
      "Resampling done in 30.676035165786743\n"
     ]
    },
    {
     "data": {
      "text/html": [
       "<div>\n",
       "<style scoped>\n",
       "    .dataframe tbody tr th:only-of-type {\n",
       "        vertical-align: middle;\n",
       "    }\n",
       "\n",
       "    .dataframe tbody tr th {\n",
       "        vertical-align: top;\n",
       "    }\n",
       "\n",
       "    .dataframe thead th {\n",
       "        text-align: right;\n",
       "    }\n",
       "</style>\n",
       "<table border=\"1\" class=\"dataframe\">\n",
       "  <thead>\n",
       "    <tr style=\"text-align: right;\">\n",
       "      <th></th>\n",
       "      <th>Run Time</th>\n",
       "      <th>Train Accuracy</th>\n",
       "      <th>Train Recall</th>\n",
       "      <th>Val Accuracy</th>\n",
       "      <th>Val Recall</th>\n",
       "    </tr>\n",
       "  </thead>\n",
       "  <tbody>\n",
       "    <tr>\n",
       "      <th>AdaBooster</th>\n",
       "      <td>21.856906</td>\n",
       "      <td>99.93%</td>\n",
       "      <td>90.29%</td>\n",
       "      <td>99.90%</td>\n",
       "      <td>85.72%</td>\n",
       "    </tr>\n",
       "  </tbody>\n",
       "</table>\n",
       "</div>"
      ],
      "text/plain": [
       "             Run Time Train Accuracy Train Recall Val Accuracy Val Recall\n",
       "AdaBooster  21.856906         99.93%       90.29%       99.90%     85.72%"
      ]
     },
     "metadata": {},
     "output_type": "display_data"
    },
    {
     "name": "stdout",
     "output_type": "stream",
     "text": [
      "Runtime (in secs): 529.2471618652344\n",
      "-------------------------------------------------\u001b[1m\u001b[31mNearMiss\u001b[0m--------------------------------------------------\n"
     ]
    },
    {
     "data": {
      "application/vnd.jupyter.widget-view+json": {
       "model_id": "b22509251a264587b2912b5a668639b3",
       "version_major": 2,
       "version_minor": 0
      },
      "text/plain": [
       "  0%|          | 0/1 [00:00<?, ?it/s]"
      ]
     },
     "metadata": {},
     "output_type": "display_data"
    },
    {
     "data": {
      "application/vnd.jupyter.widget-view+json": {
       "model_id": "c401589c2c014a58b5ec58718921ae1a",
       "version_major": 2,
       "version_minor": 0
      },
      "text/plain": [
       "0it [00:00, ?it/s]"
      ]
     },
     "metadata": {},
     "output_type": "display_data"
    },
    {
     "name": "stdout",
     "output_type": "stream",
     "text": [
      "Resampling done in 0.4401881694793701\n",
      "Resampling done in 0.42160677909851074\n",
      "Resampling done in 0.38044309616088867\n",
      "Resampling done in 0.3826911449432373\n",
      "Resampling done in 0.43694210052490234\n"
     ]
    },
    {
     "data": {
      "text/html": [
       "<div>\n",
       "<style scoped>\n",
       "    .dataframe tbody tr th:only-of-type {\n",
       "        vertical-align: middle;\n",
       "    }\n",
       "\n",
       "    .dataframe tbody tr th {\n",
       "        vertical-align: top;\n",
       "    }\n",
       "\n",
       "    .dataframe thead th {\n",
       "        text-align: right;\n",
       "    }\n",
       "</style>\n",
       "<table border=\"1\" class=\"dataframe\">\n",
       "  <thead>\n",
       "    <tr style=\"text-align: right;\">\n",
       "      <th></th>\n",
       "      <th>Run Time</th>\n",
       "      <th>Train Accuracy</th>\n",
       "      <th>Train Recall</th>\n",
       "      <th>Val Accuracy</th>\n",
       "      <th>Val Recall</th>\n",
       "    </tr>\n",
       "  </thead>\n",
       "  <tbody>\n",
       "    <tr>\n",
       "      <th>AdaBooster</th>\n",
       "      <td>1.335089</td>\n",
       "      <td>100.00%</td>\n",
       "      <td>100.00%</td>\n",
       "      <td>64.52%</td>\n",
       "      <td>100.00%</td>\n",
       "    </tr>\n",
       "  </tbody>\n",
       "</table>\n",
       "</div>"
      ],
      "text/plain": [
       "            Run Time Train Accuracy Train Recall Val Accuracy Val Recall\n",
       "AdaBooster  1.335089        100.00%      100.00%       64.52%    100.00%"
      ]
     },
     "metadata": {},
     "output_type": "display_data"
    },
    {
     "name": "stdout",
     "output_type": "stream",
     "text": [
      "Runtime (in secs): 539.7683508396149\n"
     ]
    }
   ],
   "source": [
    "res_list = [('TomekLinks', TomekLinks()),\n",
    "            ('NearMiss', NearMiss())]\n",
    "\n",
    "outputs_u = []\n",
    "for title, res in res_list:\n",
    "    print(colored(title, 'red', attrs=['bold']).center(120, \"-\"))\n",
    "    var = auto_ml(X_trainval, y_trainval, models_dict, scaler=MinMaxScaler(),\n",
    "                  cv=StratifiedKFold(n_splits=5), res_t=res)\n",
    "    outputs_u.append(var[0])\n",
    "    display(var[1])\n",
    "    print(\"Runtime (in secs):\", time.time()-start)"
   ]
  },
  {
   "cell_type": "code",
   "execution_count": 42,
   "metadata": {},
   "outputs": [
    {
     "data": {
      "image/png": "[encoded data removed]",
      "text/plain": [
       "<Figure size 2000x800 with 1 Axes>"
      ]
     },
     "metadata": {},
     "output_type": "display_data"
    }
   ],
   "source": [
    "ps_under = pd.DataFrame(index=models_dict.keys())\n",
    "ps_under['NoResampling Val Recall'] = auto_run[1]['Val Recall']\n",
    "ps_under['TomekLinks Val Recall'] = outputs_u[0]['Val Recall']\n",
    "ps_under['NearMiss Val Recall'] = outputs_u[1]['Val Recall']\n",
    "\n",
    "fig, ax = plt.subplots(figsize=(20, 8))\n",
    "ps_under.plot.bar(ax=ax)\n",
    "ax.set_ylabel('Recall Score', fontsize=12)\n",
    "for spine in ['right', 'top']:\n",
    "        ax.spines[spine].set_visible(False)\n",
    "ax.legend(edgecolor='white')\n",
    "fig.suptitle(\"Resampling Techniques-Undersampling\", size=15, y=0.9, weight='bold')\n",
    "plt.xticks(rotation=45, fontsize=12)\n",
    "plt.show()"
   ]
  },
  {
   "cell_type": "markdown",
   "metadata": {},
   "source": [
    "<div><span style=\"background-color: #ff0257; padding-top: 100px; padding-right: 20px; padding-bottom: 50px; padding-left: 20px; color: #FFFAF0; font-size: 18px; font-weight: bold\">Grid-Search and Randomized Search Cross Validation </span></div>"
   ]
  },
  {
   "cell_type": "markdown",
   "metadata": {},
   "source": [
    "[Grid Search](https://scikit-learn.org/stable/modules/generated/sklearn.model_selection.GridSearchCV.html) and [Randomized Search Cross Validation](https://scikit-learn.org/stable/modules/generated/sklearn.model_selection.RandomizedSearchCV.html) are commonly used to hypertune models across multiple parameters"
   ]
  },
  {
   "cell_type": "code",
   "execution_count": 45,
   "metadata": {
    "ExecuteTime": {
     "end_time": "2022-06-25T18:44:46.659479Z",
     "start_time": "2022-06-25T18:44:46.643942Z"
    }
   },
   "outputs": [],
   "source": [
    "def train_ad(X, y, metric, res_t=None, hypertune=False, resample=False):\n",
    "    \"\"\"AdaBoostClassifier and apply ADASYN()\"\"\"\n",
    "    params = {'n_estimators': [10, 20, 30, 40, 50]\n",
    "              }\n",
    "    new_params = {'adaboostclassifier__' +\n",
    "                  key: params[key] for key in params}\n",
    "\n",
    "    skf = StratifiedKFold(n_splits=5)\n",
    "    if resample is True:\n",
    "        imba_pipeline = make_pipeline(MinMaxScaler(),\n",
    "                                      res_t,\n",
    "                                      AdaBoostClassifier(random_state=100))\n",
    "    else:\n",
    "        imba_pipeline = make_pipeline(MinMaxScaler(),\n",
    "                                      AdaBoostClassifier(random_state=100))\n",
    "\n",
    "    if hypertune is True:\n",
    "        clf = GridSearchCV(imba_pipeline, param_grid=new_params,\n",
    "                           cv=skf, scoring=metric, return_train_score=True,\n",
    "                          verbose=10)\n",
    "        start_time = time.time()\n",
    "        clf.fit(X, y)\n",
    "        run_time = (time.time() - start_time)\n",
    "        model = clf.best_estimator_.fit(X, y)\n",
    "        return ['AdaBoosting', np.mean(clf.cv_results_['mean_train_score']),\n",
    "                clf.best_score_, 'Best parameters = {0}'.format(\n",
    "                    clf.best_params_),\n",
    "                run_time, model]\n",
    "    else:\n",
    "        clf = imba_pipeline\n",
    "        start_time = time.time()\n",
    "        clf.fit(X, y)\n",
    "        run_time = (time.time() - start_time)\n",
    "        cv_scores = cross_validate(estimator=clf, X=X, y=y,\n",
    "                                   scoring=metric, cv=skf, n_jobs=-1,\n",
    "                                   return_train_score=True)\n",
    "\n",
    "        return ['AdaBoostClassifier', np.mean(cv_scores['train_score']),\n",
    "                np.mean(cv_scores['test_score']), run_time, clf]"
   ]
  },
  {
   "cell_type": "code",
   "execution_count": 46,
   "metadata": {},
   "outputs": [
    {
     "name": "stdout",
     "output_type": "stream",
     "text": [
      "Fitting 5 folds for each of 5 candidates, totalling 25 fits\n",
      "[CV 1/5; 1/5] START adaboostclassifier__n_estimators=10.........................\n",
      "[CV 1/5; 1/5] END adaboostclassifier__n_estimators=10;, score=(train=0.993, test=0.986) total time=  10.6s\n",
      "[CV 2/5; 1/5] START adaboostclassifier__n_estimators=10.........................\n",
      "[CV 2/5; 1/5] END adaboostclassifier__n_estimators=10;, score=(train=0.986, test=0.973) total time=   9.4s\n",
      "[CV 3/5; 1/5] START adaboostclassifier__n_estimators=10.........................\n",
      "[CV 3/5; 1/5] END adaboostclassifier__n_estimators=10;, score=(train=0.990, test=1.000) total time=   8.6s\n",
      "[CV 4/5; 1/5] START adaboostclassifier__n_estimators=10.........................\n",
      "[CV 4/5; 1/5] END adaboostclassifier__n_estimators=10;, score=(train=0.993, test=0.986) total time=   8.9s\n",
      "[CV 5/5; 1/5] START adaboostclassifier__n_estimators=10.........................\n",
      "[CV 5/5; 1/5] END adaboostclassifier__n_estimators=10;, score=(train=0.993, test=0.986) total time=  11.0s\n",
      "[CV 1/5; 2/5] START adaboostclassifier__n_estimators=20.........................\n",
      "[CV 1/5; 2/5] END adaboostclassifier__n_estimators=20;, score=(train=0.976, test=0.892) total time=  17.7s\n",
      "[CV 2/5; 2/5] START adaboostclassifier__n_estimators=20.........................\n",
      "[CV 2/5; 2/5] END adaboostclassifier__n_estimators=20;, score=(train=0.986, test=0.960) total time=  16.3s\n",
      "[CV 3/5; 2/5] START adaboostclassifier__n_estimators=20.........................\n",
      "[CV 3/5; 2/5] END adaboostclassifier__n_estimators=20;, score=(train=0.980, test=1.000) total time=  17.0s\n",
      "[CV 4/5; 2/5] START adaboostclassifier__n_estimators=20.........................\n",
      "[CV 4/5; 2/5] END adaboostclassifier__n_estimators=20;, score=(train=0.990, test=0.986) total time=  16.2s\n",
      "[CV 5/5; 2/5] START adaboostclassifier__n_estimators=20.........................\n",
      "[CV 5/5; 2/5] END adaboostclassifier__n_estimators=20;, score=(train=0.987, test=0.973) total time=  16.4s\n",
      "[CV 1/5; 3/5] START adaboostclassifier__n_estimators=30.........................\n",
      "[CV 1/5; 3/5] END adaboostclassifier__n_estimators=30;, score=(train=0.993, test=0.959) total time=  23.9s\n",
      "[CV 2/5; 3/5] START adaboostclassifier__n_estimators=30.........................\n",
      "[CV 2/5; 3/5] END adaboostclassifier__n_estimators=30;, score=(train=0.986, test=0.960) total time=  24.1s\n",
      "[CV 3/5; 3/5] START adaboostclassifier__n_estimators=30.........................\n",
      "[CV 3/5; 3/5] END adaboostclassifier__n_estimators=30;, score=(train=0.983, test=1.000) total time=  23.5s\n",
      "[CV 4/5; 3/5] START adaboostclassifier__n_estimators=30.........................\n",
      "[CV 4/5; 3/5] END adaboostclassifier__n_estimators=30;, score=(train=0.987, test=0.959) total time=  25.0s\n",
      "[CV 5/5; 3/5] START adaboostclassifier__n_estimators=30.........................\n",
      "[CV 5/5; 3/5] END adaboostclassifier__n_estimators=30;, score=(train=0.987, test=0.986) total time=  28.9s\n",
      "[CV 1/5; 4/5] START adaboostclassifier__n_estimators=40.........................\n",
      "[CV 1/5; 4/5] END adaboostclassifier__n_estimators=40;, score=(train=0.987, test=0.946) total time=  31.3s\n",
      "[CV 2/5; 4/5] START adaboostclassifier__n_estimators=40.........................\n",
      "[CV 2/5; 4/5] END adaboostclassifier__n_estimators=40;, score=(train=0.980, test=0.960) total time=  33.6s\n",
      "[CV 3/5; 4/5] START adaboostclassifier__n_estimators=40.........................\n",
      "[CV 3/5; 4/5] END adaboostclassifier__n_estimators=40;, score=(train=0.966, test=0.986) total time=  32.9s\n",
      "[CV 4/5; 4/5] START adaboostclassifier__n_estimators=40.........................\n",
      "[CV 4/5; 4/5] END adaboostclassifier__n_estimators=40;, score=(train=0.976, test=0.959) total time=  30.6s\n",
      "[CV 5/5; 4/5] START adaboostclassifier__n_estimators=40.........................\n",
      "[CV 5/5; 4/5] END adaboostclassifier__n_estimators=40;, score=(train=0.987, test=0.986) total time=  30.6s\n",
      "[CV 1/5; 5/5] START adaboostclassifier__n_estimators=50.........................\n",
      "[CV 1/5; 5/5] END adaboostclassifier__n_estimators=50;, score=(train=0.993, test=0.946) total time=  41.2s\n",
      "[CV 2/5; 5/5] START adaboostclassifier__n_estimators=50.........................\n",
      "[CV 2/5; 5/5] END adaboostclassifier__n_estimators=50;, score=(train=0.986, test=0.947) total time=  42.4s\n",
      "[CV 3/5; 5/5] START adaboostclassifier__n_estimators=50.........................\n",
      "[CV 3/5; 5/5] END adaboostclassifier__n_estimators=50;, score=(train=0.970, test=1.000) total time=  38.0s\n",
      "[CV 4/5; 5/5] START adaboostclassifier__n_estimators=50.........................\n",
      "[CV 4/5; 5/5] END adaboostclassifier__n_estimators=50;, score=(train=0.980, test=0.973) total time=  36.8s\n",
      "[CV 5/5; 5/5] START adaboostclassifier__n_estimators=50.........................\n",
      "[CV 5/5; 5/5] END adaboostclassifier__n_estimators=50;, score=(train=0.987, test=0.973) total time=  36.7s\n",
      "Fitting 5 folds for each of 5 candidates, totalling 25 fits\n",
      "[CV 1/5; 1/5] START adaboostclassifier__n_estimators=10.........................\n",
      "[CV 1/5; 1/5] END adaboostclassifier__n_estimators=10;, score=(train=0.985, test=0.984) total time=   9.1s\n",
      "[CV 2/5; 1/5] START adaboostclassifier__n_estimators=10.........................\n",
      "[CV 2/5; 1/5] END adaboostclassifier__n_estimators=10;, score=(train=0.999, test=0.999) total time=   9.1s\n",
      "[CV 3/5; 1/5] START adaboostclassifier__n_estimators=10.........................\n",
      "[CV 3/5; 1/5] END adaboostclassifier__n_estimators=10;, score=(train=0.999, test=0.999) total time=   8.6s\n",
      "[CV 4/5; 1/5] START adaboostclassifier__n_estimators=10.........................\n",
      "[CV 4/5; 1/5] END adaboostclassifier__n_estimators=10;, score=(train=0.999, test=0.999) total time=   8.8s\n",
      "[CV 5/5; 1/5] START adaboostclassifier__n_estimators=10.........................\n",
      "[CV 5/5; 1/5] END adaboostclassifier__n_estimators=10;, score=(train=0.999, test=0.999) total time=   9.7s\n",
      "[CV 1/5; 2/5] START adaboostclassifier__n_estimators=20.........................\n",
      "[CV 1/5; 2/5] END adaboostclassifier__n_estimators=20;, score=(train=0.999, test=0.998) total time=  16.1s\n",
      "[CV 2/5; 2/5] START adaboostclassifier__n_estimators=20.........................\n",
      "[CV 2/5; 2/5] END adaboostclassifier__n_estimators=20;, score=(train=0.999, test=0.999) total time=  18.7s\n",
      "[CV 3/5; 2/5] START adaboostclassifier__n_estimators=20.........................\n",
      "[CV 3/5; 2/5] END adaboostclassifier__n_estimators=20;, score=(train=0.999, test=0.999) total time=  17.4s\n",
      "[CV 4/5; 2/5] START adaboostclassifier__n_estimators=20.........................\n",
      "[CV 4/5; 2/5] END adaboostclassifier__n_estimators=20;, score=(train=0.999, test=0.999) total time=  18.8s\n",
      "[CV 5/5; 2/5] START adaboostclassifier__n_estimators=20.........................\n",
      "[CV 5/5; 2/5] END adaboostclassifier__n_estimators=20;, score=(train=0.999, test=0.999) total time=  18.4s\n",
      "[CV 1/5; 3/5] START adaboostclassifier__n_estimators=30.........................\n",
      "[CV 1/5; 3/5] END adaboostclassifier__n_estimators=30;, score=(train=0.999, test=0.998) total time=  27.9s\n",
      "[CV 2/5; 3/5] START adaboostclassifier__n_estimators=30.........................\n",
      "[CV 2/5; 3/5] END adaboostclassifier__n_estimators=30;, score=(train=0.999, test=0.999) total time=  26.0s\n",
      "[CV 3/5; 3/5] START adaboostclassifier__n_estimators=30.........................\n",
      "[CV 3/5; 3/5] END adaboostclassifier__n_estimators=30;, score=(train=0.998, test=0.998) total time=  26.0s\n",
      "[CV 4/5; 3/5] START adaboostclassifier__n_estimators=30.........................\n",
      "[CV 4/5; 3/5] END adaboostclassifier__n_estimators=30;, score=(train=0.999, test=0.999) total time=  25.2s\n",
      "[CV 5/5; 3/5] START adaboostclassifier__n_estimators=30.........................\n",
      "[CV 5/5; 3/5] END adaboostclassifier__n_estimators=30;, score=(train=0.998, test=0.998) total time=  22.7s\n",
      "[CV 1/5; 4/5] START adaboostclassifier__n_estimators=40.........................\n",
      "[CV 1/5; 4/5] END adaboostclassifier__n_estimators=40;, score=(train=0.998, test=0.998) total time=  31.0s\n",
      "[CV 2/5; 4/5] START adaboostclassifier__n_estimators=40.........................\n",
      "[CV 2/5; 4/5] END adaboostclassifier__n_estimators=40;, score=(train=0.998, test=0.998) total time=  34.4s\n",
      "[CV 3/5; 4/5] START adaboostclassifier__n_estimators=40.........................\n",
      "[CV 3/5; 4/5] END adaboostclassifier__n_estimators=40;, score=(train=0.999, test=0.999) total time=  31.1s\n",
      "[CV 4/5; 4/5] START adaboostclassifier__n_estimators=40.........................\n"
     ]
    },
    {
     "name": "stdout",
     "output_type": "stream",
     "text": [
      "[CV 4/5; 4/5] END adaboostclassifier__n_estimators=40;, score=(train=0.998, test=0.998) total time=  29.9s\n",
      "[CV 5/5; 4/5] START adaboostclassifier__n_estimators=40.........................\n",
      "[CV 5/5; 4/5] END adaboostclassifier__n_estimators=40;, score=(train=0.999, test=0.998) total time=  30.0s\n",
      "[CV 1/5; 5/5] START adaboostclassifier__n_estimators=50.........................\n",
      "[CV 1/5; 5/5] END adaboostclassifier__n_estimators=50;, score=(train=0.999, test=0.998) total time=  37.1s\n",
      "[CV 2/5; 5/5] START adaboostclassifier__n_estimators=50.........................\n",
      "[CV 2/5; 5/5] END adaboostclassifier__n_estimators=50;, score=(train=0.999, test=0.999) total time=  37.1s\n",
      "[CV 3/5; 5/5] START adaboostclassifier__n_estimators=50.........................\n",
      "[CV 3/5; 5/5] END adaboostclassifier__n_estimators=50;, score=(train=0.999, test=0.999) total time=  37.2s\n",
      "[CV 4/5; 5/5] START adaboostclassifier__n_estimators=50.........................\n",
      "[CV 4/5; 5/5] END adaboostclassifier__n_estimators=50;, score=(train=0.999, test=0.999) total time=  40.1s\n",
      "[CV 5/5; 5/5] START adaboostclassifier__n_estimators=50.........................\n",
      "[CV 5/5; 5/5] END adaboostclassifier__n_estimators=50;, score=(train=0.999, test=0.999) total time=  39.5s\n"
     ]
    }
   ],
   "source": [
    "start_time = time.time()\n",
    "ad_ada_rec = train_ad(X_trainval, y_trainval, 'recall', ADASYN(),\n",
    "                       hypertune=True, resample=True)\n",
    "start_time = time.time()\n",
    "ad_ada_acc = train_ad(X_trainval, y_trainval, 'accuracy', ADASYN(),\n",
    "                      hypertune=True, resample=True)"
   ]
  },
  {
   "cell_type": "code",
   "execution_count": 49,
   "metadata": {},
   "outputs": [
    {
     "data": {
      "text/html": [
       "<style type=\"text/css\">\n",
       "</style>\n",
       "<table id=\"T_0cdae_\">\n",
       "  <thead>\n",
       "    <tr>\n",
       "      <th class=\"col_heading level0 col0\" ></th>\n",
       "      <th class=\"col_heading level0 col1\" >Train Accuracy</th>\n",
       "      <th class=\"col_heading level0 col2\" >Val Accuracy</th>\n",
       "      <th class=\"col_heading level0 col3\" >Train Recall</th>\n",
       "      <th class=\"col_heading level0 col4\" >Val Recall</th>\n",
       "    </tr>\n",
       "  </thead>\n",
       "  <tbody>\n",
       "    <tr>\n",
       "      <td id=\"T_0cdae_row0_col0\" class=\"data row0 col0\" >AdaBoosting</td>\n",
       "      <td id=\"T_0cdae_row0_col1\" class=\"data row0 col1\" >99.82%</td>\n",
       "      <td id=\"T_0cdae_row0_col2\" class=\"data row0 col2\" >99.89%</td>\n",
       "      <td id=\"T_0cdae_row0_col3\" class=\"data row0 col3\" >98.49%</td>\n",
       "      <td id=\"T_0cdae_row0_col4\" class=\"data row0 col4\" >98.66%</td>\n",
       "    </tr>\n",
       "  </tbody>\n",
       "</table>\n"
      ],
      "text/plain": [
       "<pandas.io.formats.style.Styler at 0x7fa467b041f0>"
      ]
     },
     "execution_count": 49,
     "metadata": {},
     "output_type": "execute_result"
    }
   ],
   "source": [
    "cols = ['', 'Train Accuracy', 'Val Accuracy',\n",
    "        'Train Recall', 'Val Recall']\n",
    "hyper = pd.DataFrame(columns=cols)\n",
    "hyper.loc[0] = [ad_ada_rec[0],\n",
    "                np.round(ad_ada_acc[1]*100, 6),\n",
    "                np.round(ad_ada_acc[2]*100, 6),\n",
    "                np.round(ad_ada_rec[1]*100, 6),\n",
    "                np.round(ad_ada_rec[2]*100, 6)]\n",
    "hyper2 = pd.DataFrame(columns=cols)\n",
    "hyper2.loc[0] = [ad_ada_rec[0],\n",
    "                 '{:.2f}%'.format(np.round(ad_ada_acc[1]*100, 2)),\n",
    "                 '{:.2f}%'.format(np.round(ad_ada_acc[2]*100, 2)),\n",
    "                 '{:.2f}%'.format(np.round(ad_ada_rec[1]*100, 2)),\n",
    "                 '{:.2f}%'.format(np.round(ad_ada_rec[2]*100, 2))]\n",
    "hyper2.style.hide_index()"
   ]
  },
  {
   "cell_type": "code",
   "execution_count": 75,
   "metadata": {},
   "outputs": [],
   "source": [
    "# re-fitting for the holdout\n",
    "rh = ad_ada_rec[-1]\n",
    "rh.fit(X_trainval, y_trainval)\n",
    "y_preds = rh.predict(X_holdout)\n",
    "rh_holdout_score = recall_score(y_holdout, y_preds)\n",
    "rh_holdout_ascore = rh.score(X_holdout,y_holdout)"
   ]
  },
  {
   "cell_type": "markdown",
   "metadata": {},
   "source": [
    "#### Feature Importance\n"
   ]
  },
  {
   "cell_type": "code",
   "execution_count": 80,
   "metadata": {},
   "outputs": [
    {
     "ename": "AttributeError",
     "evalue": "'Pipeline' object has no attribute 'feature_importances_'",
     "output_type": "error",
     "traceback": [
      "\u001b[0;31m---------------------------------------------------------------------------\u001b[0m",
      "\u001b[0;31mAttributeError\u001b[0m                            Traceback (most recent call last)",
      "Cell \u001b[0;32mIn [80], line 1\u001b[0m\n\u001b[0;32m----> 1\u001b[0m \u001b[43mrh\u001b[49m\u001b[38;5;241;43m.\u001b[39;49m\u001b[43mfeature_importances_\u001b[49m\n",
      "\u001b[0;31mAttributeError\u001b[0m: 'Pipeline' object has no attribute 'feature_importances_'"
     ]
    }
   ],
   "source": [
    "rh.feature_importances_"
   ]
  },
  {
   "cell_type": "markdown",
   "metadata": {},
   "source": [
    "#### Base-case"
   ]
  },
  {
   "cell_type": "code",
   "execution_count": 76,
   "metadata": {
    "ExecuteTime": {
     "end_time": "2022-06-25T18:48:02.907470Z",
     "start_time": "2022-06-25T18:44:52.169864Z"
    }
   },
   "outputs": [],
   "source": [
    "# cross-validation\n",
    "base_var = train_ad(X_trainval, y_trainval, 'recall', hypertune=False, resample=False)\n",
    "\n",
    "# re-fitting for the holdout\n",
    "base_model = base_var[-1]\n",
    "base_model.fit(X_trainval, y_trainval)\n",
    "y_preds = base_model.predict(X_holdout)\n",
    "holdout_score = recall_score(y_holdout, y_preds)\n",
    "holdout_ascore = base_model.score(X_holdout,y_holdout)"
   ]
  },
  {
   "cell_type": "code",
   "execution_count": 77,
   "metadata": {},
   "outputs": [
    {
     "data": {
      "text/plain": [
       "0.8709677419354839"
      ]
     },
     "execution_count": 77,
     "metadata": {},
     "output_type": "execute_result"
    }
   ],
   "source": [
    "holdout_score"
   ]
  },
  {
   "cell_type": "code",
   "execution_count": 78,
   "metadata": {},
   "outputs": [
    {
     "data": {
      "text/plain": [
       "0.999063043769241"
      ]
     },
     "execution_count": 78,
     "metadata": {},
     "output_type": "execute_result"
    }
   ],
   "source": [
    "holdout_ascore"
   ]
  },
  {
   "cell_type": "code",
   "execution_count": 79,
   "metadata": {},
   "outputs": [
    {
     "data": {
      "text/html": [
       "<style type=\"text/css\">\n",
       "</style>\n",
       "<table id=\"T_dc135_\">\n",
       "  <thead>\n",
       "    <tr>\n",
       "      <th class=\"col_heading level0 col0\" >Method</th>\n",
       "      <th class=\"col_heading level0 col1\" >Train Recall</th>\n",
       "      <th class=\"col_heading level0 col2\" >Val Recall</th>\n",
       "      <th class=\"col_heading level0 col3\" >Holdout Recall</th>\n",
       "      <th class=\"col_heading level0 col4\" >Holdout Accuracy</th>\n",
       "    </tr>\n",
       "  </thead>\n",
       "  <tbody>\n",
       "    <tr>\n",
       "      <td id=\"T_dc135_row0_col0\" class=\"data row0 col0\" >No Resampling</td>\n",
       "      <td id=\"T_dc135_row0_col1\" class=\"data row0 col1\" >90.70%</td>\n",
       "      <td id=\"T_dc135_row0_col2\" class=\"data row0 col2\" >86.53%</td>\n",
       "      <td id=\"T_dc135_row0_col3\" class=\"data row0 col3\" >87.10%</td>\n",
       "      <td id=\"T_dc135_row0_col4\" class=\"data row0 col4\" >99.91%</td>\n",
       "    </tr>\n",
       "    <tr>\n",
       "      <td id=\"T_dc135_row1_col0\" class=\"data row1 col0\" >Resampling x Hypertune</td>\n",
       "      <td id=\"T_dc135_row1_col1\" class=\"data row1 col1\" >98.49%</td>\n",
       "      <td id=\"T_dc135_row1_col2\" class=\"data row1 col2\" >98.66%</td>\n",
       "      <td id=\"T_dc135_row1_col3\" class=\"data row1 col3\" >98.39%</td>\n",
       "      <td id=\"T_dc135_row1_col4\" class=\"data row1 col4\" >99.89%</td>\n",
       "    </tr>\n",
       "  </tbody>\n",
       "</table>\n"
      ],
      "text/plain": [
       "<pandas.io.formats.style.Styler at 0x7fa4456fa880>"
      ]
     },
     "execution_count": 79,
     "metadata": {},
     "output_type": "execute_result"
    }
   ],
   "source": [
    "cols = ['Method', 'Train Recall', 'Val Recall', 'Holdout Recall', 'Holdout Accuracy']\n",
    "summary = pd.DataFrame(columns=cols)\n",
    "summary.loc[0] = ['No Resampling',\n",
    "                 '{:.2f}%'.format(np.round(base_var[1]*100, 2)),\n",
    "                 '{:.2f}%'.format(np.round(base_var[2]*100, 2)),\n",
    "                 '{:.2f}%'.format(np.round(holdout_score*100, 2)),\n",
    "                 '{:.2f}%'.format(np.round(holdout_ascore*100, 2))]\n",
    "summary.loc[3] = ['Resampling x Hypertune',\n",
    "                 '{:.2f}%'.format(np.round(ad_ada_rec[1]*100, 2)),\n",
    "                 '{:.2f}%'.format(np.round(ad_ada_rec[2]*100, 2)),\n",
    "                 '{:.2f}%'.format(np.round(rh_holdout_score*100, 2)),\n",
    "                 '{:.2f}%'.format(np.round(rh_holdout_ascore*100, 2))]\n",
    "summary.style.hide_index()"
   ]
  },
  {
   "cell_type": "code",
   "execution_count": 83,
   "metadata": {},
   "outputs": [],
   "source": [
    "import pickle\n",
    "# save the model to a pickle file\n",
    "pickle_file_name = \"ad_nestimators_sprintproj.pkl\"  \n",
    "\n",
    "with open(pickle_file_name, 'wb') as file:  \n",
    "    pickle.dump(rh, file)"
   ]
  },
  {
   "cell_type": "markdown",
   "metadata": {},
   "source": [
    "#### Using SHAP"
   ]
  },
  {
   "cell_type": "code",
   "execution_count": 68,
   "metadata": {},
   "outputs": [],
   "source": [
    "model =  AdaBoostClassifier(random_state=11)\n",
    "model = model.fit(X_trainval, y_trainval)"
   ]
  },
  {
   "cell_type": "code",
   "execution_count": 69,
   "metadata": {},
   "outputs": [
    {
     "name": "stdout",
     "output_type": "stream",
     "text": [
      "Holdout set score: 0.87\n"
     ]
    }
   ],
   "source": [
    "y_preds = model.predict(X_holdout)\n",
    "holdout_score = recall_score(y_holdout, y_preds)\n",
    "print(f\"Holdout set score: {holdout_score:.2f}\")"
   ]
  },
  {
   "cell_type": "code",
   "execution_count": 70,
   "metadata": {},
   "outputs": [
    {
     "ename": "Exception",
     "evalue": "Model type not yet supported by TreeExplainer: <class 'sklearn.ensemble._weight_boosting.AdaBoostClassifier'>",
     "output_type": "error",
     "traceback": [
      "\u001b[0;31m---------------------------------------------------------------------------\u001b[0m",
      "\u001b[0;31mException\u001b[0m                                 Traceback (most recent call last)",
      "Cell \u001b[0;32mIn [70], line 1\u001b[0m\n\u001b[0;32m----> 1\u001b[0m explainer \u001b[38;5;241m=\u001b[39m \u001b[43mshap\u001b[49m\u001b[38;5;241;43m.\u001b[39;49m\u001b[43mTreeExplainer\u001b[49m\u001b[43m(\u001b[49m\u001b[43mmodel\u001b[49m\u001b[43m,\u001b[49m\u001b[43m \u001b[49m\u001b[43mfeature_names\u001b[49m\u001b[38;5;241;43m=\u001b[39;49m\u001b[43mX_holdout\u001b[49m\u001b[38;5;241;43m.\u001b[39;49m\u001b[43mcolumns\u001b[49m\u001b[43m)\u001b[49m\n",
      "File \u001b[0;32m~/Downloads/venv/lib/python3.9/site-packages/shap/explainers/_tree.py:148\u001b[0m, in \u001b[0;36mTree.__init__\u001b[0;34m(self, model, data, model_output, feature_perturbation, feature_names, approximate, **deprecated_options)\u001b[0m\n\u001b[1;32m    146\u001b[0m \u001b[38;5;28mself\u001b[39m\u001b[38;5;241m.\u001b[39mfeature_perturbation \u001b[38;5;241m=\u001b[39m feature_perturbation\n\u001b[1;32m    147\u001b[0m \u001b[38;5;28mself\u001b[39m\u001b[38;5;241m.\u001b[39mexpected_value \u001b[38;5;241m=\u001b[39m \u001b[38;5;28;01mNone\u001b[39;00m\n\u001b[0;32m--> 148\u001b[0m \u001b[38;5;28mself\u001b[39m\u001b[38;5;241m.\u001b[39mmodel \u001b[38;5;241m=\u001b[39m \u001b[43mTreeEnsemble\u001b[49m\u001b[43m(\u001b[49m\u001b[43mmodel\u001b[49m\u001b[43m,\u001b[49m\u001b[43m \u001b[49m\u001b[38;5;28;43mself\u001b[39;49m\u001b[38;5;241;43m.\u001b[39;49m\u001b[43mdata\u001b[49m\u001b[43m,\u001b[49m\u001b[43m \u001b[49m\u001b[38;5;28;43mself\u001b[39;49m\u001b[38;5;241;43m.\u001b[39;49m\u001b[43mdata_missing\u001b[49m\u001b[43m,\u001b[49m\u001b[43m \u001b[49m\u001b[43mmodel_output\u001b[49m\u001b[43m)\u001b[49m\n\u001b[1;32m    149\u001b[0m \u001b[38;5;28mself\u001b[39m\u001b[38;5;241m.\u001b[39mmodel_output \u001b[38;5;241m=\u001b[39m model_output\n\u001b[1;32m    150\u001b[0m \u001b[38;5;66;03m#self.model_output = self.model.model_output # this allows the TreeEnsemble to translate model outputs types by how it loads the model\u001b[39;00m\n",
      "File \u001b[0;32m~/Downloads/venv/lib/python3.9/site-packages/shap/explainers/_tree.py:979\u001b[0m, in \u001b[0;36mTreeEnsemble.__init__\u001b[0;34m(self, model, data, data_missing, model_output)\u001b[0m\n\u001b[1;32m    977\u001b[0m     \u001b[38;5;28mself\u001b[39m\u001b[38;5;241m.\u001b[39mbase_offset \u001b[38;5;241m=\u001b[39m model\u001b[38;5;241m.\u001b[39minit_params[param_idx]\n\u001b[1;32m    978\u001b[0m \u001b[38;5;28;01melse\u001b[39;00m:\n\u001b[0;32m--> 979\u001b[0m     \u001b[38;5;28;01mraise\u001b[39;00m \u001b[38;5;167;01mException\u001b[39;00m(\u001b[38;5;124m\"\u001b[39m\u001b[38;5;124mModel type not yet supported by TreeExplainer: \u001b[39m\u001b[38;5;124m\"\u001b[39m \u001b[38;5;241m+\u001b[39m \u001b[38;5;28mstr\u001b[39m(\u001b[38;5;28mtype\u001b[39m(model)))\n\u001b[1;32m    981\u001b[0m \u001b[38;5;66;03m# build a dense numpy version of all the tree objects\u001b[39;00m\n\u001b[1;32m    982\u001b[0m \u001b[38;5;28;01mif\u001b[39;00m \u001b[38;5;28mself\u001b[39m\u001b[38;5;241m.\u001b[39mtrees \u001b[38;5;129;01mis\u001b[39;00m \u001b[38;5;129;01mnot\u001b[39;00m \u001b[38;5;28;01mNone\u001b[39;00m \u001b[38;5;129;01mand\u001b[39;00m \u001b[38;5;28mself\u001b[39m\u001b[38;5;241m.\u001b[39mtrees:\n",
      "\u001b[0;31mException\u001b[0m: Model type not yet supported by TreeExplainer: <class 'sklearn.ensemble._weight_boosting.AdaBoostClassifier'>"
     ]
    }
   ],
   "source": [
    "#I have to modify SHAP directly for this.\n",
    "explainer = shap.TreeExplainer(model, feature_names=X_holdout.columns)"
   ]
  },
  {
   "cell_type": "code",
   "execution_count": null,
   "metadata": {},
   "outputs": [],
   "source": [
    "shap_values = explainer.shap_values(X_holdout)"
   ]
  },
  {
   "cell_type": "code",
   "execution_count": null,
   "metadata": {},
   "outputs": [],
   "source": [
    "model.predict(X_holdout.loc[[74511]])"
   ]
  },
  {
   "cell_type": "code",
   "execution_count": null,
   "metadata": {},
   "outputs": [],
   "source": []
  }
 ],
 "metadata": {
  "kernelspec": {
   "display_name": "Python 3 (ipykernel)",
   "language": "python",
   "name": "python3"
  },
  "language_info": {
   "codemirror_mode": {
    "name": "ipython",
    "version": 3
   },
   "file_extension": ".py",
   "mimetype": "text/x-python",
   "name": "python",
   "nbconvert_exporter": "python",
   "pygments_lexer": "ipython3",
   "version": "3.9.12"
  },
  "toc": {
   "base_numbering": 1,
   "nav_menu": {},
   "number_sections": true,
   "sideBar": true,
   "skip_h1_title": false,
   "title_cell": "Table of Contents",
   "title_sidebar": "Contents",
   "toc_cell": false,
   "toc_position": {},
   "toc_section_display": true,
   "toc_window_display": false
  }
 },
 "nbformat": 4,
 "nbformat_minor": 4
}
