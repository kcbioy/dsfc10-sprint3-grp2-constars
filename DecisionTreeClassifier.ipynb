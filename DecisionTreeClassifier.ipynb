{
 "cells": [
  {
   "cell_type": "markdown",
   "metadata": {},
   "source": [
    "<div><span style=\"background-color: #9e4244; padding-top: 80px; padding-right: 20px; padding-bottom: 50px; padding-left: 20px; color: white; font-size: 22px; font-weight: bold\">Session 8: Machine Learning Pipelines</span></div>"
   ]
  },
  {
   "cell_type": "markdown",
   "metadata": {},
   "source": [
    "by BYJ Cirio"
   ]
  },
  {
   "cell_type": "markdown",
   "metadata": {},
   "source": [
    "<div class=\"alert alert-danger alert-info\">\n",
    "     In this notebook you will learn how to automate your machine learning model pipelines. Specifically, the topics covered are as follows:<br>\n",
    "    <ol>\n",
    "        <li>Auto-ML</li>\n",
    "        <li>Grid-search CV/Randomized Search CV</li>\n",
    "        <li>Example project</li>\n",
    "    </ol>\n",
    "</div>"
   ]
  },
  {
   "cell_type": "code",
   "execution_count": 1,
   "metadata": {
    "ExecuteTime": {
     "end_time": "2022-06-25T17:06:40.840624Z",
     "start_time": "2022-06-25T17:06:26.941745Z"
    }
   },
   "outputs": [],
   "source": [
    "# General Libraries\n",
    "import re\n",
    "import time\n",
    "import warnings\n",
    "import numpy as np\n",
    "import pandas as pd\n",
    "from tqdm.notebook import tqdm\n",
    "from collections import Counter\n",
    "warnings.filterwarnings(\"ignore\")\n",
    "\n",
    "# Visualizations\n",
    "import seaborn as sns\n",
    "from termcolor import colored\n",
    "import matplotlib.pyplot as plt\n",
    "import plotly.graph_objects as go\n",
    "\n",
    "# Sklearn\n",
    "from sklearn.preprocessing import MinMaxScaler\n",
    "from sklearn.model_selection import (train_test_split, GridSearchCV,\n",
    "                                     StratifiedKFold)\n",
    "from sklearn.neighbors import KNeighborsClassifier\n",
    "from sklearn.svm import SVC\n",
    "from sklearn.linear_model import LogisticRegression\n",
    "from sklearn.naive_bayes import GaussianNB\n",
    "from sklearn.tree import DecisionTreeClassifier\n",
    "from sklearn.ensemble import (RandomForestClassifier,  \n",
    "                              GradientBoostingClassifier)\n",
    "from sklearn.model_selection import cross_validate\n",
    "from sklearn.metrics import (ConfusionMatrixDisplay, precision_score, recall_score)\n",
    "\n",
    "# Imblearn\n",
    "from imblearn.pipeline import Pipeline, make_pipeline\n",
    "from imblearn.over_sampling import (SMOTE, ADASYN, BorderlineSMOTE, SVMSMOTE)\n",
    "from imblearn.under_sampling import (TomekLinks, NearMiss, AllKNN,\n",
    "                                     EditedNearestNeighbours, \n",
    "                                     RepeatedEditedNearestNeighbours) \n",
    "from imblearn.combine import SMOTETomek, SMOTEENN\n",
    "\n",
    "# SHAP\n",
    "import shap"
   ]
  },
  {
   "cell_type": "code",
   "execution_count": 2,
   "metadata": {
    "ExecuteTime": {
     "end_time": "2022-06-25T17:06:47.142146Z",
     "start_time": "2022-06-25T17:06:40.843628Z"
    }
   },
   "outputs": [
    {
     "data": {
      "text/html": [
       "<div>\n",
       "<style scoped>\n",
       "    .dataframe tbody tr th:only-of-type {\n",
       "        vertical-align: middle;\n",
       "    }\n",
       "\n",
       "    .dataframe tbody tr th {\n",
       "        vertical-align: top;\n",
       "    }\n",
       "\n",
       "    .dataframe thead th {\n",
       "        text-align: right;\n",
       "    }\n",
       "</style>\n",
       "<table border=\"1\" class=\"dataframe\">\n",
       "  <thead>\n",
       "    <tr style=\"text-align: right;\">\n",
       "      <th></th>\n",
       "      <th>Unnamed: 0</th>\n",
       "      <th>is_fraud</th>\n",
       "      <th>diff_datetime_hrs</th>\n",
       "      <th>prev_fraud</th>\n",
       "      <th>amt</th>\n",
       "      <th>city_pop</th>\n",
       "      <th>age</th>\n",
       "      <th>dist_to_merch_in_kms</th>\n",
       "      <th>category_entertainment</th>\n",
       "      <th>category_food_dining</th>\n",
       "      <th>...</th>\n",
       "      <th>city_San Pedro</th>\n",
       "      <th>city_Santa Rosa</th>\n",
       "      <th>city_Sorsogon</th>\n",
       "      <th>city_Surigao</th>\n",
       "      <th>city_Tacloban</th>\n",
       "      <th>city_Taguig City</th>\n",
       "      <th>city_Tagum</th>\n",
       "      <th>city_Tandag</th>\n",
       "      <th>city_Tarlac City</th>\n",
       "      <th>city_Valenzuela</th>\n",
       "    </tr>\n",
       "  </thead>\n",
       "  <tbody>\n",
       "    <tr>\n",
       "      <th>0</th>\n",
       "      <td>0</td>\n",
       "      <td>0</td>\n",
       "      <td>0.0</td>\n",
       "      <td>0.0</td>\n",
       "      <td>115.58</td>\n",
       "      <td>574089</td>\n",
       "      <td>83</td>\n",
       "      <td>66.720087</td>\n",
       "      <td>0</td>\n",
       "      <td>0</td>\n",
       "      <td>...</td>\n",
       "      <td>0</td>\n",
       "      <td>0</td>\n",
       "      <td>0</td>\n",
       "      <td>0</td>\n",
       "      <td>0</td>\n",
       "      <td>0</td>\n",
       "      <td>0</td>\n",
       "      <td>0</td>\n",
       "      <td>0</td>\n",
       "      <td>0</td>\n",
       "    </tr>\n",
       "    <tr>\n",
       "      <th>1</th>\n",
       "      <td>1</td>\n",
       "      <td>0</td>\n",
       "      <td>7.0</td>\n",
       "      <td>0.0</td>\n",
       "      <td>4.35</td>\n",
       "      <td>574089</td>\n",
       "      <td>83</td>\n",
       "      <td>89.750504</td>\n",
       "      <td>0</td>\n",
       "      <td>0</td>\n",
       "      <td>...</td>\n",
       "      <td>0</td>\n",
       "      <td>0</td>\n",
       "      <td>0</td>\n",
       "      <td>0</td>\n",
       "      <td>0</td>\n",
       "      <td>0</td>\n",
       "      <td>0</td>\n",
       "      <td>0</td>\n",
       "      <td>0</td>\n",
       "      <td>0</td>\n",
       "    </tr>\n",
       "    <tr>\n",
       "      <th>2</th>\n",
       "      <td>2</td>\n",
       "      <td>0</td>\n",
       "      <td>0.0</td>\n",
       "      <td>0.0</td>\n",
       "      <td>4.65</td>\n",
       "      <td>574089</td>\n",
       "      <td>83</td>\n",
       "      <td>31.625560</td>\n",
       "      <td>0</td>\n",
       "      <td>0</td>\n",
       "      <td>...</td>\n",
       "      <td>0</td>\n",
       "      <td>0</td>\n",
       "      <td>0</td>\n",
       "      <td>0</td>\n",
       "      <td>0</td>\n",
       "      <td>0</td>\n",
       "      <td>0</td>\n",
       "      <td>0</td>\n",
       "      <td>0</td>\n",
       "      <td>0</td>\n",
       "    </tr>\n",
       "    <tr>\n",
       "      <th>3</th>\n",
       "      <td>3</td>\n",
       "      <td>0</td>\n",
       "      <td>13.0</td>\n",
       "      <td>0.0</td>\n",
       "      <td>32.87</td>\n",
       "      <td>574089</td>\n",
       "      <td>83</td>\n",
       "      <td>112.130879</td>\n",
       "      <td>0</td>\n",
       "      <td>0</td>\n",
       "      <td>...</td>\n",
       "      <td>0</td>\n",
       "      <td>0</td>\n",
       "      <td>0</td>\n",
       "      <td>0</td>\n",
       "      <td>0</td>\n",
       "      <td>0</td>\n",
       "      <td>0</td>\n",
       "      <td>0</td>\n",
       "      <td>0</td>\n",
       "      <td>0</td>\n",
       "    </tr>\n",
       "    <tr>\n",
       "      <th>4</th>\n",
       "      <td>4</td>\n",
       "      <td>0</td>\n",
       "      <td>1.0</td>\n",
       "      <td>0.0</td>\n",
       "      <td>192.43</td>\n",
       "      <td>574089</td>\n",
       "      <td>83</td>\n",
       "      <td>101.931179</td>\n",
       "      <td>0</td>\n",
       "      <td>0</td>\n",
       "      <td>...</td>\n",
       "      <td>0</td>\n",
       "      <td>0</td>\n",
       "      <td>0</td>\n",
       "      <td>0</td>\n",
       "      <td>0</td>\n",
       "      <td>0</td>\n",
       "      <td>0</td>\n",
       "      <td>0</td>\n",
       "      <td>0</td>\n",
       "      <td>0</td>\n",
       "    </tr>\n",
       "  </tbody>\n",
       "</table>\n",
       "<p>5 rows × 255 columns</p>\n",
       "</div>"
      ],
      "text/plain": [
       "   Unnamed: 0  is_fraud  diff_datetime_hrs  prev_fraud     amt  city_pop  age  \\\n",
       "0           0         0                0.0         0.0  115.58    574089   83   \n",
       "1           1         0                7.0         0.0    4.35    574089   83   \n",
       "2           2         0                0.0         0.0    4.65    574089   83   \n",
       "3           3         0               13.0         0.0   32.87    574089   83   \n",
       "4           4         0                1.0         0.0  192.43    574089   83   \n",
       "\n",
       "   dist_to_merch_in_kms  category_entertainment  category_food_dining  ...  \\\n",
       "0             66.720087                       0                     0  ...   \n",
       "1             89.750504                       0                     0  ...   \n",
       "2             31.625560                       0                     0  ...   \n",
       "3            112.130879                       0                     0  ...   \n",
       "4            101.931179                       0                     0  ...   \n",
       "\n",
       "   city_San Pedro  city_Santa Rosa  city_Sorsogon  city_Surigao  \\\n",
       "0               0                0              0             0   \n",
       "1               0                0              0             0   \n",
       "2               0                0              0             0   \n",
       "3               0                0              0             0   \n",
       "4               0                0              0             0   \n",
       "\n",
       "   city_Tacloban  city_Taguig City  city_Tagum  city_Tandag  city_Tarlac City  \\\n",
       "0              0                 0           0            0                 0   \n",
       "1              0                 0           0            0                 0   \n",
       "2              0                 0           0            0                 0   \n",
       "3              0                 0           0            0                 0   \n",
       "4              0                 0           0            0                 0   \n",
       "\n",
       "   city_Valenzuela  \n",
       "0                0  \n",
       "1                0  \n",
       "2                0  \n",
       "3                0  \n",
       "4                0  \n",
       "\n",
       "[5 rows x 255 columns]"
      ]
     },
     "execution_count": 2,
     "metadata": {},
     "output_type": "execute_result"
    }
   ],
   "source": [
    "df = pd.read_csv('transactions_clean_onehot.csv')\n",
    "df['diff_datetime_hrs'] = df['diff_datetime_hrs'].fillna(0)\n",
    "df.head()"
   ]
  },
  {
   "cell_type": "code",
   "execution_count": 3,
   "metadata": {
    "ExecuteTime": {
     "end_time": "2022-06-25T17:06:59.724833Z",
     "start_time": "2022-06-25T17:06:59.489891Z"
    }
   },
   "outputs": [
    {
     "name": "stdout",
     "output_type": "stream",
     "text": [
      "Would Recommend:       0\n",
      "0  89155\n",
      "1    495\n",
      "Proportion Chance Criterion: 98.90%\n",
      "1.25 * Proportion Chance Criterion: 123.63%\n"
     ]
    },
    {
     "data": {
      "image/png": "[encoded data removed]",
      "text/plain": [
       "<Figure size 432x288 with 1 Axes>"
      ]
     },
     "metadata": {
      "needs_background": "light"
     },
     "output_type": "display_data"
    }
   ],
   "source": [
    "state_counts = Counter(df['is_fraud'])\n",
    "df_state = pd.DataFrame.from_dict(state_counts, orient='index')\n",
    "df_state.plot(kind='bar', color='pink')\n",
    "\n",
    "num=(df_state[0]/df_state[0].sum())**2\n",
    "\n",
    "print(\"Would Recommend:{}\".format(df_state))\n",
    "\n",
    "print(\"Proportion Chance Criterion: {:0.2f}%\".format(100*num.sum()))\n",
    "print(\"1.25 * Proportion Chance Criterion: {:0.2f}%\".format(1.25*100*num.sum()))"
   ]
  },
  {
   "cell_type": "code",
   "execution_count": 4,
   "metadata": {
    "ExecuteTime": {
     "end_time": "2022-06-25T17:07:01.323651Z",
     "start_time": "2022-06-25T17:07:00.408410Z"
    }
   },
   "outputs": [],
   "source": [
    "X = df.drop(['is_fraud'], axis=1)\n",
    "y = df['is_fraud']\n",
    "(X_trainval, X_holdout, y_trainval, y_holdout) = train_test_split(X, y, \n",
    "                                                                  random_state=11, test_size=0.25,\n",
    "                                                                  stratify=y)"
   ]
  },
  {
   "cell_type": "markdown",
   "metadata": {},
   "source": [
    "<div><span style=\"background-color: #ff0257; padding-top: 100px; padding-right: 20px; padding-bottom: 50px; padding-left: 20px; color: #FFFAF0; font-size: 18px; font-weight: bold\">Auto-ML </span></div>"
   ]
  },
  {
   "cell_type": "code",
   "execution_count": 5,
   "metadata": {
    "ExecuteTime": {
     "end_time": "2022-06-25T18:00:46.201827Z",
     "start_time": "2022-06-25T18:00:46.191744Z"
    }
   },
   "outputs": [],
   "source": [
    "# models_dict = {'GaussianNB': GaussianNB(),\n",
    "#               'RandomForestClassifier': RandomForestClassifier(random_state=143)}\n",
    "\n",
    "models_dict = {\n",
    "    'LogisticRegressor': LogisticRegression(C=1),\n",
    "    #'RandomForestClassifier': RandomForestClassifier(random_state=11),\n",
    "    'DecisionTreeClassifier': DecisionTreeClassifier(max_depth=7),\n",
    "    #'GradientBoostingClassifier': GradientBoostingClassifier(random_state=11)   \n",
    "}\n",
    "# models_dict = {\n",
    "#     'KNeighborsClassifier': KNeighborsClassifier(),\n",
    "#     'LogisticRegressor': LogisticRegression(),\n",
    "#     'GaussianNB': GaussianNB(),\n",
    "#     'RandomForestClassifier': RandomForestClassifier(random_state=143),\n",
    "#     'DecisionTreeClassifier': DecisionTreeClassifier(random_state=143),\n",
    "#     'GradientBoostingClassifier': GradientBoostingClassifier(random_state=143)   \n",
    "# }"
   ]
  },
  {
   "cell_type": "code",
   "execution_count": 6,
   "metadata": {
    "ExecuteTime": {
     "end_time": "2022-06-25T17:07:04.220771Z",
     "start_time": "2022-06-25T17:07:04.197393Z"
    }
   },
   "outputs": [],
   "source": [
    "def auto_ml(X, y, models_dict, scaler=None, cv=None, res_t=None):\n",
    "    \"\"\"Apply resampling for imbalanced data\"\"\"\n",
    "    results = {}\n",
    "    results2 = {}\n",
    "\n",
    "    # log start time\n",
    "    total_start = time.time()\n",
    "\n",
    "    for model_name, model in tqdm(models_dict.items()):\n",
    "        \n",
    "        ################# this portion can be edited ###############\n",
    "        train_scores = []\n",
    "        val_scores = []\n",
    "\n",
    "        train_recall = []\n",
    "        val_recall = []\n",
    "\n",
    "        ###########################################################\n",
    "\n",
    "        for train_index, val_index in tqdm(cv.split(X, y)):\n",
    "\n",
    "            X_train, X_val = X.iloc[train_index], X.iloc[val_index]\n",
    "            y_train, y_val = y.iloc[train_index], y.iloc[val_index]\n",
    "\n",
    "            # Apply scaling\n",
    "            if scaler is not None:\n",
    "                X_train = scaler.fit_transform(X_train)\n",
    "                X_val = scaler.transform(X_val)\n",
    "            else:\n",
    "                pass\n",
    "\n",
    "            # Apply resampling\n",
    "            if res_t is not None:\n",
    "                s = time.time()\n",
    "                X_train, y_train = res_t.fit_resample(X_train, y_train)\n",
    "                print(f'Resampling done in {time.time() - s}')\n",
    "            else:\n",
    "                pass\n",
    "\n",
    "            start_time = time.time()\n",
    "\n",
    "            # fit\n",
    "            model.fit(X_train, y_train)\n",
    "\n",
    "            # predict\n",
    "            train_preds = model.predict(X_train)\n",
    "            val_preds = model.predict(X_val)\n",
    "            \n",
    "            ################# this portion can be edited ###############\n",
    "\n",
    "            # classification accuracy\n",
    "            train_scores.append(model.score(X_train, y_train))\n",
    "            val_scores.append(model.score(X_val, y_val))\n",
    "\n",
    "            # recall\n",
    "            train_recall.append(recall_score(y_train, train_preds))\n",
    "            val_recall.append(recall_score(y_val, val_preds))\n",
    "\n",
    "            end_time = time.time()\n",
    "\n",
    "            results[model_name] = {\n",
    "                'Train Accuracy': np.round(np.mean(train_scores) * 100, 2),\n",
    "                'Val Accuracy': np.round(np.mean(val_scores) * 100, 2),\n",
    "                'Train Recall': np.round(np.mean(train_recall) * 100, 2),\n",
    "                'Val Recall': np.round(np.mean(val_recall) * 100, 2),\n",
    "                'Run Time': end_time - start_time\n",
    "            }\n",
    "\n",
    "            results2[model_name] = {\n",
    "                'Train Accuracy': '{:.2f}%'.format(np.round(np.mean(train_scores)*100, 2)),\n",
    "                'Val Accuracy': '{:.2f}%'.format(np.round(np.mean(val_scores)*100, 2)),\n",
    "                'Train Recall': '{:.2f}%'.format(np.round(np.mean(train_recall)*100, 2)),\n",
    "                'Val Recall': '{:.2f}%'.format(np.round(np.mean(val_recall)*100, 2)),\n",
    "                'Run Time': end_time - start_time\n",
    "            }\n",
    "            \n",
    "            ###########################################################\n",
    "\n",
    "    results = pd.DataFrame(results).T\n",
    "    results2 = pd.DataFrame(results2).T\n",
    "    return [results, results2]"
   ]
  },
  {
   "cell_type": "markdown",
   "metadata": {},
   "source": [
    "### Baseline"
   ]
  },
  {
   "cell_type": "code",
   "execution_count": 7,
   "metadata": {},
   "outputs": [
    {
     "data": {
      "application/vnd.jupyter.widget-view+json": {
       "model_id": "9dfc5422006849868a609298fa17b8e3",
       "version_major": 2,
       "version_minor": 0
      },
      "text/plain": [
       "  0%|          | 0/2 [00:00<?, ?it/s]"
      ]
     },
     "metadata": {},
     "output_type": "display_data"
    },
    {
     "data": {
      "application/vnd.jupyter.widget-view+json": {
       "model_id": "3274a31123894f85a6a5a8bdda49c034",
       "version_major": 2,
       "version_minor": 0
      },
      "text/plain": [
       "0it [00:00, ?it/s]"
      ]
     },
     "metadata": {},
     "output_type": "display_data"
    },
    {
     "data": {
      "application/vnd.jupyter.widget-view+json": {
       "model_id": "dd8415eb78334a6584307a9f58facac8",
       "version_major": 2,
       "version_minor": 0
      },
      "text/plain": [
       "0it [00:00, ?it/s]"
      ]
     },
     "metadata": {},
     "output_type": "display_data"
    },
    {
     "data": {
      "text/html": [
       "<div>\n",
       "<style scoped>\n",
       "    .dataframe tbody tr th:only-of-type {\n",
       "        vertical-align: middle;\n",
       "    }\n",
       "\n",
       "    .dataframe tbody tr th {\n",
       "        vertical-align: top;\n",
       "    }\n",
       "\n",
       "    .dataframe thead th {\n",
       "        text-align: right;\n",
       "    }\n",
       "</style>\n",
       "<table border=\"1\" class=\"dataframe\">\n",
       "  <thead>\n",
       "    <tr style=\"text-align: right;\">\n",
       "      <th></th>\n",
       "      <th>Train Accuracy</th>\n",
       "      <th>Val Accuracy</th>\n",
       "      <th>Train Recall</th>\n",
       "      <th>Val Recall</th>\n",
       "      <th>Run Time</th>\n",
       "    </tr>\n",
       "  </thead>\n",
       "  <tbody>\n",
       "    <tr>\n",
       "      <th>LogisticRegressor</th>\n",
       "      <td>99.81%</td>\n",
       "      <td>99.77%</td>\n",
       "      <td>74.73%</td>\n",
       "      <td>69.54%</td>\n",
       "      <td>1.351731</td>\n",
       "    </tr>\n",
       "    <tr>\n",
       "      <th>DecisionTreeClassifier</th>\n",
       "      <td>99.99%</td>\n",
       "      <td>99.95%</td>\n",
       "      <td>98.85%</td>\n",
       "      <td>95.95%</td>\n",
       "      <td>1.035229</td>\n",
       "    </tr>\n",
       "  </tbody>\n",
       "</table>\n",
       "</div>"
      ],
      "text/plain": [
       "                       Train Accuracy Val Accuracy Train Recall Val Recall  \\\n",
       "LogisticRegressor              99.81%       99.77%       74.73%     69.54%   \n",
       "DecisionTreeClassifier         99.99%       99.95%       98.85%     95.95%   \n",
       "\n",
       "                        Run Time  \n",
       "LogisticRegressor       1.351731  \n",
       "DecisionTreeClassifier  1.035229  "
      ]
     },
     "execution_count": 7,
     "metadata": {},
     "output_type": "execute_result"
    }
   ],
   "source": [
    "auto_run = auto_ml(X_trainval, y_trainval, models_dict, scaler=MinMaxScaler(),\n",
    "               cv=StratifiedKFold(n_splits=5))\n",
    "auto = auto_run[0]\n",
    "auto_run[1]"
   ]
  },
  {
   "cell_type": "markdown",
   "metadata": {},
   "source": [
    "### Applying resampling techniques"
   ]
  },
  {
   "cell_type": "markdown",
   "metadata": {},
   "source": [
    "#### Oversampling"
   ]
  },
  {
   "cell_type": "code",
   "execution_count": 9,
   "metadata": {
    "ExecuteTime": {
     "end_time": "2022-06-25T17:27:00.661394Z",
     "start_time": "2022-06-25T17:07:24.494356Z"
    }
   },
   "outputs": [
    {
     "name": "stdout",
     "output_type": "stream",
     "text": [
      "---------------------------------------------------\u001b[1m\u001b[31mSMOTE\u001b[0m---------------------------------------------------\n"
     ]
    },
    {
     "data": {
      "application/vnd.jupyter.widget-view+json": {
       "model_id": "0a671e75bbf04dba863ff58e85de41d1",
       "version_major": 2,
       "version_minor": 0
      },
      "text/plain": [
       "  0%|          | 0/2 [00:00<?, ?it/s]"
      ]
     },
     "metadata": {},
     "output_type": "display_data"
    },
    {
     "data": {
      "application/vnd.jupyter.widget-view+json": {
       "model_id": "3507884bc7bf40cea74ea9b126fabd35",
       "version_major": 2,
       "version_minor": 0
      },
      "text/plain": [
       "0it [00:00, ?it/s]"
      ]
     },
     "metadata": {},
     "output_type": "display_data"
    },
    {
     "name": "stdout",
     "output_type": "stream",
     "text": [
      "Resampling done in 0.629497766494751\n",
      "Resampling done in 0.6636099815368652\n",
      "Resampling done in 0.6037554740905762\n",
      "Resampling done in 0.5765619277954102\n",
      "Resampling done in 0.8886168003082275\n"
     ]
    },
    {
     "data": {
      "application/vnd.jupyter.widget-view+json": {
       "model_id": "1293267d0143409991e114e57f5749ff",
       "version_major": 2,
       "version_minor": 0
      },
      "text/plain": [
       "0it [00:00, ?it/s]"
      ]
     },
     "metadata": {},
     "output_type": "display_data"
    },
    {
     "name": "stdout",
     "output_type": "stream",
     "text": [
      "Resampling done in 0.7012872695922852\n",
      "Resampling done in 0.5794122219085693\n",
      "Resampling done in 0.6135737895965576\n",
      "Resampling done in 0.6572380065917969\n",
      "Resampling done in 0.7088618278503418\n"
     ]
    },
    {
     "data": {
      "text/html": [
       "<div>\n",
       "<style scoped>\n",
       "    .dataframe tbody tr th:only-of-type {\n",
       "        vertical-align: middle;\n",
       "    }\n",
       "\n",
       "    .dataframe tbody tr th {\n",
       "        vertical-align: top;\n",
       "    }\n",
       "\n",
       "    .dataframe thead th {\n",
       "        text-align: right;\n",
       "    }\n",
       "</style>\n",
       "<table border=\"1\" class=\"dataframe\">\n",
       "  <thead>\n",
       "    <tr style=\"text-align: right;\">\n",
       "      <th></th>\n",
       "      <th>Train Accuracy</th>\n",
       "      <th>Val Accuracy</th>\n",
       "      <th>Train Recall</th>\n",
       "      <th>Val Recall</th>\n",
       "      <th>Run Time</th>\n",
       "    </tr>\n",
       "  </thead>\n",
       "  <tbody>\n",
       "    <tr>\n",
       "      <th>LogisticRegressor</th>\n",
       "      <td>97.57%</td>\n",
       "      <td>96.13%</td>\n",
       "      <td>98.87%</td>\n",
       "      <td>83.29%</td>\n",
       "      <td>7.191084</td>\n",
       "    </tr>\n",
       "    <tr>\n",
       "      <th>DecisionTreeClassifier</th>\n",
       "      <td>99.96%</td>\n",
       "      <td>99.88%</td>\n",
       "      <td>100.00%</td>\n",
       "      <td>97.03%</td>\n",
       "      <td>4.610955</td>\n",
       "    </tr>\n",
       "  </tbody>\n",
       "</table>\n",
       "</div>"
      ],
      "text/plain": [
       "                       Train Accuracy Val Accuracy Train Recall Val Recall  \\\n",
       "LogisticRegressor              97.57%       96.13%       98.87%     83.29%   \n",
       "DecisionTreeClassifier         99.96%       99.88%      100.00%     97.03%   \n",
       "\n",
       "                        Run Time  \n",
       "LogisticRegressor       7.191084  \n",
       "DecisionTreeClassifier  4.610955  "
      ]
     },
     "metadata": {},
     "output_type": "display_data"
    },
    {
     "name": "stdout",
     "output_type": "stream",
     "text": [
      "--------------------------------------------------\u001b[1m\u001b[31mADASYN\u001b[0m---------------------------------------------------\n"
     ]
    },
    {
     "data": {
      "application/vnd.jupyter.widget-view+json": {
       "model_id": "c12b094be3ff43368331e0193fccd0d0",
       "version_major": 2,
       "version_minor": 0
      },
      "text/plain": [
       "  0%|          | 0/2 [00:00<?, ?it/s]"
      ]
     },
     "metadata": {},
     "output_type": "display_data"
    },
    {
     "data": {
      "application/vnd.jupyter.widget-view+json": {
       "model_id": "9a88e0518ddb4aa293d9fa5e375ccc99",
       "version_major": 2,
       "version_minor": 0
      },
      "text/plain": [
       "0it [00:00, ?it/s]"
      ]
     },
     "metadata": {},
     "output_type": "display_data"
    },
    {
     "name": "stdout",
     "output_type": "stream",
     "text": [
      "Resampling done in 1.330336093902588\n",
      "Resampling done in 0.877267599105835\n",
      "Resampling done in 0.8808207511901855\n",
      "Resampling done in 0.9887487888336182\n",
      "Resampling done in 1.3675768375396729\n"
     ]
    },
    {
     "data": {
      "application/vnd.jupyter.widget-view+json": {
       "model_id": "9b20a5dcc87c4589aaab071a41308c7a",
       "version_major": 2,
       "version_minor": 0
      },
      "text/plain": [
       "0it [00:00, ?it/s]"
      ]
     },
     "metadata": {},
     "output_type": "display_data"
    },
    {
     "name": "stdout",
     "output_type": "stream",
     "text": [
      "Resampling done in 0.9735314846038818\n",
      "Resampling done in 1.2985248565673828\n",
      "Resampling done in 0.9494550228118896\n",
      "Resampling done in 0.9015517234802246\n",
      "Resampling done in 0.8747842311859131\n"
     ]
    },
    {
     "data": {
      "text/html": [
       "<div>\n",
       "<style scoped>\n",
       "    .dataframe tbody tr th:only-of-type {\n",
       "        vertical-align: middle;\n",
       "    }\n",
       "\n",
       "    .dataframe tbody tr th {\n",
       "        vertical-align: top;\n",
       "    }\n",
       "\n",
       "    .dataframe thead th {\n",
       "        text-align: right;\n",
       "    }\n",
       "</style>\n",
       "<table border=\"1\" class=\"dataframe\">\n",
       "  <thead>\n",
       "    <tr style=\"text-align: right;\">\n",
       "      <th></th>\n",
       "      <th>Train Accuracy</th>\n",
       "      <th>Val Accuracy</th>\n",
       "      <th>Train Recall</th>\n",
       "      <th>Val Recall</th>\n",
       "      <th>Run Time</th>\n",
       "    </tr>\n",
       "  </thead>\n",
       "  <tbody>\n",
       "    <tr>\n",
       "      <th>LogisticRegressor</th>\n",
       "      <td>97.57%</td>\n",
       "      <td>95.88%</td>\n",
       "      <td>99.14%</td>\n",
       "      <td>83.83%</td>\n",
       "      <td>6.92194</td>\n",
       "    </tr>\n",
       "    <tr>\n",
       "      <th>DecisionTreeClassifier</th>\n",
       "      <td>99.96%</td>\n",
       "      <td>99.89%</td>\n",
       "      <td>100.00%</td>\n",
       "      <td>96.76%</td>\n",
       "      <td>3.417117</td>\n",
       "    </tr>\n",
       "  </tbody>\n",
       "</table>\n",
       "</div>"
      ],
      "text/plain": [
       "                       Train Accuracy Val Accuracy Train Recall Val Recall  \\\n",
       "LogisticRegressor              97.57%       95.88%       99.14%     83.83%   \n",
       "DecisionTreeClassifier         99.96%       99.89%      100.00%     96.76%   \n",
       "\n",
       "                        Run Time  \n",
       "LogisticRegressor        6.92194  \n",
       "DecisionTreeClassifier  3.417117  "
      ]
     },
     "metadata": {},
     "output_type": "display_data"
    }
   ],
   "source": [
    "res_list = [('SMOTE', SMOTE()),\n",
    "            ('ADASYN', ADASYN())]\n",
    "\n",
    "outputs = []\n",
    "for title, res in res_list:\n",
    "    print(colored(title, 'red', attrs=['bold']).center(120, \"-\"))\n",
    "    var = auto_ml(X_trainval, y_trainval, models_dict, scaler=MinMaxScaler(),\n",
    "                    cv=StratifiedKFold(n_splits=5), res_t=res)\n",
    "    outputs.append(var[0])\n",
    "    display(var[1])"
   ]
  },
  {
   "cell_type": "code",
   "execution_count": 10,
   "metadata": {
    "ExecuteTime": {
     "end_time": "2022-06-25T18:40:04.141335Z",
     "start_time": "2022-06-25T18:09:12.815457Z"
    }
   },
   "outputs": [
    {
     "data": {
      "image/png": "[encoded data removed]",
      "text/plain": [
       "<Figure size 1440x576 with 1 Axes>"
      ]
     },
     "metadata": {
      "needs_background": "light"
     },
     "output_type": "display_data"
    }
   ],
   "source": [
    "ps_over = pd.DataFrame(index=models_dict.keys())\n",
    "ps_over['NoResampling Val Recall'] = auto_run[1]['Val Recall']\n",
    "ps_over['SMOTE Val Recall'] = outputs[0]['Val Recall']\n",
    "ps_over['ADASYN Val Recall'] = outputs[1]['Val Recall']\n",
    "fig, ax = plt.subplots(figsize=(20, 8))\n",
    "ps_over.plot.bar(ax=ax)\n",
    "ax.set_ylabel('Recall Score', fontsize=12)\n",
    "for spine in ['right', 'top']:\n",
    "        ax.spines[spine].set_visible(False)\n",
    "ax.legend(edgecolor='white')\n",
    "fig.suptitle(\"Resampling Techniques-Oversampling\", size=15, y=0.9, weight='bold')\n",
    "plt.xticks(rotation=45, fontsize=12)\n",
    "plt.show()"
   ]
  },
  {
   "cell_type": "markdown",
   "metadata": {},
   "source": [
    "#### Undersampling"
   ]
  },
  {
   "cell_type": "code",
   "execution_count": 11,
   "metadata": {},
   "outputs": [
    {
     "name": "stdout",
     "output_type": "stream",
     "text": [
      "------------------------------------------------\u001b[1m\u001b[31mTomekLinks\u001b[0m-------------------------------------------------\n"
     ]
    },
    {
     "data": {
      "application/vnd.jupyter.widget-view+json": {
       "model_id": "98a8f8803d894326ad8c19d59b169955",
       "version_major": 2,
       "version_minor": 0
      },
      "text/plain": [
       "  0%|          | 0/2 [00:00<?, ?it/s]"
      ]
     },
     "metadata": {},
     "output_type": "display_data"
    },
    {
     "data": {
      "application/vnd.jupyter.widget-view+json": {
       "model_id": "8615a725aa364e4a80cf22d9086de397",
       "version_major": 2,
       "version_minor": 0
      },
      "text/plain": [
       "0it [00:00, ?it/s]"
      ]
     },
     "metadata": {},
     "output_type": "display_data"
    },
    {
     "name": "stdout",
     "output_type": "stream",
     "text": [
      "Resampling done in 26.46421456336975\n",
      "Resampling done in 27.492138385772705\n",
      "Resampling done in 24.474334955215454\n",
      "Resampling done in 25.52868413925171\n",
      "Resampling done in 24.29196000099182\n"
     ]
    },
    {
     "data": {
      "application/vnd.jupyter.widget-view+json": {
       "model_id": "eef04b22a5e54b848ffe69c18cac6968",
       "version_major": 2,
       "version_minor": 0
      },
      "text/plain": [
       "0it [00:00, ?it/s]"
      ]
     },
     "metadata": {},
     "output_type": "display_data"
    },
    {
     "name": "stdout",
     "output_type": "stream",
     "text": [
      "Resampling done in 26.30506920814514\n",
      "Resampling done in 26.43387794494629\n",
      "Resampling done in 23.773077487945557\n",
      "Resampling done in 24.614093542099\n",
      "Resampling done in 28.621811866760254\n"
     ]
    },
    {
     "data": {
      "text/html": [
       "<div>\n",
       "<style scoped>\n",
       "    .dataframe tbody tr th:only-of-type {\n",
       "        vertical-align: middle;\n",
       "    }\n",
       "\n",
       "    .dataframe tbody tr th {\n",
       "        vertical-align: top;\n",
       "    }\n",
       "\n",
       "    .dataframe thead th {\n",
       "        text-align: right;\n",
       "    }\n",
       "</style>\n",
       "<table border=\"1\" class=\"dataframe\">\n",
       "  <thead>\n",
       "    <tr style=\"text-align: right;\">\n",
       "      <th></th>\n",
       "      <th>Train Accuracy</th>\n",
       "      <th>Val Accuracy</th>\n",
       "      <th>Train Recall</th>\n",
       "      <th>Val Recall</th>\n",
       "      <th>Run Time</th>\n",
       "    </tr>\n",
       "  </thead>\n",
       "  <tbody>\n",
       "    <tr>\n",
       "      <th>LogisticRegressor</th>\n",
       "      <td>99.81%</td>\n",
       "      <td>99.77%</td>\n",
       "      <td>74.80%</td>\n",
       "      <td>70.08%</td>\n",
       "      <td>1.05819</td>\n",
       "    </tr>\n",
       "    <tr>\n",
       "      <th>DecisionTreeClassifier</th>\n",
       "      <td>99.99%</td>\n",
       "      <td>99.96%</td>\n",
       "      <td>98.85%</td>\n",
       "      <td>97.03%</td>\n",
       "      <td>3.186787</td>\n",
       "    </tr>\n",
       "  </tbody>\n",
       "</table>\n",
       "</div>"
      ],
      "text/plain": [
       "                       Train Accuracy Val Accuracy Train Recall Val Recall  \\\n",
       "LogisticRegressor              99.81%       99.77%       74.80%     70.08%   \n",
       "DecisionTreeClassifier         99.99%       99.96%       98.85%     97.03%   \n",
       "\n",
       "                        Run Time  \n",
       "LogisticRegressor        1.05819  \n",
       "DecisionTreeClassifier  3.186787  "
      ]
     },
     "metadata": {},
     "output_type": "display_data"
    },
    {
     "name": "stdout",
     "output_type": "stream",
     "text": [
      "-------------------------------------------------\u001b[1m\u001b[31mNearMiss\u001b[0m--------------------------------------------------\n"
     ]
    },
    {
     "data": {
      "application/vnd.jupyter.widget-view+json": {
       "model_id": "c80c1662e1e9443c8c98ffd23ade4b9a",
       "version_major": 2,
       "version_minor": 0
      },
      "text/plain": [
       "  0%|          | 0/2 [00:00<?, ?it/s]"
      ]
     },
     "metadata": {},
     "output_type": "display_data"
    },
    {
     "data": {
      "application/vnd.jupyter.widget-view+json": {
       "model_id": "5a91ef167fdc4aff9396bca2635fc5bd",
       "version_major": 2,
       "version_minor": 0
      },
      "text/plain": [
       "0it [00:00, ?it/s]"
      ]
     },
     "metadata": {},
     "output_type": "display_data"
    },
    {
     "name": "stdout",
     "output_type": "stream",
     "text": [
      "Resampling done in 0.7859017848968506\n",
      "Resampling done in 0.6158764362335205\n",
      "Resampling done in 0.6419262886047363\n",
      "Resampling done in 0.7400157451629639\n",
      "Resampling done in 0.6716220378875732\n"
     ]
    },
    {
     "data": {
      "application/vnd.jupyter.widget-view+json": {
       "model_id": "600c96dc5dd54aa990c0de15d9c9c525",
       "version_major": 2,
       "version_minor": 0
      },
      "text/plain": [
       "0it [00:00, ?it/s]"
      ]
     },
     "metadata": {},
     "output_type": "display_data"
    },
    {
     "name": "stdout",
     "output_type": "stream",
     "text": [
      "Resampling done in 0.646378755569458\n",
      "Resampling done in 0.7556664943695068\n",
      "Resampling done in 0.5456118583679199\n",
      "Resampling done in 0.6093711853027344\n",
      "Resampling done in 0.5574753284454346\n"
     ]
    },
    {
     "data": {
      "text/html": [
       "<div>\n",
       "<style scoped>\n",
       "    .dataframe tbody tr th:only-of-type {\n",
       "        vertical-align: middle;\n",
       "    }\n",
       "\n",
       "    .dataframe tbody tr th {\n",
       "        vertical-align: top;\n",
       "    }\n",
       "\n",
       "    .dataframe thead th {\n",
       "        text-align: right;\n",
       "    }\n",
       "</style>\n",
       "<table border=\"1\" class=\"dataframe\">\n",
       "  <thead>\n",
       "    <tr style=\"text-align: right;\">\n",
       "      <th></th>\n",
       "      <th>Train Accuracy</th>\n",
       "      <th>Val Accuracy</th>\n",
       "      <th>Train Recall</th>\n",
       "      <th>Val Recall</th>\n",
       "      <th>Run Time</th>\n",
       "    </tr>\n",
       "  </thead>\n",
       "  <tbody>\n",
       "    <tr>\n",
       "      <th>LogisticRegressor</th>\n",
       "      <td>93.40%</td>\n",
       "      <td>45.56%</td>\n",
       "      <td>89.82%</td>\n",
       "      <td>89.23%</td>\n",
       "      <td>0.065819</td>\n",
       "    </tr>\n",
       "    <tr>\n",
       "      <th>DecisionTreeClassifier</th>\n",
       "      <td>100.00%</td>\n",
       "      <td>70.70%</td>\n",
       "      <td>100.00%</td>\n",
       "      <td>99.46%</td>\n",
       "      <td>0.046868</td>\n",
       "    </tr>\n",
       "  </tbody>\n",
       "</table>\n",
       "</div>"
      ],
      "text/plain": [
       "                       Train Accuracy Val Accuracy Train Recall Val Recall  \\\n",
       "LogisticRegressor              93.40%       45.56%       89.82%     89.23%   \n",
       "DecisionTreeClassifier        100.00%       70.70%      100.00%     99.46%   \n",
       "\n",
       "                        Run Time  \n",
       "LogisticRegressor       0.065819  \n",
       "DecisionTreeClassifier  0.046868  "
      ]
     },
     "metadata": {},
     "output_type": "display_data"
    }
   ],
   "source": [
    "res_list = [('TomekLinks', TomekLinks()),\n",
    "            ('NearMiss', NearMiss())]\n",
    "\n",
    "outputs_u = []\n",
    "for title, res in res_list:\n",
    "    print(colored(title, 'red', attrs=['bold']).center(120, \"-\"))\n",
    "    var = auto_ml(X_trainval, y_trainval, models_dict, scaler=MinMaxScaler(),\n",
    "                  cv=StratifiedKFold(n_splits=5), res_t=res)\n",
    "    outputs_u.append(var[0])\n",
    "    display(var[1])"
   ]
  },
  {
   "cell_type": "code",
   "execution_count": 12,
   "metadata": {},
   "outputs": [
    {
     "data": {
      "image/png": "[encoded data removed]",
      "text/plain": [
       "<Figure size 1440x576 with 1 Axes>"
      ]
     },
     "metadata": {
      "needs_background": "light"
     },
     "output_type": "display_data"
    }
   ],
   "source": [
    "ps_under = pd.DataFrame(index=models_dict.keys())\n",
    "ps_under['NoResampling Val Recall'] = auto_run[1]['Val Recall']\n",
    "ps_under['TomekLinks Val Recall'] = outputs_u[0]['Val Recall']\n",
    "ps_under['NearMiss Val Recall'] = outputs_u[1]['Val Recall']\n",
    "\n",
    "fig, ax = plt.subplots(figsize=(20, 8))\n",
    "ps_under.plot.bar(ax=ax)\n",
    "ax.set_ylabel('Recall Score', fontsize=12)\n",
    "for spine in ['right', 'top']:\n",
    "        ax.spines[spine].set_visible(False)\n",
    "ax.legend(edgecolor='white')\n",
    "fig.suptitle(\"Resampling Techniques-Undersampling\", size=15, y=0.9, weight='bold')\n",
    "plt.xticks(rotation=45, fontsize=12)\n",
    "plt.show()"
   ]
  },
  {
   "cell_type": "markdown",
   "metadata": {},
   "source": [
    "<div><span style=\"background-color: #ff0257; padding-top: 100px; padding-right: 20px; padding-bottom: 50px; padding-left: 20px; color: #FFFAF0; font-size: 18px; font-weight: bold\">Grid-Search and Randomized Search Cross Validation </span></div>"
   ]
  },
  {
   "cell_type": "markdown",
   "metadata": {},
   "source": [
    "[Grid Search](https://scikit-learn.org/stable/modules/generated/sklearn.model_selection.GridSearchCV.html) and [Randomized Search Cross Validation](https://scikit-learn.org/stable/modules/generated/sklearn.model_selection.RandomizedSearchCV.html) are commonly used to hypertune models across multiple parameters"
   ]
  },
  {
   "cell_type": "code",
   "execution_count": 13,
   "metadata": {
    "ExecuteTime": {
     "end_time": "2022-06-25T18:44:46.659479Z",
     "start_time": "2022-06-25T18:44:46.643942Z"
    }
   },
   "outputs": [],
   "source": [
    "def train_rf(X, y, metric, res_t=None, hypertune=False, resample=False):\n",
    "    \"\"\"Hypertune Random Forest and apply TomekLinks()\"\"\"\n",
    "    params = {#'n_estimators': [50, 100, 150, 200],\n",
    "              #'max_features': ['auto', 'sqrt', 'log2'],\n",
    "              'max_depth': list(range(3, 20))\n",
    "              }\n",
    "    new_params = {'decisiontreeclassifier__' +\n",
    "                  key: params[key] for key in params}\n",
    "\n",
    "    skf = StratifiedKFold(n_splits=5)\n",
    "    if resample is True:\n",
    "        imba_pipeline = make_pipeline(MinMaxScaler(),\n",
    "                                      res_t,\n",
    "                                      DecisionTreeClassifier(random_state = 11))\n",
    "    else:\n",
    "        imba_pipeline = make_pipeline(MinMaxScaler(),\n",
    "                                      DecisionTreeClassifier(random_state = 11))\n",
    "\n",
    "    if hypertune is True:\n",
    "        clf = GridSearchCV(imba_pipeline, param_grid=new_params,\n",
    "                           cv=skf, scoring=metric, return_train_score=True,\n",
    "                          verbose=10)\n",
    "        start_time = time.time()\n",
    "        clf.fit(X, y)\n",
    "        run_time = (time.time() - start_time)\n",
    "        model = clf.best_estimator_.fit(X, y)\n",
    "        return ['Decision Tree Classifier', np.mean(clf.cv_results_['mean_train_score']),\n",
    "                clf.best_score_, 'Best parameters = {0}'.format(\n",
    "                    clf.best_params_),\n",
    "                run_time, model]\n",
    "    else:\n",
    "        clf = imba_pipeline\n",
    "        start_time = time.time()\n",
    "        clf.fit(X, y)\n",
    "        run_time = (time.time() - start_time)\n",
    "        cv_scores = cross_validate(estimator=clf, X=X, y=y,\n",
    "                                   scoring=metric, cv=skf, n_jobs=-1,\n",
    "                                   return_train_score=True)\n",
    "\n",
    "        return ['Decision Tree Classifier', np.mean(cv_scores['train_score']),\n",
    "                np.mean(cv_scores['test_score']), run_time, clf]"
   ]
  },
  {
   "cell_type": "code",
   "execution_count": 14,
   "metadata": {},
   "outputs": [
    {
     "name": "stdout",
     "output_type": "stream",
     "text": [
      "Fitting 5 folds for each of 17 candidates, totalling 85 fits\n",
      "[CV 1/5; 1/17] START decisiontreeclassifier__max_depth=3........................\n",
      "[CV 1/5; 1/17] END decisiontreeclassifier__max_depth=3;, score=(train=0.919, test=0.824) total time=  24.0s\n",
      "[CV 2/5; 1/17] START decisiontreeclassifier__max_depth=3........................\n",
      "[CV 2/5; 1/17] END decisiontreeclassifier__max_depth=3;, score=(train=0.905, test=0.893) total time=  26.4s\n",
      "[CV 3/5; 1/17] START decisiontreeclassifier__max_depth=3........................\n",
      "[CV 3/5; 1/17] END decisiontreeclassifier__max_depth=3;, score=(train=0.892, test=0.946) total time=  27.1s\n",
      "[CV 4/5; 1/17] START decisiontreeclassifier__max_depth=3........................\n",
      "[CV 4/5; 1/17] END decisiontreeclassifier__max_depth=3;, score=(train=0.902, test=0.905) total time=  25.5s\n",
      "[CV 5/5; 1/17] START decisiontreeclassifier__max_depth=3........................\n",
      "[CV 5/5; 1/17] END decisiontreeclassifier__max_depth=3;, score=(train=0.892, test=0.865) total time=  26.1s\n",
      "[CV 1/5; 2/17] START decisiontreeclassifier__max_depth=4........................\n",
      "[CV 1/5; 2/17] END decisiontreeclassifier__max_depth=4;, score=(train=0.939, test=0.838) total time=  27.9s\n",
      "[CV 2/5; 2/17] START decisiontreeclassifier__max_depth=4........................\n",
      "[CV 2/5; 2/17] END decisiontreeclassifier__max_depth=4;, score=(train=0.926, test=0.920) total time=  30.7s\n",
      "[CV 3/5; 2/17] START decisiontreeclassifier__max_depth=4........................\n",
      "[CV 3/5; 2/17] END decisiontreeclassifier__max_depth=4;, score=(train=0.912, test=0.959) total time=  28.9s\n",
      "[CV 4/5; 2/17] START decisiontreeclassifier__max_depth=4........................\n",
      "[CV 4/5; 2/17] END decisiontreeclassifier__max_depth=4;, score=(train=0.919, test=0.932) total time=  28.1s\n",
      "[CV 5/5; 2/17] START decisiontreeclassifier__max_depth=4........................\n",
      "[CV 5/5; 2/17] END decisiontreeclassifier__max_depth=4;, score=(train=0.919, test=0.932) total time=  25.6s\n",
      "[CV 1/5; 3/17] START decisiontreeclassifier__max_depth=5........................\n",
      "[CV 1/5; 3/17] END decisiontreeclassifier__max_depth=5;, score=(train=0.943, test=0.838) total time=  25.7s\n",
      "[CV 2/5; 3/17] START decisiontreeclassifier__max_depth=5........................\n",
      "[CV 2/5; 3/17] END decisiontreeclassifier__max_depth=5;, score=(train=0.986, test=1.000) total time=  25.7s\n",
      "[CV 3/5; 3/17] START decisiontreeclassifier__max_depth=5........................\n",
      "[CV 3/5; 3/17] END decisiontreeclassifier__max_depth=5;, score=(train=0.919, test=0.959) total time=  25.9s\n",
      "[CV 4/5; 3/17] START decisiontreeclassifier__max_depth=5........................\n",
      "[CV 4/5; 3/17] END decisiontreeclassifier__max_depth=5;, score=(train=0.926, test=0.932) total time=  25.5s\n",
      "[CV 5/5; 3/17] START decisiontreeclassifier__max_depth=5........................\n",
      "[CV 5/5; 3/17] END decisiontreeclassifier__max_depth=5;, score=(train=0.926, test=0.932) total time=  25.3s\n",
      "[CV 1/5; 4/17] START decisiontreeclassifier__max_depth=6........................\n",
      "[CV 1/5; 4/17] END decisiontreeclassifier__max_depth=6;, score=(train=0.990, test=0.946) total time=  25.3s\n",
      "[CV 2/5; 4/17] START decisiontreeclassifier__max_depth=6........................\n",
      "[CV 2/5; 4/17] END decisiontreeclassifier__max_depth=6;, score=(train=0.993, test=1.000) total time=  25.6s\n",
      "[CV 3/5; 4/17] START decisiontreeclassifier__max_depth=6........................\n",
      "[CV 3/5; 4/17] END decisiontreeclassifier__max_depth=6;, score=(train=0.923, test=0.959) total time=  25.9s\n",
      "[CV 4/5; 4/17] START decisiontreeclassifier__max_depth=6........................\n",
      "[CV 4/5; 4/17] END decisiontreeclassifier__max_depth=6;, score=(train=0.929, test=0.932) total time=  25.6s\n",
      "[CV 5/5; 4/17] START decisiontreeclassifier__max_depth=6........................\n",
      "[CV 5/5; 4/17] END decisiontreeclassifier__max_depth=6;, score=(train=0.919, test=0.905) total time=  26.4s\n",
      "[CV 1/5; 5/17] START decisiontreeclassifier__max_depth=7........................\n",
      "[CV 1/5; 5/17] END decisiontreeclassifier__max_depth=7;, score=(train=0.987, test=0.905) total time=  26.0s\n",
      "[CV 2/5; 5/17] START decisiontreeclassifier__max_depth=7........................\n",
      "[CV 2/5; 5/17] END decisiontreeclassifier__max_depth=7;, score=(train=0.993, test=1.000) total time=  25.8s\n",
      "[CV 3/5; 5/17] START decisiontreeclassifier__max_depth=7........................\n",
      "[CV 3/5; 5/17] END decisiontreeclassifier__max_depth=7;, score=(train=0.987, test=1.000) total time=  27.7s\n",
      "[CV 4/5; 5/17] START decisiontreeclassifier__max_depth=7........................\n",
      "[CV 4/5; 5/17] END decisiontreeclassifier__max_depth=7;, score=(train=0.990, test=0.973) total time=  27.4s\n",
      "[CV 5/5; 5/17] START decisiontreeclassifier__max_depth=7........................\n",
      "[CV 5/5; 5/17] END decisiontreeclassifier__max_depth=7;, score=(train=0.987, test=0.959) total time=  25.9s\n",
      "[CV 1/5; 6/17] START decisiontreeclassifier__max_depth=8........................\n",
      "[CV 1/5; 6/17] END decisiontreeclassifier__max_depth=8;, score=(train=0.990, test=0.919) total time=  28.6s\n",
      "[CV 2/5; 6/17] START decisiontreeclassifier__max_depth=8........................\n",
      "[CV 2/5; 6/17] END decisiontreeclassifier__max_depth=8;, score=(train=0.997, test=1.000) total time=  27.8s\n",
      "[CV 3/5; 6/17] START decisiontreeclassifier__max_depth=8........................\n",
      "[CV 3/5; 6/17] END decisiontreeclassifier__max_depth=8;, score=(train=0.993, test=1.000) total time=  30.9s\n",
      "[CV 4/5; 6/17] START decisiontreeclassifier__max_depth=8........................\n",
      "[CV 4/5; 6/17] END decisiontreeclassifier__max_depth=8;, score=(train=0.997, test=0.959) total time=  30.5s\n",
      "[CV 5/5; 6/17] START decisiontreeclassifier__max_depth=8........................\n",
      "[CV 5/5; 6/17] END decisiontreeclassifier__max_depth=8;, score=(train=0.997, test=0.959) total time=  36.2s\n",
      "[CV 1/5; 7/17] START decisiontreeclassifier__max_depth=9........................\n",
      "[CV 1/5; 7/17] END decisiontreeclassifier__max_depth=9;, score=(train=0.997, test=0.892) total time=  33.7s\n",
      "[CV 2/5; 7/17] START decisiontreeclassifier__max_depth=9........................\n",
      "[CV 2/5; 7/17] END decisiontreeclassifier__max_depth=9;, score=(train=0.997, test=0.973) total time=  32.7s\n",
      "[CV 3/5; 7/17] START decisiontreeclassifier__max_depth=9........................\n",
      "[CV 3/5; 7/17] END decisiontreeclassifier__max_depth=9;, score=(train=0.990, test=1.000) total time=  35.3s\n",
      "[CV 4/5; 7/17] START decisiontreeclassifier__max_depth=9........................\n",
      "[CV 4/5; 7/17] END decisiontreeclassifier__max_depth=9;, score=(train=0.997, test=0.959) total time=  30.8s\n",
      "[CV 5/5; 7/17] START decisiontreeclassifier__max_depth=9........................\n",
      "[CV 5/5; 7/17] END decisiontreeclassifier__max_depth=9;, score=(train=0.997, test=0.959) total time=  32.9s\n",
      "[CV 1/5; 8/17] START decisiontreeclassifier__max_depth=10.......................\n",
      "[CV 1/5; 8/17] END decisiontreeclassifier__max_depth=10;, score=(train=1.000, test=0.905) total time=  34.8s\n",
      "[CV 2/5; 8/17] START decisiontreeclassifier__max_depth=10.......................\n",
      "[CV 2/5; 8/17] END decisiontreeclassifier__max_depth=10;, score=(train=1.000, test=0.960) total time=  32.6s\n",
      "[CV 3/5; 8/17] START decisiontreeclassifier__max_depth=10.......................\n",
      "[CV 3/5; 8/17] END decisiontreeclassifier__max_depth=10;, score=(train=0.997, test=1.000) total time=  29.9s\n",
      "[CV 4/5; 8/17] START decisiontreeclassifier__max_depth=10.......................\n",
      "[CV 4/5; 8/17] END decisiontreeclassifier__max_depth=10;, score=(train=1.000, test=0.959) total time=  32.7s\n",
      "[CV 5/5; 8/17] START decisiontreeclassifier__max_depth=10.......................\n",
      "[CV 5/5; 8/17] END decisiontreeclassifier__max_depth=10;, score=(train=1.000, test=0.946) total time=  30.9s\n",
      "[CV 1/5; 9/17] START decisiontreeclassifier__max_depth=11.......................\n",
      "[CV 1/5; 9/17] END decisiontreeclassifier__max_depth=11;, score=(train=1.000, test=0.905) total time=  34.9s\n",
      "[CV 2/5; 9/17] START decisiontreeclassifier__max_depth=11.......................\n",
      "[CV 2/5; 9/17] END decisiontreeclassifier__max_depth=11;, score=(train=1.000, test=0.960) total time=  30.3s\n",
      "[CV 3/5; 9/17] START decisiontreeclassifier__max_depth=11.......................\n",
      "[CV 3/5; 9/17] END decisiontreeclassifier__max_depth=11;, score=(train=1.000, test=1.000) total time=  35.3s\n",
      "[CV 4/5; 9/17] START decisiontreeclassifier__max_depth=11.......................\n",
      "[CV 4/5; 9/17] END decisiontreeclassifier__max_depth=11;, score=(train=1.000, test=0.959) total time=  28.8s\n",
      "[CV 5/5; 9/17] START decisiontreeclassifier__max_depth=11.......................\n",
      "[CV 5/5; 9/17] END decisiontreeclassifier__max_depth=11;, score=(train=1.000, test=0.946) total time=  35.7s\n",
      "[CV 1/5; 10/17] START decisiontreeclassifier__max_depth=12......................\n",
      "[CV 1/5; 10/17] END decisiontreeclassifier__max_depth=12;, score=(train=1.000, test=0.905) total time=  34.2s\n",
      "[CV 2/5; 10/17] START decisiontreeclassifier__max_depth=12......................\n",
      "[CV 2/5; 10/17] END decisiontreeclassifier__max_depth=12;, score=(train=1.000, test=0.960) total time=  31.9s\n",
      "[CV 3/5; 10/17] START decisiontreeclassifier__max_depth=12......................\n",
      "[CV 3/5; 10/17] END decisiontreeclassifier__max_depth=12;, score=(train=1.000, test=1.000) total time=  32.3s\n",
      "[CV 4/5; 10/17] START decisiontreeclassifier__max_depth=12......................\n",
      "[CV 4/5; 10/17] END decisiontreeclassifier__max_depth=12;, score=(train=1.000, test=0.959) total time=  31.8s\n",
      "[CV 5/5; 10/17] START decisiontreeclassifier__max_depth=12......................\n",
      "[CV 5/5; 10/17] END decisiontreeclassifier__max_depth=12;, score=(train=1.000, test=0.946) total time=  28.5s\n",
      "[CV 1/5; 11/17] START decisiontreeclassifier__max_depth=13......................\n",
      "[CV 1/5; 11/17] END decisiontreeclassifier__max_depth=13;, score=(train=1.000, test=0.905) total time=  26.0s\n",
      "[CV 2/5; 11/17] START decisiontreeclassifier__max_depth=13......................\n",
      "[CV 2/5; 11/17] END decisiontreeclassifier__max_depth=13;, score=(train=1.000, test=0.960) total time=  28.2s\n",
      "[CV 3/5; 11/17] START decisiontreeclassifier__max_depth=13......................\n",
      "[CV 3/5; 11/17] END decisiontreeclassifier__max_depth=13;, score=(train=1.000, test=1.000) total time=  29.5s\n",
      "[CV 4/5; 11/17] START decisiontreeclassifier__max_depth=13......................\n",
      "[CV 4/5; 11/17] END decisiontreeclassifier__max_depth=13;, score=(train=1.000, test=0.959) total time=  31.7s\n",
      "[CV 5/5; 11/17] START decisiontreeclassifier__max_depth=13......................\n",
      "[CV 5/5; 11/17] END decisiontreeclassifier__max_depth=13;, score=(train=1.000, test=0.946) total time=  29.4s\n",
      "[CV 1/5; 12/17] START decisiontreeclassifier__max_depth=14......................\n",
      "[CV 1/5; 12/17] END decisiontreeclassifier__max_depth=14;, score=(train=1.000, test=0.905) total time=  37.5s\n",
      "[CV 2/5; 12/17] START decisiontreeclassifier__max_depth=14......................\n",
      "[CV 2/5; 12/17] END decisiontreeclassifier__max_depth=14;, score=(train=1.000, test=0.960) total time=  34.1s\n",
      "[CV 3/5; 12/17] START decisiontreeclassifier__max_depth=14......................\n",
      "[CV 3/5; 12/17] END decisiontreeclassifier__max_depth=14;, score=(train=1.000, test=1.000) total time=  33.0s\n",
      "[CV 4/5; 12/17] START decisiontreeclassifier__max_depth=14......................\n",
      "[CV 4/5; 12/17] END decisiontreeclassifier__max_depth=14;, score=(train=1.000, test=0.959) total time=  32.8s\n",
      "[CV 5/5; 12/17] START decisiontreeclassifier__max_depth=14......................\n",
      "[CV 5/5; 12/17] END decisiontreeclassifier__max_depth=14;, score=(train=1.000, test=0.946) total time=  29.1s\n",
      "[CV 1/5; 13/17] START decisiontreeclassifier__max_depth=15......................\n",
      "[CV 1/5; 13/17] END decisiontreeclassifier__max_depth=15;, score=(train=1.000, test=0.905) total time=  30.5s\n",
      "[CV 2/5; 13/17] START decisiontreeclassifier__max_depth=15......................\n",
      "[CV 2/5; 13/17] END decisiontreeclassifier__max_depth=15;, score=(train=1.000, test=0.960) total time=  25.1s\n",
      "[CV 3/5; 13/17] START decisiontreeclassifier__max_depth=15......................\n",
      "[CV 3/5; 13/17] END decisiontreeclassifier__max_depth=15;, score=(train=1.000, test=1.000) total time=  25.7s\n",
      "[CV 4/5; 13/17] START decisiontreeclassifier__max_depth=15......................\n",
      "[CV 4/5; 13/17] END decisiontreeclassifier__max_depth=15;, score=(train=1.000, test=0.959) total time=  25.6s\n",
      "[CV 5/5; 13/17] START decisiontreeclassifier__max_depth=15......................\n",
      "[CV 5/5; 13/17] END decisiontreeclassifier__max_depth=15;, score=(train=1.000, test=0.946) total time=  33.2s\n",
      "[CV 1/5; 14/17] START decisiontreeclassifier__max_depth=16......................\n",
      "[CV 1/5; 14/17] END decisiontreeclassifier__max_depth=16;, score=(train=1.000, test=0.905) total time=  27.4s\n",
      "[CV 2/5; 14/17] START decisiontreeclassifier__max_depth=16......................\n",
      "[CV 2/5; 14/17] END decisiontreeclassifier__max_depth=16;, score=(train=1.000, test=0.960) total time=  25.2s\n",
      "[CV 3/5; 14/17] START decisiontreeclassifier__max_depth=16......................\n",
      "[CV 3/5; 14/17] END decisiontreeclassifier__max_depth=16;, score=(train=1.000, test=1.000) total time=  26.9s\n",
      "[CV 4/5; 14/17] START decisiontreeclassifier__max_depth=16......................\n",
      "[CV 4/5; 14/17] END decisiontreeclassifier__max_depth=16;, score=(train=1.000, test=0.959) total time=  25.4s\n",
      "[CV 5/5; 14/17] START decisiontreeclassifier__max_depth=16......................\n",
      "[CV 5/5; 14/17] END decisiontreeclassifier__max_depth=16;, score=(train=1.000, test=0.946) total time=  25.9s\n",
      "[CV 1/5; 15/17] START decisiontreeclassifier__max_depth=17......................\n",
      "[CV 1/5; 15/17] END decisiontreeclassifier__max_depth=17;, score=(train=1.000, test=0.905) total time=  25.7s\n",
      "[CV 2/5; 15/17] START decisiontreeclassifier__max_depth=17......................\n",
      "[CV 2/5; 15/17] END decisiontreeclassifier__max_depth=17;, score=(train=1.000, test=0.960) total time=  24.9s\n",
      "[CV 3/5; 15/17] START decisiontreeclassifier__max_depth=17......................\n",
      "[CV 3/5; 15/17] END decisiontreeclassifier__max_depth=17;, score=(train=1.000, test=1.000) total time=  26.0s\n",
      "[CV 4/5; 15/17] START decisiontreeclassifier__max_depth=17......................\n",
      "[CV 4/5; 15/17] END decisiontreeclassifier__max_depth=17;, score=(train=1.000, test=0.959) total time=  26.2s\n",
      "[CV 5/5; 15/17] START decisiontreeclassifier__max_depth=17......................\n",
      "[CV 5/5; 15/17] END decisiontreeclassifier__max_depth=17;, score=(train=1.000, test=0.946) total time=  26.6s\n",
      "[CV 1/5; 16/17] START decisiontreeclassifier__max_depth=18......................\n",
      "[CV 1/5; 16/17] END decisiontreeclassifier__max_depth=18;, score=(train=1.000, test=0.905) total time=  28.1s\n",
      "[CV 2/5; 16/17] START decisiontreeclassifier__max_depth=18......................\n",
      "[CV 2/5; 16/17] END decisiontreeclassifier__max_depth=18;, score=(train=1.000, test=0.960) total time=  28.4s\n",
      "[CV 3/5; 16/17] START decisiontreeclassifier__max_depth=18......................\n",
      "[CV 3/5; 16/17] END decisiontreeclassifier__max_depth=18;, score=(train=1.000, test=1.000) total time=  27.6s\n",
      "[CV 4/5; 16/17] START decisiontreeclassifier__max_depth=18......................\n",
      "[CV 4/5; 16/17] END decisiontreeclassifier__max_depth=18;, score=(train=1.000, test=0.959) total time=  26.8s\n",
      "[CV 5/5; 16/17] START decisiontreeclassifier__max_depth=18......................\n",
      "[CV 5/5; 16/17] END decisiontreeclassifier__max_depth=18;, score=(train=1.000, test=0.946) total time=  26.0s\n",
      "[CV 1/5; 17/17] START decisiontreeclassifier__max_depth=19......................\n",
      "[CV 1/5; 17/17] END decisiontreeclassifier__max_depth=19;, score=(train=1.000, test=0.905) total time=  25.7s\n",
      "[CV 2/5; 17/17] START decisiontreeclassifier__max_depth=19......................\n",
      "[CV 2/5; 17/17] END decisiontreeclassifier__max_depth=19;, score=(train=1.000, test=0.960) total time=  25.6s\n",
      "[CV 3/5; 17/17] START decisiontreeclassifier__max_depth=19......................\n",
      "[CV 3/5; 17/17] END decisiontreeclassifier__max_depth=19;, score=(train=1.000, test=1.000) total time=  27.8s\n",
      "[CV 4/5; 17/17] START decisiontreeclassifier__max_depth=19......................\n",
      "[CV 4/5; 17/17] END decisiontreeclassifier__max_depth=19;, score=(train=1.000, test=0.959) total time=  31.8s\n",
      "[CV 5/5; 17/17] START decisiontreeclassifier__max_depth=19......................\n",
      "[CV 5/5; 17/17] END decisiontreeclassifier__max_depth=19;, score=(train=1.000, test=0.946) total time=  32.8s\n",
      "Fitting 5 folds for each of 17 candidates, totalling 85 fits\n",
      "[CV 1/5; 1/17] START decisiontreeclassifier__max_depth=3........................\n",
      "[CV 1/5; 1/17] END decisiontreeclassifier__max_depth=3;, score=(train=0.999, test=0.999) total time=  24.2s\n",
      "[CV 2/5; 1/17] START decisiontreeclassifier__max_depth=3........................\n",
      "[CV 2/5; 1/17] END decisiontreeclassifier__max_depth=3;, score=(train=0.999, test=0.999) total time=  25.0s\n",
      "[CV 3/5; 1/17] START decisiontreeclassifier__max_depth=3........................\n",
      "[CV 3/5; 1/17] END decisiontreeclassifier__max_depth=3;, score=(train=0.999, test=0.999) total time=  26.3s\n",
      "[CV 4/5; 1/17] START decisiontreeclassifier__max_depth=3........................\n",
      "[CV 4/5; 1/17] END decisiontreeclassifier__max_depth=3;, score=(train=0.999, test=0.999) total time=  26.4s\n",
      "[CV 5/5; 1/17] START decisiontreeclassifier__max_depth=3........................\n",
      "[CV 5/5; 1/17] END decisiontreeclassifier__max_depth=3;, score=(train=0.999, test=0.999) total time=  25.8s\n",
      "[CV 1/5; 2/17] START decisiontreeclassifier__max_depth=4........................\n",
      "[CV 1/5; 2/17] END decisiontreeclassifier__max_depth=4;, score=(train=0.999, test=0.999) total time=  26.1s\n",
      "[CV 2/5; 2/17] START decisiontreeclassifier__max_depth=4........................\n",
      "[CV 2/5; 2/17] END decisiontreeclassifier__max_depth=4;, score=(train=0.999, test=0.999) total time=  25.7s\n",
      "[CV 3/5; 2/17] START decisiontreeclassifier__max_depth=4........................\n",
      "[CV 3/5; 2/17] END decisiontreeclassifier__max_depth=4;, score=(train=0.999, test=0.999) total time=  25.7s\n",
      "[CV 4/5; 2/17] START decisiontreeclassifier__max_depth=4........................\n",
      "[CV 4/5; 2/17] END decisiontreeclassifier__max_depth=4;, score=(train=0.999, test=0.999) total time=  25.9s\n",
      "[CV 5/5; 2/17] START decisiontreeclassifier__max_depth=4........................\n",
      "[CV 5/5; 2/17] END decisiontreeclassifier__max_depth=4;, score=(train=0.999, test=0.999) total time=  25.7s\n",
      "[CV 1/5; 3/17] START decisiontreeclassifier__max_depth=5........................\n",
      "[CV 1/5; 3/17] END decisiontreeclassifier__max_depth=5;, score=(train=1.000, test=0.999) total time=  26.1s\n",
      "[CV 2/5; 3/17] START decisiontreeclassifier__max_depth=5........................\n",
      "[CV 2/5; 3/17] END decisiontreeclassifier__max_depth=5;, score=(train=1.000, test=1.000) total time=  25.7s\n",
      "[CV 3/5; 3/17] START decisiontreeclassifier__max_depth=5........................\n",
      "[CV 3/5; 3/17] END decisiontreeclassifier__max_depth=5;, score=(train=0.999, test=1.000) total time=  25.8s\n",
      "[CV 4/5; 3/17] START decisiontreeclassifier__max_depth=5........................\n",
      "[CV 4/5; 3/17] END decisiontreeclassifier__max_depth=5;, score=(train=1.000, test=0.999) total time=  25.1s\n",
      "[CV 5/5; 3/17] START decisiontreeclassifier__max_depth=5........................\n",
      "[CV 5/5; 3/17] END decisiontreeclassifier__max_depth=5;, score=(train=0.999, test=0.999) total time=  25.2s\n",
      "[CV 1/5; 4/17] START decisiontreeclassifier__max_depth=6........................\n",
      "[CV 1/5; 4/17] END decisiontreeclassifier__max_depth=6;, score=(train=1.000, test=0.999) total time=  29.1s\n",
      "[CV 2/5; 4/17] START decisiontreeclassifier__max_depth=6........................\n",
      "[CV 2/5; 4/17] END decisiontreeclassifier__max_depth=6;, score=(train=1.000, test=1.000) total time=  26.7s\n",
      "[CV 3/5; 4/17] START decisiontreeclassifier__max_depth=6........................\n",
      "[CV 3/5; 4/17] END decisiontreeclassifier__max_depth=6;, score=(train=1.000, test=1.000) total time=  31.1s\n",
      "[CV 4/5; 4/17] START decisiontreeclassifier__max_depth=6........................\n",
      "[CV 4/5; 4/17] END decisiontreeclassifier__max_depth=6;, score=(train=1.000, test=0.999) total time=  33.0s\n",
      "[CV 5/5; 4/17] START decisiontreeclassifier__max_depth=6........................\n",
      "[CV 5/5; 4/17] END decisiontreeclassifier__max_depth=6;, score=(train=0.999, test=0.999) total time=  31.7s\n",
      "[CV 1/5; 5/17] START decisiontreeclassifier__max_depth=7........................\n",
      "[CV 1/5; 5/17] END decisiontreeclassifier__max_depth=7;, score=(train=1.000, test=0.999) total time=  33.0s\n",
      "[CV 2/5; 5/17] START decisiontreeclassifier__max_depth=7........................\n",
      "[CV 2/5; 5/17] END decisiontreeclassifier__max_depth=7;, score=(train=1.000, test=1.000) total time=  31.8s\n",
      "[CV 3/5; 5/17] START decisiontreeclassifier__max_depth=7........................\n",
      "[CV 3/5; 5/17] END decisiontreeclassifier__max_depth=7;, score=(train=1.000, test=1.000) total time=  33.8s\n",
      "[CV 4/5; 5/17] START decisiontreeclassifier__max_depth=7........................\n",
      "[CV 4/5; 5/17] END decisiontreeclassifier__max_depth=7;, score=(train=1.000, test=1.000) total time=  37.0s\n",
      "[CV 5/5; 5/17] START decisiontreeclassifier__max_depth=7........................\n",
      "[CV 5/5; 5/17] END decisiontreeclassifier__max_depth=7;, score=(train=1.000, test=0.999) total time=  31.3s\n",
      "[CV 1/5; 6/17] START decisiontreeclassifier__max_depth=8........................\n",
      "[CV 1/5; 6/17] END decisiontreeclassifier__max_depth=8;, score=(train=1.000, test=0.999) total time=  28.2s\n",
      "[CV 2/5; 6/17] START decisiontreeclassifier__max_depth=8........................\n",
      "[CV 2/5; 6/17] END decisiontreeclassifier__max_depth=8;, score=(train=1.000, test=1.000) total time=  29.4s\n",
      "[CV 3/5; 6/17] START decisiontreeclassifier__max_depth=8........................\n",
      "[CV 3/5; 6/17] END decisiontreeclassifier__max_depth=8;, score=(train=1.000, test=1.000) total time=  34.1s\n",
      "[CV 4/5; 6/17] START decisiontreeclassifier__max_depth=8........................\n",
      "[CV 4/5; 6/17] END decisiontreeclassifier__max_depth=8;, score=(train=1.000, test=0.999) total time=  37.0s\n",
      "[CV 5/5; 6/17] START decisiontreeclassifier__max_depth=8........................\n",
      "[CV 5/5; 6/17] END decisiontreeclassifier__max_depth=8;, score=(train=1.000, test=0.999) total time=  34.3s\n",
      "[CV 1/5; 7/17] START decisiontreeclassifier__max_depth=9........................\n",
      "[CV 1/5; 7/17] END decisiontreeclassifier__max_depth=9;, score=(train=1.000, test=0.999) total time=  33.4s\n",
      "[CV 2/5; 7/17] START decisiontreeclassifier__max_depth=9........................\n",
      "[CV 2/5; 7/17] END decisiontreeclassifier__max_depth=9;, score=(train=1.000, test=1.000) total time=  33.4s\n",
      "[CV 3/5; 7/17] START decisiontreeclassifier__max_depth=9........................\n",
      "[CV 3/5; 7/17] END decisiontreeclassifier__max_depth=9;, score=(train=1.000, test=1.000) total time=  33.4s\n",
      "[CV 4/5; 7/17] START decisiontreeclassifier__max_depth=9........................\n",
      "[CV 4/5; 7/17] END decisiontreeclassifier__max_depth=9;, score=(train=1.000, test=0.999) total time=  35.4s\n",
      "[CV 5/5; 7/17] START decisiontreeclassifier__max_depth=9........................\n",
      "[CV 5/5; 7/17] END decisiontreeclassifier__max_depth=9;, score=(train=1.000, test=0.999) total time=  31.9s\n",
      "[CV 1/5; 8/17] START decisiontreeclassifier__max_depth=10.......................\n",
      "[CV 1/5; 8/17] END decisiontreeclassifier__max_depth=10;, score=(train=1.000, test=0.999) total time=  30.0s\n",
      "[CV 2/5; 8/17] START decisiontreeclassifier__max_depth=10.......................\n",
      "[CV 2/5; 8/17] END decisiontreeclassifier__max_depth=10;, score=(train=1.000, test=0.999) total time=  31.1s\n",
      "[CV 3/5; 8/17] START decisiontreeclassifier__max_depth=10.......................\n",
      "[CV 3/5; 8/17] END decisiontreeclassifier__max_depth=10;, score=(train=1.000, test=1.000) total time=  35.2s\n",
      "[CV 4/5; 8/17] START decisiontreeclassifier__max_depth=10.......................\n",
      "[CV 4/5; 8/17] END decisiontreeclassifier__max_depth=10;, score=(train=1.000, test=0.999) total time=  34.7s\n",
      "[CV 5/5; 8/17] START decisiontreeclassifier__max_depth=10.......................\n",
      "[CV 5/5; 8/17] END decisiontreeclassifier__max_depth=10;, score=(train=1.000, test=0.999) total time=  28.4s\n",
      "[CV 1/5; 9/17] START decisiontreeclassifier__max_depth=11.......................\n",
      "[CV 1/5; 9/17] END decisiontreeclassifier__max_depth=11;, score=(train=1.000, test=0.999) total time=  27.3s\n",
      "[CV 2/5; 9/17] START decisiontreeclassifier__max_depth=11.......................\n",
      "[CV 2/5; 9/17] END decisiontreeclassifier__max_depth=11;, score=(train=1.000, test=0.999) total time=  29.6s\n",
      "[CV 3/5; 9/17] START decisiontreeclassifier__max_depth=11.......................\n",
      "[CV 3/5; 9/17] END decisiontreeclassifier__max_depth=11;, score=(train=1.000, test=1.000) total time=  28.4s\n",
      "[CV 4/5; 9/17] START decisiontreeclassifier__max_depth=11.......................\n",
      "[CV 4/5; 9/17] END decisiontreeclassifier__max_depth=11;, score=(train=1.000, test=0.999) total time=  28.6s\n",
      "[CV 5/5; 9/17] START decisiontreeclassifier__max_depth=11.......................\n",
      "[CV 5/5; 9/17] END decisiontreeclassifier__max_depth=11;, score=(train=1.000, test=0.999) total time=  28.3s\n",
      "[CV 1/5; 10/17] START decisiontreeclassifier__max_depth=12......................\n",
      "[CV 1/5; 10/17] END decisiontreeclassifier__max_depth=12;, score=(train=1.000, test=0.999) total time=  29.2s\n",
      "[CV 2/5; 10/17] START decisiontreeclassifier__max_depth=12......................\n",
      "[CV 2/5; 10/17] END decisiontreeclassifier__max_depth=12;, score=(train=1.000, test=0.999) total time=  31.5s\n",
      "[CV 3/5; 10/17] START decisiontreeclassifier__max_depth=12......................\n",
      "[CV 3/5; 10/17] END decisiontreeclassifier__max_depth=12;, score=(train=1.000, test=1.000) total time=  29.8s\n",
      "[CV 4/5; 10/17] START decisiontreeclassifier__max_depth=12......................\n",
      "[CV 4/5; 10/17] END decisiontreeclassifier__max_depth=12;, score=(train=1.000, test=0.999) total time=  30.7s\n",
      "[CV 5/5; 10/17] START decisiontreeclassifier__max_depth=12......................\n",
      "[CV 5/5; 10/17] END decisiontreeclassifier__max_depth=12;, score=(train=1.000, test=0.999) total time=  29.5s\n",
      "[CV 1/5; 11/17] START decisiontreeclassifier__max_depth=13......................\n",
      "[CV 1/5; 11/17] END decisiontreeclassifier__max_depth=13;, score=(train=1.000, test=0.999) total time=  27.1s\n",
      "[CV 2/5; 11/17] START decisiontreeclassifier__max_depth=13......................\n",
      "[CV 2/5; 11/17] END decisiontreeclassifier__max_depth=13;, score=(train=1.000, test=0.999) total time=  27.1s\n",
      "[CV 3/5; 11/17] START decisiontreeclassifier__max_depth=13......................\n",
      "[CV 3/5; 11/17] END decisiontreeclassifier__max_depth=13;, score=(train=1.000, test=1.000) total time=  26.9s\n",
      "[CV 4/5; 11/17] START decisiontreeclassifier__max_depth=13......................\n",
      "[CV 4/5; 11/17] END decisiontreeclassifier__max_depth=13;, score=(train=1.000, test=0.999) total time=  28.3s\n",
      "[CV 5/5; 11/17] START decisiontreeclassifier__max_depth=13......................\n",
      "[CV 5/5; 11/17] END decisiontreeclassifier__max_depth=13;, score=(train=1.000, test=0.999) total time=  27.0s\n",
      "[CV 1/5; 12/17] START decisiontreeclassifier__max_depth=14......................\n",
      "[CV 1/5; 12/17] END decisiontreeclassifier__max_depth=14;, score=(train=1.000, test=0.999) total time=  25.7s\n",
      "[CV 2/5; 12/17] START decisiontreeclassifier__max_depth=14......................\n",
      "[CV 2/5; 12/17] END decisiontreeclassifier__max_depth=14;, score=(train=1.000, test=0.999) total time=  27.7s\n",
      "[CV 3/5; 12/17] START decisiontreeclassifier__max_depth=14......................\n",
      "[CV 3/5; 12/17] END decisiontreeclassifier__max_depth=14;, score=(train=1.000, test=1.000) total time=  29.3s\n",
      "[CV 4/5; 12/17] START decisiontreeclassifier__max_depth=14......................\n",
      "[CV 4/5; 12/17] END decisiontreeclassifier__max_depth=14;, score=(train=1.000, test=0.999) total time=  30.1s\n",
      "[CV 5/5; 12/17] START decisiontreeclassifier__max_depth=14......................\n",
      "[CV 5/5; 12/17] END decisiontreeclassifier__max_depth=14;, score=(train=1.000, test=0.999) total time=  31.3s\n",
      "[CV 1/5; 13/17] START decisiontreeclassifier__max_depth=15......................\n",
      "[CV 1/5; 13/17] END decisiontreeclassifier__max_depth=15;, score=(train=1.000, test=0.999) total time=  38.0s\n",
      "[CV 2/5; 13/17] START decisiontreeclassifier__max_depth=15......................\n",
      "[CV 2/5; 13/17] END decisiontreeclassifier__max_depth=15;, score=(train=1.000, test=0.999) total time=  28.7s\n",
      "[CV 3/5; 13/17] START decisiontreeclassifier__max_depth=15......................\n",
      "[CV 3/5; 13/17] END decisiontreeclassifier__max_depth=15;, score=(train=1.000, test=1.000) total time=  26.7s\n",
      "[CV 4/5; 13/17] START decisiontreeclassifier__max_depth=15......................\n",
      "[CV 4/5; 13/17] END decisiontreeclassifier__max_depth=15;, score=(train=1.000, test=0.999) total time=  27.1s\n",
      "[CV 5/5; 13/17] START decisiontreeclassifier__max_depth=15......................\n",
      "[CV 5/5; 13/17] END decisiontreeclassifier__max_depth=15;, score=(train=1.000, test=0.999) total time=  29.7s\n",
      "[CV 1/5; 14/17] START decisiontreeclassifier__max_depth=16......................\n",
      "[CV 1/5; 14/17] END decisiontreeclassifier__max_depth=16;, score=(train=1.000, test=0.999) total time=  33.7s\n",
      "[CV 2/5; 14/17] START decisiontreeclassifier__max_depth=16......................\n",
      "[CV 2/5; 14/17] END decisiontreeclassifier__max_depth=16;, score=(train=1.000, test=0.999) total time=  26.8s\n",
      "[CV 3/5; 14/17] START decisiontreeclassifier__max_depth=16......................\n",
      "[CV 3/5; 14/17] END decisiontreeclassifier__max_depth=16;, score=(train=1.000, test=1.000) total time=  25.3s\n",
      "[CV 4/5; 14/17] START decisiontreeclassifier__max_depth=16......................\n",
      "[CV 4/5; 14/17] END decisiontreeclassifier__max_depth=16;, score=(train=1.000, test=0.999) total time=  25.0s\n",
      "[CV 5/5; 14/17] START decisiontreeclassifier__max_depth=16......................\n",
      "[CV 5/5; 14/17] END decisiontreeclassifier__max_depth=16;, score=(train=1.000, test=0.999) total time=  24.7s\n",
      "[CV 1/5; 15/17] START decisiontreeclassifier__max_depth=17......................\n",
      "[CV 1/5; 15/17] END decisiontreeclassifier__max_depth=17;, score=(train=1.000, test=0.999) total time=  24.9s\n",
      "[CV 2/5; 15/17] START decisiontreeclassifier__max_depth=17......................\n",
      "[CV 2/5; 15/17] END decisiontreeclassifier__max_depth=17;, score=(train=1.000, test=0.999) total time=  33.1s\n",
      "[CV 3/5; 15/17] START decisiontreeclassifier__max_depth=17......................\n",
      "[CV 3/5; 15/17] END decisiontreeclassifier__max_depth=17;, score=(train=1.000, test=1.000) total time=  27.0s\n",
      "[CV 4/5; 15/17] START decisiontreeclassifier__max_depth=17......................\n",
      "[CV 4/5; 15/17] END decisiontreeclassifier__max_depth=17;, score=(train=1.000, test=0.999) total time=  25.9s\n",
      "[CV 5/5; 15/17] START decisiontreeclassifier__max_depth=17......................\n",
      "[CV 5/5; 15/17] END decisiontreeclassifier__max_depth=17;, score=(train=1.000, test=0.999) total time=  25.9s\n",
      "[CV 1/5; 16/17] START decisiontreeclassifier__max_depth=18......................\n",
      "[CV 1/5; 16/17] END decisiontreeclassifier__max_depth=18;, score=(train=1.000, test=0.999) total time=  25.9s\n",
      "[CV 2/5; 16/17] START decisiontreeclassifier__max_depth=18......................\n",
      "[CV 2/5; 16/17] END decisiontreeclassifier__max_depth=18;, score=(train=1.000, test=0.999) total time=  25.9s\n",
      "[CV 3/5; 16/17] START decisiontreeclassifier__max_depth=18......................\n",
      "[CV 3/5; 16/17] END decisiontreeclassifier__max_depth=18;, score=(train=1.000, test=1.000) total time=  25.9s\n",
      "[CV 4/5; 16/17] START decisiontreeclassifier__max_depth=18......................\n",
      "[CV 4/5; 16/17] END decisiontreeclassifier__max_depth=18;, score=(train=1.000, test=0.999) total time=  25.5s\n",
      "[CV 5/5; 16/17] START decisiontreeclassifier__max_depth=18......................\n",
      "[CV 5/5; 16/17] END decisiontreeclassifier__max_depth=18;, score=(train=1.000, test=0.999) total time=  25.7s\n",
      "[CV 1/5; 17/17] START decisiontreeclassifier__max_depth=19......................\n",
      "[CV 1/5; 17/17] END decisiontreeclassifier__max_depth=19;, score=(train=1.000, test=0.999) total time=  26.3s\n",
      "[CV 2/5; 17/17] START decisiontreeclassifier__max_depth=19......................\n",
      "[CV 2/5; 17/17] END decisiontreeclassifier__max_depth=19;, score=(train=1.000, test=0.999) total time=  25.8s\n",
      "[CV 3/5; 17/17] START decisiontreeclassifier__max_depth=19......................\n",
      "[CV 3/5; 17/17] END decisiontreeclassifier__max_depth=19;, score=(train=1.000, test=1.000) total time=  26.0s\n",
      "[CV 4/5; 17/17] START decisiontreeclassifier__max_depth=19......................\n",
      "[CV 4/5; 17/17] END decisiontreeclassifier__max_depth=19;, score=(train=1.000, test=0.999) total time=  25.7s\n",
      "[CV 5/5; 17/17] START decisiontreeclassifier__max_depth=19......................\n",
      "[CV 5/5; 17/17] END decisiontreeclassifier__max_depth=19;, score=(train=1.000, test=0.999) total time=  25.5s\n"
     ]
    }
   ],
   "source": [
    "start_time = time.time()\n",
    "rf_tmk_rec = train_rf(X_trainval, y_trainval, 'recall', TomekLinks(),\n",
    "                       hypertune=True, resample=True)\n",
    "start_time = time.time()\n",
    "rf_tmk_acc = train_rf(X_trainval, y_trainval, 'accuracy', TomekLinks(),\n",
    "                      hypertune=True, resample=True)"
   ]
  },
  {
   "cell_type": "code",
   "execution_count": 34,
   "metadata": {},
   "outputs": [
    {
     "ename": "TypeError",
     "evalue": "list indices must be integers or slices, not str",
     "output_type": "error",
     "traceback": [
      "\u001b[1;31m---------------------------------------------------------------------------\u001b[0m",
      "\u001b[1;31mTypeError\u001b[0m                                 Traceback (most recent call last)",
      "\u001b[1;32mc:\\Users\\Angelica\\OneDrive\\Documents\\Eskwelabs\\Sprint 3 Project\\dsf-c10-sprint-3\\[Session 8] Machine Learning Pipelines.ipynb Cell 24\u001b[0m in \u001b[0;36m<cell line: 1>\u001b[1;34m()\u001b[0m\n\u001b[1;32m----> <a href='vscode-notebook-cell:/c%3A/Users/Angelica/OneDrive/Documents/Eskwelabs/Sprint%203%20Project/dsf-c10-sprint-3/%5BSession%208%5D%20Machine%20Learning%20Pipelines.ipynb#X44sZmlsZQ%3D%3D?line=0'>1</a>\u001b[0m rf_tmk_rec[\u001b[39m'\u001b[39;49m\u001b[39mBest parameters\u001b[39;49m\u001b[39m'\u001b[39;49m]\n",
      "\u001b[1;31mTypeError\u001b[0m: list indices must be integers or slices, not str"
     ]
    }
   ],
   "source": [
    "rf_tmk_rec['Best parameters']"
   ]
  },
  {
   "cell_type": "code",
   "execution_count": 15,
   "metadata": {},
   "outputs": [
    {
     "data": {
      "text/html": [
       "<style type=\"text/css\">\n",
       "</style>\n",
       "<table id=\"T_0a37b\">\n",
       "  <thead>\n",
       "    <tr>\n",
       "      <th id=\"T_0a37b_level0_col0\" class=\"col_heading level0 col0\" ></th>\n",
       "      <th id=\"T_0a37b_level0_col1\" class=\"col_heading level0 col1\" >Train Accuracy</th>\n",
       "      <th id=\"T_0a37b_level0_col2\" class=\"col_heading level0 col2\" >Val Accuracy</th>\n",
       "      <th id=\"T_0a37b_level0_col3\" class=\"col_heading level0 col3\" >Train Recall</th>\n",
       "      <th id=\"T_0a37b_level0_col4\" class=\"col_heading level0 col4\" >Val Recall</th>\n",
       "    </tr>\n",
       "  </thead>\n",
       "  <tbody>\n",
       "    <tr>\n",
       "      <td id=\"T_0a37b_row0_col0\" class=\"data row0 col0\" >Decision Tree Classifier</td>\n",
       "      <td id=\"T_0a37b_row0_col1\" class=\"data row0 col1\" >99.98%</td>\n",
       "      <td id=\"T_0a37b_row0_col2\" class=\"data row0 col2\" >99.95%</td>\n",
       "      <td id=\"T_0a37b_row0_col3\" class=\"data row0 col3\" >98.20%</td>\n",
       "      <td id=\"T_0a37b_row0_col4\" class=\"data row0 col4\" >96.76%</td>\n",
       "    </tr>\n",
       "  </tbody>\n",
       "</table>\n"
      ],
      "text/plain": [
       "<pandas.io.formats.style.Styler at 0x1daa619aa90>"
      ]
     },
     "execution_count": 15,
     "metadata": {},
     "output_type": "execute_result"
    }
   ],
   "source": [
    "cols = ['', 'Train Accuracy', 'Val Accuracy',\n",
    "        'Train Recall', 'Val Recall']\n",
    "hyper = pd.DataFrame(columns=cols)\n",
    "hyper.loc[0] = [rf_tmk_rec[0],\n",
    "                np.round(rf_tmk_acc[1]*100, 6),\n",
    "                np.round(rf_tmk_acc[2]*100, 6),\n",
    "                np.round(rf_tmk_rec[1]*100, 6),\n",
    "                np.round(rf_tmk_rec[2]*100, 6)]\n",
    "hyper2 = pd.DataFrame(columns=cols)\n",
    "hyper2.loc[0] = [rf_tmk_rec[0],\n",
    "                 '{:.2f}%'.format(np.round(rf_tmk_acc[1]*100, 2)),\n",
    "                 '{:.2f}%'.format(np.round(rf_tmk_acc[2]*100, 2)),\n",
    "                 '{:.2f}%'.format(np.round(rf_tmk_rec[1]*100, 2)),\n",
    "                 '{:.2f}%'.format(np.round(rf_tmk_rec[2]*100, 2))]\n",
    "hyper2.style.hide_index()"
   ]
  },
  {
   "cell_type": "code",
   "execution_count": 16,
   "metadata": {},
   "outputs": [],
   "source": [
    "# re-fitting for the holdout\n",
    "rh = rf_tmk_rec[-1]\n",
    "rh.fit(X_trainval, y_trainval)\n",
    "y_preds = rh.predict(X_holdout)\n",
    "rh_holdout_score = recall_score(y_holdout, y_preds)"
   ]
  },
  {
   "cell_type": "markdown",
   "metadata": {},
   "source": [
    "#### Base-case"
   ]
  },
  {
   "cell_type": "code",
   "execution_count": 17,
   "metadata": {
    "ExecuteTime": {
     "end_time": "2022-06-25T18:48:02.907470Z",
     "start_time": "2022-06-25T18:44:52.169864Z"
    }
   },
   "outputs": [],
   "source": [
    "# cross-validation\n",
    "base_var = train_rf(X_trainval, y_trainval, 'recall', hypertune=False, resample=False)\n",
    "\n",
    "# re-fitting for the holdout\n",
    "base_model = base_var[-1]\n",
    "base_model.fit(X_trainval, y_trainval)\n",
    "y_preds = base_model.predict(X_holdout)\n",
    "holdout_score = recall_score(y_holdout, y_preds)"
   ]
  },
  {
   "cell_type": "code",
   "execution_count": 18,
   "metadata": {},
   "outputs": [
    {
     "data": {
      "text/html": [
       "<style type=\"text/css\">\n",
       "</style>\n",
       "<table id=\"T_64068\">\n",
       "  <thead>\n",
       "    <tr>\n",
       "      <th id=\"T_64068_level0_col0\" class=\"col_heading level0 col0\" >Method</th>\n",
       "      <th id=\"T_64068_level0_col1\" class=\"col_heading level0 col1\" >Train Recall</th>\n",
       "      <th id=\"T_64068_level0_col2\" class=\"col_heading level0 col2\" >Val Recall</th>\n",
       "      <th id=\"T_64068_level0_col3\" class=\"col_heading level0 col3\" >Holdout Recall</th>\n",
       "    </tr>\n",
       "  </thead>\n",
       "  <tbody>\n",
       "    <tr>\n",
       "      <td id=\"T_64068_row0_col0\" class=\"data row0 col0\" >No Resampling</td>\n",
       "      <td id=\"T_64068_row0_col1\" class=\"data row0 col1\" >100.00%</td>\n",
       "      <td id=\"T_64068_row0_col2\" class=\"data row0 col2\" >95.95%</td>\n",
       "      <td id=\"T_64068_row0_col3\" class=\"data row0 col3\" >98.39%</td>\n",
       "    </tr>\n",
       "    <tr>\n",
       "      <td id=\"T_64068_row1_col0\" class=\"data row1 col0\" >Resampling x Hypertune</td>\n",
       "      <td id=\"T_64068_row1_col1\" class=\"data row1 col1\" >98.20%</td>\n",
       "      <td id=\"T_64068_row1_col2\" class=\"data row1 col2\" >96.76%</td>\n",
       "      <td id=\"T_64068_row1_col3\" class=\"data row1 col3\" >98.39%</td>\n",
       "    </tr>\n",
       "  </tbody>\n",
       "</table>\n"
      ],
      "text/plain": [
       "<pandas.io.formats.style.Styler at 0x1da81666640>"
      ]
     },
     "execution_count": 18,
     "metadata": {},
     "output_type": "execute_result"
    }
   ],
   "source": [
    "cols = ['Method', 'Train Recall', 'Val Recall', 'Holdout Recall']\n",
    "summary = pd.DataFrame(columns=cols)\n",
    "summary.loc[0] = ['No Resampling',\n",
    "                 '{:.2f}%'.format(np.round(base_var[1]*100, 2)),\n",
    "                 '{:.2f}%'.format(np.round(base_var[2]*100, 2)),\n",
    "                 '{:.2f}%'.format(np.round(holdout_score*100, 2))]\n",
    "summary.loc[3] = ['Resampling x Hypertune',\n",
    "                 '{:.2f}%'.format(np.round(rf_tmk_rec[1]*100, 2)),\n",
    "                 '{:.2f}%'.format(np.round(rf_tmk_rec[2]*100, 2)),\n",
    "                 '{:.2f}%'.format(np.round(rh_holdout_score*100, 2))]\n",
    "summary.style.hide_index()"
   ]
  },
  {
   "cell_type": "code",
   "execution_count": 20,
   "metadata": {},
   "outputs": [],
   "source": [
    "holdout_ascore = rh.score(X_holdout, y_holdout)"
   ]
  },
  {
   "cell_type": "code",
   "execution_count": 22,
   "metadata": {},
   "outputs": [
    {
     "data": {
      "text/plain": [
       "99.97769151831525"
      ]
     },
     "execution_count": 22,
     "metadata": {},
     "output_type": "execute_result"
    }
   ],
   "source": [
    "holdout_ascore*100"
   ]
  },
  {
   "cell_type": "code",
   "execution_count": 36,
   "metadata": {},
   "outputs": [
    {
     "ename": "AttributeError",
     "evalue": "'Pipeline' object has no attribute 'best_params_'",
     "output_type": "error",
     "traceback": [
      "\u001b[1;31m---------------------------------------------------------------------------\u001b[0m",
      "\u001b[1;31mAttributeError\u001b[0m                            Traceback (most recent call last)",
      "\u001b[1;32mc:\\Users\\Angelica\\OneDrive\\Documents\\Eskwelabs\\Sprint 3 Project\\dsf-c10-sprint-3\\[Session 8] Machine Learning Pipelines.ipynb Cell 32\u001b[0m in \u001b[0;36m<cell line: 1>\u001b[1;34m()\u001b[0m\n\u001b[1;32m----> <a href='vscode-notebook-cell:/c%3A/Users/Angelica/OneDrive/Documents/Eskwelabs/Sprint%203%20Project/dsf-c10-sprint-3/%5BSession%208%5D%20Machine%20Learning%20Pipelines.ipynb#X45sZmlsZQ%3D%3D?line=0'>1</a>\u001b[0m \u001b[39mprint\u001b[39m(rh\u001b[39m.\u001b[39;49mbest_params_)\n",
      "\u001b[1;31mAttributeError\u001b[0m: 'Pipeline' object has no attribute 'best_params_'"
     ]
    }
   ],
   "source": []
  },
  {
   "cell_type": "code",
   "execution_count": 42,
   "metadata": {},
   "outputs": [],
   "source": []
  },
  {
   "cell_type": "code",
   "execution_count": 46,
   "metadata": {},
   "outputs": [
    {
     "data": {
      "text/plain": [
       "['Decision Tree Classifier',\n",
       " 0.9820082114199761,\n",
       " 0.9675675675675676,\n",
       " \"Best parameters = {'decisiontreeclassifier__max_depth': 7}\",\n",
       " 2530.852865457535,\n",
       " Pipeline(steps=[('minmaxscaler', MinMaxScaler()), ('tomeklinks', TomekLinks()),\n",
       "                 ('decisiontreeclassifier',\n",
       "                  DecisionTreeClassifier(max_depth=7, random_state=11))])]"
      ]
     },
     "execution_count": 46,
     "metadata": {},
     "output_type": "execute_result"
    }
   ],
   "source": [
    "rf_tmk_rec"
   ]
  },
  {
   "cell_type": "code",
   "execution_count": 51,
   "metadata": {},
   "outputs": [],
   "source": []
  },
  {
   "cell_type": "code",
   "execution_count": 52,
   "metadata": {},
   "outputs": [
    {
     "ename": "AttributeError",
     "evalue": "'DecisionTreeClassifier' object has no attribute 'tree_'",
     "output_type": "error",
     "traceback": [
      "\u001b[1;31m---------------------------------------------------------------------------\u001b[0m",
      "\u001b[1;31mAttributeError\u001b[0m                            Traceback (most recent call last)",
      "\u001b[1;32mc:\\Users\\Angelica\\OneDrive\\Documents\\Eskwelabs\\Sprint 3 Project\\dsf-c10-sprint-3\\[Session 8] Machine Learning Pipelines.ipynb Cell 36\u001b[0m in \u001b[0;36m<cell line: 1>\u001b[1;34m()\u001b[0m\n\u001b[1;32m----> <a href='vscode-notebook-cell:/c%3A/Users/Angelica/OneDrive/Documents/Eskwelabs/Sprint%203%20Project/dsf-c10-sprint-3/%5BSession%208%5D%20Machine%20Learning%20Pipelines.ipynb#X42sZmlsZQ%3D%3D?line=0'>1</a>\u001b[0m explainer \u001b[39m=\u001b[39m shap\u001b[39m.\u001b[39;49mTreeExplainer(model, feature_names\u001b[39m=\u001b[39;49mX_holdout\u001b[39m.\u001b[39;49mcolumns)\n",
      "File \u001b[1;32mc:\\Users\\Angelica\\anaconda3\\lib\\site-packages\\shap\\explainers\\_tree.py:149\u001b[0m, in \u001b[0;36mTree.__init__\u001b[1;34m(self, model, data, model_output, feature_perturbation, feature_names, approximate, **deprecated_options)\u001b[0m\n\u001b[0;32m    147\u001b[0m \u001b[39mself\u001b[39m\u001b[39m.\u001b[39mfeature_perturbation \u001b[39m=\u001b[39m feature_perturbation\n\u001b[0;32m    148\u001b[0m \u001b[39mself\u001b[39m\u001b[39m.\u001b[39mexpected_value \u001b[39m=\u001b[39m \u001b[39mNone\u001b[39;00m\n\u001b[1;32m--> 149\u001b[0m \u001b[39mself\u001b[39m\u001b[39m.\u001b[39mmodel \u001b[39m=\u001b[39m TreeEnsemble(model, \u001b[39mself\u001b[39;49m\u001b[39m.\u001b[39;49mdata, \u001b[39mself\u001b[39;49m\u001b[39m.\u001b[39;49mdata_missing, model_output)\n\u001b[0;32m    150\u001b[0m \u001b[39mself\u001b[39m\u001b[39m.\u001b[39mmodel_output \u001b[39m=\u001b[39m model_output\n\u001b[0;32m    151\u001b[0m \u001b[39m#self.model_output = self.model.model_output # this allows the TreeEnsemble to translate model outputs types by how it loads the model\u001b[39;00m\n",
      "File \u001b[1;32mc:\\Users\\Angelica\\anaconda3\\lib\\site-packages\\shap\\explainers\\_tree.py:680\u001b[0m, in \u001b[0;36mTreeEnsemble.__init__\u001b[1;34m(self, model, data, data_missing, model_output)\u001b[0m\n\u001b[0;32m    678\u001b[0m     \u001b[39mself\u001b[39m\u001b[39m.\u001b[39mtree_output \u001b[39m=\u001b[39m \u001b[39m\"\u001b[39m\u001b[39mraw_value\u001b[39m\u001b[39m\"\u001b[39m\n\u001b[0;32m    679\u001b[0m \u001b[39melif\u001b[39;00m safe_isinstance(model, [\u001b[39m\"\u001b[39m\u001b[39msklearn.tree.DecisionTreeClassifier\u001b[39m\u001b[39m\"\u001b[39m, \u001b[39m\"\u001b[39m\u001b[39msklearn.tree.tree.DecisionTreeClassifier\u001b[39m\u001b[39m\"\u001b[39m]):\n\u001b[1;32m--> 680\u001b[0m     \u001b[39mself\u001b[39m\u001b[39m.\u001b[39minternal_dtype \u001b[39m=\u001b[39m model\u001b[39m.\u001b[39;49mtree_\u001b[39m.\u001b[39mvalue\u001b[39m.\u001b[39mdtype\u001b[39m.\u001b[39mtype\n\u001b[0;32m    681\u001b[0m     \u001b[39mself\u001b[39m\u001b[39m.\u001b[39minput_dtype \u001b[39m=\u001b[39m np\u001b[39m.\u001b[39mfloat32\n\u001b[0;32m    682\u001b[0m     \u001b[39mself\u001b[39m\u001b[39m.\u001b[39mtrees \u001b[39m=\u001b[39m [SingleTree(model\u001b[39m.\u001b[39mtree_, normalize\u001b[39m=\u001b[39m\u001b[39mTrue\u001b[39;00m, data\u001b[39m=\u001b[39mdata, data_missing\u001b[39m=\u001b[39mdata_missing)]\n",
      "\u001b[1;31mAttributeError\u001b[0m: 'DecisionTreeClassifier' object has no attribute 'tree_'"
     ]
    }
   ],
   "source": []
  },
  {
   "cell_type": "code",
   "execution_count": 54,
   "metadata": {},
   "outputs": [],
   "source": []
  },
  {
   "cell_type": "code",
   "execution_count": 55,
   "metadata": {},
   "outputs": [],
   "source": []
  },
  {
   "cell_type": "code",
   "execution_count": 56,
   "metadata": {},
   "outputs": [
    {
     "data": {
      "text/plain": [
       "<lime.lime_tabular.LimeTabularExplainer at 0x1da8557da00>"
      ]
     },
     "execution_count": 56,
     "metadata": {},
     "output_type": "execute_result"
    }
   ],
   "source": []
  }
 ],
 "metadata": {
  "kernelspec": {
   "display_name": "Python 3.9.12 ('base')",
   "language": "python",
   "name": "python3"
  },
  "language_info": {
   "codemirror_mode": {
    "name": "ipython",
    "version": 3
   },
   "file_extension": ".py",
   "mimetype": "text/x-python",
   "name": "python",
   "nbconvert_exporter": "python",
   "pygments_lexer": "ipython3",
   "version": "3.9.12"
  },
  "toc": {
   "base_numbering": 1,
   "nav_menu": {},
   "number_sections": true,
   "sideBar": true,
   "skip_h1_title": false,
   "title_cell": "Table of Contents",
   "title_sidebar": "Contents",
   "toc_cell": false,
   "toc_position": {},
   "toc_section_display": true,
   "toc_window_display": false
  },
  "vscode": {
   "interpreter": {
    "hash": "63dc930dcd74fa81bd36917b430468797463435180757d819379083aea28fee6"
   }
  }
 },
 "nbformat": 4,
 "nbformat_minor": 4
}
