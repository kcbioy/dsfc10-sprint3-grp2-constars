{
 "cells": [
  {
   "cell_type": "markdown",
   "metadata": {},
   "source": [
    "<div><span style=\"background-color: #9e4244; padding-top: 80px; padding-right: 20px; padding-bottom: 50px; padding-left: 20px; color: white; font-size: 22px; font-weight: bold\">Session 8: Machine Learning Pipelines</span></div>"
   ]
  },
  {
   "cell_type": "markdown",
   "metadata": {},
   "source": [
    "by BYJ Cirio"
   ]
  },
  {
   "cell_type": "markdown",
   "metadata": {},
   "source": [
    "<div class=\"alert alert-danger alert-info\">\n",
    "     In this notebook you will learn how to automate your machine learning model pipelines. Specifically, the topics covered are as follows:<br>\n",
    "    <ol>\n",
    "        <li>Auto-ML</li>\n",
    "        <li>Grid-search CV/Randomized Search CV</li>\n",
    "        <li>Example project</li>\n",
    "    </ol>\n",
    "</div>"
   ]
  },
  {
   "cell_type": "code",
   "execution_count": 16,
   "metadata": {
    "ExecuteTime": {
     "end_time": "2022-10-28T10:47:31.386666Z",
     "start_time": "2022-10-28T10:47:31.341653Z"
    }
   },
   "outputs": [],
   "source": [
    "# General Libraries\n",
    "import re\n",
    "import time\n",
    "import warnings\n",
    "import numpy as np\n",
    "import pandas as pd\n",
    "from tqdm.notebook import tqdm\n",
    "from collections import Counter\n",
    "warnings.filterwarnings(\"ignore\")\n",
    "\n",
    "# Visualizations\n",
    "import seaborn as sns\n",
    "from termcolor import colored\n",
    "import matplotlib.pyplot as plt\n",
    "import plotly.graph_objects as go\n",
    "\n",
    "# Sklearn\n",
    "from sklearn.preprocessing import MinMaxScaler\n",
    "from sklearn.model_selection import (train_test_split, GridSearchCV,\n",
    "                                     StratifiedKFold)\n",
    "from sklearn.neighbors import KNeighborsClassifier\n",
    "from sklearn.svm import SVC\n",
    "from sklearn.linear_model import LogisticRegression\n",
    "from sklearn.naive_bayes import GaussianNB\n",
    "from sklearn.tree import DecisionTreeClassifier\n",
    "from sklearn.ensemble import (RandomForestClassifier,  \n",
    "                              GradientBoostingClassifier)\n",
    "from sklearn.model_selection import cross_validate\n",
    "from sklearn.metrics import (ConfusionMatrixDisplay, precision_score, recall_score)\n",
    "\n",
    "# Imblearn\n",
    "from imblearn.pipeline import Pipeline, make_pipeline\n",
    "from imblearn.over_sampling import (SMOTE, ADASYN, BorderlineSMOTE, SVMSMOTE)\n",
    "from imblearn.under_sampling import (TomekLinks, NearMiss, AllKNN,\n",
    "                                     EditedNearestNeighbours, \n",
    "                                     RepeatedEditedNearestNeighbours) \n",
    "from imblearn.combine import SMOTETomek, SMOTEENN\n",
    "\n",
    "# SHAP\n",
    "import shap"
   ]
  },
  {
   "cell_type": "code",
   "execution_count": 17,
   "metadata": {
    "ExecuteTime": {
     "end_time": "2022-10-28T10:47:57.123551Z",
     "start_time": "2022-10-28T10:47:32.674897Z"
    }
   },
   "outputs": [
    {
     "data": {
      "text/html": [
       "<div>\n",
       "<style scoped>\n",
       "    .dataframe tbody tr th:only-of-type {\n",
       "        vertical-align: middle;\n",
       "    }\n",
       "\n",
       "    .dataframe tbody tr th {\n",
       "        vertical-align: top;\n",
       "    }\n",
       "\n",
       "    .dataframe thead th {\n",
       "        text-align: right;\n",
       "    }\n",
       "</style>\n",
       "<table border=\"1\" class=\"dataframe\">\n",
       "  <thead>\n",
       "    <tr style=\"text-align: right;\">\n",
       "      <th></th>\n",
       "      <th>lat</th>\n",
       "      <th>long</th>\n",
       "      <th>city_pop</th>\n",
       "      <th>amt</th>\n",
       "      <th>is_fraud</th>\n",
       "      <th>merch_lat</th>\n",
       "      <th>merch_long</th>\n",
       "      <th>trans_day</th>\n",
       "      <th>age</th>\n",
       "      <th>gender_M</th>\n",
       "      <th>...</th>\n",
       "      <th>trans_month_str_Mar</th>\n",
       "      <th>trans_month_str_May</th>\n",
       "      <th>trans_month_str_Nov</th>\n",
       "      <th>trans_month_str_Oct</th>\n",
       "      <th>trans_month_str_Sep</th>\n",
       "      <th>part_of_day_afternoon</th>\n",
       "      <th>part_of_day_breakfast</th>\n",
       "      <th>part_of_day_dinner</th>\n",
       "      <th>part_of_day_early morning</th>\n",
       "      <th>part_of_day_lunch</th>\n",
       "    </tr>\n",
       "  </thead>\n",
       "  <tbody>\n",
       "    <tr>\n",
       "      <th>0</th>\n",
       "      <td>14.5833</td>\n",
       "      <td>121.0333</td>\n",
       "      <td>386276</td>\n",
       "      <td>35.16</td>\n",
       "      <td>0</td>\n",
       "      <td>15.288587</td>\n",
       "      <td>120.878945</td>\n",
       "      <td>21</td>\n",
       "      <td>63</td>\n",
       "      <td>1</td>\n",
       "      <td>...</td>\n",
       "      <td>0</td>\n",
       "      <td>0</td>\n",
       "      <td>0</td>\n",
       "      <td>1</td>\n",
       "      <td>0</td>\n",
       "      <td>1</td>\n",
       "      <td>0</td>\n",
       "      <td>0</td>\n",
       "      <td>0</td>\n",
       "      <td>0</td>\n",
       "    </tr>\n",
       "    <tr>\n",
       "      <th>1</th>\n",
       "      <td>14.5833</td>\n",
       "      <td>121.0333</td>\n",
       "      <td>386276</td>\n",
       "      <td>69.11</td>\n",
       "      <td>0</td>\n",
       "      <td>15.126879</td>\n",
       "      <td>120.581111</td>\n",
       "      <td>10</td>\n",
       "      <td>62</td>\n",
       "      <td>1</td>\n",
       "      <td>...</td>\n",
       "      <td>0</td>\n",
       "      <td>0</td>\n",
       "      <td>0</td>\n",
       "      <td>0</td>\n",
       "      <td>0</td>\n",
       "      <td>0</td>\n",
       "      <td>0</td>\n",
       "      <td>0</td>\n",
       "      <td>1</td>\n",
       "      <td>0</td>\n",
       "    </tr>\n",
       "    <tr>\n",
       "      <th>2</th>\n",
       "      <td>14.5833</td>\n",
       "      <td>121.0333</td>\n",
       "      <td>386276</td>\n",
       "      <td>64.68</td>\n",
       "      <td>0</td>\n",
       "      <td>13.602285</td>\n",
       "      <td>121.657351</td>\n",
       "      <td>15</td>\n",
       "      <td>62</td>\n",
       "      <td>1</td>\n",
       "      <td>...</td>\n",
       "      <td>0</td>\n",
       "      <td>0</td>\n",
       "      <td>0</td>\n",
       "      <td>0</td>\n",
       "      <td>0</td>\n",
       "      <td>0</td>\n",
       "      <td>0</td>\n",
       "      <td>0</td>\n",
       "      <td>1</td>\n",
       "      <td>0</td>\n",
       "    </tr>\n",
       "    <tr>\n",
       "      <th>3</th>\n",
       "      <td>14.5833</td>\n",
       "      <td>121.0333</td>\n",
       "      <td>386276</td>\n",
       "      <td>87.48</td>\n",
       "      <td>0</td>\n",
       "      <td>13.613058</td>\n",
       "      <td>121.609547</td>\n",
       "      <td>17</td>\n",
       "      <td>62</td>\n",
       "      <td>1</td>\n",
       "      <td>...</td>\n",
       "      <td>0</td>\n",
       "      <td>1</td>\n",
       "      <td>0</td>\n",
       "      <td>0</td>\n",
       "      <td>0</td>\n",
       "      <td>0</td>\n",
       "      <td>1</td>\n",
       "      <td>0</td>\n",
       "      <td>0</td>\n",
       "      <td>0</td>\n",
       "    </tr>\n",
       "    <tr>\n",
       "      <th>4</th>\n",
       "      <td>14.5833</td>\n",
       "      <td>121.0333</td>\n",
       "      <td>386276</td>\n",
       "      <td>5.53</td>\n",
       "      <td>0</td>\n",
       "      <td>14.694617</td>\n",
       "      <td>121.334535</td>\n",
       "      <td>22</td>\n",
       "      <td>63</td>\n",
       "      <td>1</td>\n",
       "      <td>...</td>\n",
       "      <td>0</td>\n",
       "      <td>0</td>\n",
       "      <td>0</td>\n",
       "      <td>0</td>\n",
       "      <td>0</td>\n",
       "      <td>1</td>\n",
       "      <td>0</td>\n",
       "      <td>0</td>\n",
       "      <td>0</td>\n",
       "      <td>0</td>\n",
       "    </tr>\n",
       "  </tbody>\n",
       "</table>\n",
       "<p>5 rows × 387 columns</p>\n",
       "</div>"
      ],
      "text/plain": [
       "       lat      long  city_pop    amt  is_fraud  merch_lat  merch_long  \\\n",
       "0  14.5833  121.0333    386276  35.16         0  15.288587  120.878945   \n",
       "1  14.5833  121.0333    386276  69.11         0  15.126879  120.581111   \n",
       "2  14.5833  121.0333    386276  64.68         0  13.602285  121.657351   \n",
       "3  14.5833  121.0333    386276  87.48         0  13.613058  121.609547   \n",
       "4  14.5833  121.0333    386276   5.53         0  14.694617  121.334535   \n",
       "\n",
       "   trans_day  age  gender_M  ...  trans_month_str_Mar  trans_month_str_May  \\\n",
       "0         21   63         1  ...                    0                    0   \n",
       "1         10   62         1  ...                    0                    0   \n",
       "2         15   62         1  ...                    0                    0   \n",
       "3         17   62         1  ...                    0                    1   \n",
       "4         22   63         1  ...                    0                    0   \n",
       "\n",
       "   trans_month_str_Nov  trans_month_str_Oct  trans_month_str_Sep  \\\n",
       "0                    0                    1                    0   \n",
       "1                    0                    0                    0   \n",
       "2                    0                    0                    0   \n",
       "3                    0                    0                    0   \n",
       "4                    0                    0                    0   \n",
       "\n",
       "   part_of_day_afternoon  part_of_day_breakfast  part_of_day_dinner  \\\n",
       "0                      1                      0                   0   \n",
       "1                      0                      0                   0   \n",
       "2                      0                      0                   0   \n",
       "3                      0                      1                   0   \n",
       "4                      1                      0                   0   \n",
       "\n",
       "   part_of_day_early morning  part_of_day_lunch  \n",
       "0                          0                  0  \n",
       "1                          1                  0  \n",
       "2                          1                  0  \n",
       "3                          0                  0  \n",
       "4                          0                  0  \n",
       "\n",
       "[5 rows x 387 columns]"
      ]
     },
     "execution_count": 17,
     "metadata": {},
     "output_type": "execute_result"
    }
   ],
   "source": [
    "df = pd.read_csv('data/cc_df_proj.csv', nrows=100000)\n",
    "df.head()"
   ]
  },
  {
   "cell_type": "code",
   "execution_count": 18,
   "metadata": {
    "ExecuteTime": {
     "end_time": "2022-10-28T10:47:59.217219Z",
     "start_time": "2022-10-28T10:47:57.142555Z"
    }
   },
   "outputs": [
    {
     "name": "stdout",
     "output_type": "stream",
     "text": [
      "Would Recommend:       0\n",
      "0  99142\n",
      "1    858\n",
      "Proportion Chance Criterion: 98.30%\n",
      "1.25 * Proportion Chance Criterion: 122.87%\n"
     ]
    },
    {
     "data": {
      "image/png": "[encoded data removed]",
      "text/plain": [
       "<Figure size 640x480 with 1 Axes>"
      ]
     },
     "metadata": {},
     "output_type": "display_data"
    }
   ],
   "source": [
    "state_counts = Counter(df['is_fraud'])\n",
    "df_state = pd.DataFrame.from_dict(state_counts, orient='index')\n",
    "df_state.plot(kind='bar', color='pink')\n",
    "\n",
    "num=(df_state[0]/df_state[0].sum())**2\n",
    "\n",
    "print(\"Would Recommend:{}\".format(df_state))\n",
    "\n",
    "print(\"Proportion Chance Criterion: {:0.2f}%\".format(100*num.sum()))\n",
    "print(\"1.25 * Proportion Chance Criterion: {:0.2f}%\".format(1.25*100*num.sum()))"
   ]
  },
  {
   "cell_type": "code",
   "execution_count": 19,
   "metadata": {
    "ExecuteTime": {
     "end_time": "2022-10-28T10:48:04.871104Z",
     "start_time": "2022-10-28T10:47:59.230227Z"
    }
   },
   "outputs": [],
   "source": [
    "X = df.drop(['is_fraud'], axis=1)\n",
    "y = df['is_fraud']\n",
    "(X_trainval, X_holdout, y_trainval, y_holdout) = train_test_split(X, y, \n",
    "                                                                  random_state=11, test_size=0.25,\n",
    "                                                                  stratify=y)"
   ]
  },
  {
   "cell_type": "markdown",
   "metadata": {},
   "source": [
    "<div><span style=\"background-color: #ff0257; padding-top: 100px; padding-right: 20px; padding-bottom: 50px; padding-left: 20px; color: #FFFAF0; font-size: 18px; font-weight: bold\">Auto-ML </span></div>"
   ]
  },
  {
   "cell_type": "code",
   "execution_count": 20,
   "metadata": {
    "ExecuteTime": {
     "end_time": "2022-10-28T10:48:05.043155Z",
     "start_time": "2022-10-28T10:48:04.898112Z"
    }
   },
   "outputs": [],
   "source": [
    "def auto_ml(X, y, models_dict, scaler=None, cv=None, res_t=None):\n",
    "    \"\"\"Apply resampling for imbalanced data\"\"\"\n",
    "    results = {}\n",
    "    results2 = {}\n",
    "\n",
    "    # log start time\n",
    "    total_start = time.time()\n",
    "\n",
    "    for model_name, model in tqdm(models_dict.items()):\n",
    "        \n",
    "        ################# this portion can be edited ###############\n",
    "        train_scores = []\n",
    "        val_scores = []\n",
    "\n",
    "        train_recall = []\n",
    "        val_recall = []\n",
    "\n",
    "        ###########################################################\n",
    "\n",
    "        for train_index, val_index in tqdm(cv.split(X, y)):\n",
    "\n",
    "            X_train, X_val = X.iloc[train_index], X.iloc[val_index]\n",
    "            y_train, y_val = y.iloc[train_index], y.iloc[val_index]\n",
    "\n",
    "            # Apply scaling\n",
    "            if scaler is not None:\n",
    "                X_train = scaler.fit_transform(X_train)\n",
    "                X_val = scaler.transform(X_val)\n",
    "            else:\n",
    "                pass\n",
    "\n",
    "            # Apply resampling\n",
    "            if res_t is not None:\n",
    "                s = time.time()\n",
    "                X_train, y_train = res_t.fit_resample(X_train, y_train)\n",
    "                print(f'Resampling done in {time.time() - s}')\n",
    "            else:\n",
    "                pass\n",
    "\n",
    "            start_time = time.time()\n",
    "\n",
    "            # fit\n",
    "            model.fit(X_train, y_train)\n",
    "\n",
    "            # predict\n",
    "            train_preds = model.predict(X_train)\n",
    "            val_preds = model.predict(X_val)\n",
    "            \n",
    "            ################# this portion can be edited ###############\n",
    "\n",
    "            # classification accuracy\n",
    "            train_scores.append(model.score(X_train, y_train))\n",
    "            val_scores.append(model.score(X_val, y_val))\n",
    "\n",
    "            # recall\n",
    "            train_recall.append(recall_score(y_train, train_preds))\n",
    "            val_recall.append(recall_score(y_val, val_preds))\n",
    "\n",
    "            end_time = time.time()\n",
    "\n",
    "            results[model_name] = {\n",
    "                'Train Accuracy': np.round(np.mean(train_scores) * 100, 2),\n",
    "                'Val Accuracy': np.round(np.mean(val_scores) * 100, 2),\n",
    "                'Train Recall': np.round(np.mean(train_recall) * 100, 2),\n",
    "                'Val Recall': np.round(np.mean(val_recall) * 100, 2),\n",
    "                'Run Time': end_time - start_time\n",
    "            }\n",
    "\n",
    "            results2[model_name] = {\n",
    "                'Train Accuracy': '{:.2f}%'.format(np.round(np.mean(train_scores)*100, 2)),\n",
    "                'Val Accuracy': '{:.2f}%'.format(np.round(np.mean(val_scores)*100, 2)),\n",
    "                'Train Recall': '{:.2f}%'.format(np.round(np.mean(train_recall)*100, 2)),\n",
    "                'Val Recall': '{:.2f}%'.format(np.round(np.mean(val_recall)*100, 2)),\n",
    "                'Run Time': end_time - start_time\n",
    "            }\n",
    "            \n",
    "            ###########################################################\n",
    "\n",
    "    results = pd.DataFrame(results).T\n",
    "    results2 = pd.DataFrame(results2).T\n",
    "    return [results, results2]"
   ]
  },
  {
   "cell_type": "markdown",
   "metadata": {},
   "source": [
    "### Baseline"
   ]
  },
  {
   "cell_type": "code",
   "execution_count": 21,
   "metadata": {
    "ExecuteTime": {
     "end_time": "2022-10-28T10:48:05.104165Z",
     "start_time": "2022-10-28T10:48:05.072167Z"
    }
   },
   "outputs": [],
   "source": [
    "models_dict = {'GradientBoostingClassifier': GradientBoostingClassifier(random_state=143)}\n",
    "\n",
    "# models_dict = {\n",
    "#     'KNeighborsClassifier': KNeighborsClassifier(),\n",
    "#     'LogisticRegressor': LogisticRegression(),\n",
    "#     'GaussianNB': GaussianNB(),\n",
    "#     'RandomForestClassifier': RandomForestClassifier(random_state=143),\n",
    "#     'DecisionTreeClassifier': DecisionTreeClassifier(random_state=143),\n",
    "#     'GradientBoostingClassifier': GradientBoostingClassifier(random_state=143)   \n",
    "# }"
   ]
  },
  {
   "cell_type": "code",
   "execution_count": 22,
   "metadata": {
    "ExecuteTime": {
     "end_time": "2022-10-28T11:04:59.913766Z",
     "start_time": "2022-10-28T10:48:05.115167Z"
    }
   },
   "outputs": [
    {
     "data": {
      "application/vnd.jupyter.widget-view+json": {
       "model_id": "a53c48cdaff14a80b00b9493d2861e67",
       "version_major": 2,
       "version_minor": 0
      },
      "text/plain": [
       "  0%|          | 0/1 [00:00<?, ?it/s]"
      ]
     },
     "metadata": {},
     "output_type": "display_data"
    },
    {
     "data": {
      "application/vnd.jupyter.widget-view+json": {
       "model_id": "bdc83ff7b9134a858acc016b8bb98e81",
       "version_major": 2,
       "version_minor": 0
      },
      "text/plain": [
       "0it [00:00, ?it/s]"
      ]
     },
     "metadata": {},
     "output_type": "display_data"
    },
    {
     "ename": "KeyboardInterrupt",
     "evalue": "",
     "output_type": "error",
     "traceback": [
      "\u001b[1;31m---------------------------------------------------------------------------\u001b[0m",
      "\u001b[1;31mKeyboardInterrupt\u001b[0m                         Traceback (most recent call last)",
      "Cell \u001b[1;32mIn [22], line 1\u001b[0m\n\u001b[1;32m----> 1\u001b[0m auto_run \u001b[38;5;241m=\u001b[39m \u001b[43mauto_ml\u001b[49m\u001b[43m(\u001b[49m\u001b[43mX_trainval\u001b[49m\u001b[43m,\u001b[49m\u001b[43m \u001b[49m\u001b[43my_trainval\u001b[49m\u001b[43m,\u001b[49m\u001b[43m \u001b[49m\u001b[43mmodels_dict\u001b[49m\u001b[43m,\u001b[49m\u001b[43m \u001b[49m\u001b[43mscaler\u001b[49m\u001b[38;5;241;43m=\u001b[39;49m\u001b[43mMinMaxScaler\u001b[49m\u001b[43m(\u001b[49m\u001b[43m)\u001b[49m\u001b[43m,\u001b[49m\n\u001b[0;32m      2\u001b[0m \u001b[43m               \u001b[49m\u001b[43mcv\u001b[49m\u001b[38;5;241;43m=\u001b[39;49m\u001b[43mStratifiedKFold\u001b[49m\u001b[43m(\u001b[49m\u001b[43mn_splits\u001b[49m\u001b[38;5;241;43m=\u001b[39;49m\u001b[38;5;241;43m5\u001b[39;49m\u001b[43m)\u001b[49m\u001b[43m)\u001b[49m\n\u001b[0;32m      3\u001b[0m auto \u001b[38;5;241m=\u001b[39m auto_run[\u001b[38;5;241m0\u001b[39m]\n\u001b[0;32m      4\u001b[0m auto_run[\u001b[38;5;241m1\u001b[39m]\n",
      "Cell \u001b[1;32mIn [20], line 43\u001b[0m, in \u001b[0;36mauto_ml\u001b[1;34m(X, y, models_dict, scaler, cv, res_t)\u001b[0m\n\u001b[0;32m     40\u001b[0m start_time \u001b[38;5;241m=\u001b[39m time\u001b[38;5;241m.\u001b[39mtime()\n\u001b[0;32m     42\u001b[0m \u001b[38;5;66;03m# fit\u001b[39;00m\n\u001b[1;32m---> 43\u001b[0m \u001b[43mmodel\u001b[49m\u001b[38;5;241;43m.\u001b[39;49m\u001b[43mfit\u001b[49m\u001b[43m(\u001b[49m\u001b[43mX_train\u001b[49m\u001b[43m,\u001b[49m\u001b[43m \u001b[49m\u001b[43my_train\u001b[49m\u001b[43m)\u001b[49m\n\u001b[0;32m     45\u001b[0m \u001b[38;5;66;03m# predict\u001b[39;00m\n\u001b[0;32m     46\u001b[0m train_preds \u001b[38;5;241m=\u001b[39m model\u001b[38;5;241m.\u001b[39mpredict(X_train)\n",
      "File \u001b[1;32m~\\Documents\\DSFC10\\venv\\lib\\site-packages\\sklearn\\ensemble\\_gb.py:668\u001b[0m, in \u001b[0;36mBaseGradientBoosting.fit\u001b[1;34m(self, X, y, sample_weight, monitor)\u001b[0m\n\u001b[0;32m    665\u001b[0m     \u001b[38;5;28mself\u001b[39m\u001b[38;5;241m.\u001b[39m_resize_state()\n\u001b[0;32m    667\u001b[0m \u001b[38;5;66;03m# fit the boosting stages\u001b[39;00m\n\u001b[1;32m--> 668\u001b[0m n_stages \u001b[38;5;241m=\u001b[39m \u001b[38;5;28;43mself\u001b[39;49m\u001b[38;5;241;43m.\u001b[39;49m\u001b[43m_fit_stages\u001b[49m\u001b[43m(\u001b[49m\n\u001b[0;32m    669\u001b[0m \u001b[43m    \u001b[49m\u001b[43mX\u001b[49m\u001b[43m,\u001b[49m\n\u001b[0;32m    670\u001b[0m \u001b[43m    \u001b[49m\u001b[43my\u001b[49m\u001b[43m,\u001b[49m\n\u001b[0;32m    671\u001b[0m \u001b[43m    \u001b[49m\u001b[43mraw_predictions\u001b[49m\u001b[43m,\u001b[49m\n\u001b[0;32m    672\u001b[0m \u001b[43m    \u001b[49m\u001b[43msample_weight\u001b[49m\u001b[43m,\u001b[49m\n\u001b[0;32m    673\u001b[0m \u001b[43m    \u001b[49m\u001b[38;5;28;43mself\u001b[39;49m\u001b[38;5;241;43m.\u001b[39;49m\u001b[43m_rng\u001b[49m\u001b[43m,\u001b[49m\n\u001b[0;32m    674\u001b[0m \u001b[43m    \u001b[49m\u001b[43mX_val\u001b[49m\u001b[43m,\u001b[49m\n\u001b[0;32m    675\u001b[0m \u001b[43m    \u001b[49m\u001b[43my_val\u001b[49m\u001b[43m,\u001b[49m\n\u001b[0;32m    676\u001b[0m \u001b[43m    \u001b[49m\u001b[43msample_weight_val\u001b[49m\u001b[43m,\u001b[49m\n\u001b[0;32m    677\u001b[0m \u001b[43m    \u001b[49m\u001b[43mbegin_at_stage\u001b[49m\u001b[43m,\u001b[49m\n\u001b[0;32m    678\u001b[0m \u001b[43m    \u001b[49m\u001b[43mmonitor\u001b[49m\u001b[43m,\u001b[49m\n\u001b[0;32m    679\u001b[0m \u001b[43m\u001b[49m\u001b[43m)\u001b[49m\n\u001b[0;32m    681\u001b[0m \u001b[38;5;66;03m# change shape of arrays after fit (early-stopping or additional ests)\u001b[39;00m\n\u001b[0;32m    682\u001b[0m \u001b[38;5;28;01mif\u001b[39;00m n_stages \u001b[38;5;241m!=\u001b[39m \u001b[38;5;28mself\u001b[39m\u001b[38;5;241m.\u001b[39mestimators_\u001b[38;5;241m.\u001b[39mshape[\u001b[38;5;241m0\u001b[39m]:\n",
      "File \u001b[1;32m~\\Documents\\DSFC10\\venv\\lib\\site-packages\\sklearn\\ensemble\\_gb.py:745\u001b[0m, in \u001b[0;36mBaseGradientBoosting._fit_stages\u001b[1;34m(self, X, y, raw_predictions, sample_weight, random_state, X_val, y_val, sample_weight_val, begin_at_stage, monitor)\u001b[0m\n\u001b[0;32m    738\u001b[0m     old_oob_score \u001b[38;5;241m=\u001b[39m loss_(\n\u001b[0;32m    739\u001b[0m         y[\u001b[38;5;241m~\u001b[39msample_mask],\n\u001b[0;32m    740\u001b[0m         raw_predictions[\u001b[38;5;241m~\u001b[39msample_mask],\n\u001b[0;32m    741\u001b[0m         sample_weight[\u001b[38;5;241m~\u001b[39msample_mask],\n\u001b[0;32m    742\u001b[0m     )\n\u001b[0;32m    744\u001b[0m \u001b[38;5;66;03m# fit next stage of trees\u001b[39;00m\n\u001b[1;32m--> 745\u001b[0m raw_predictions \u001b[38;5;241m=\u001b[39m \u001b[38;5;28;43mself\u001b[39;49m\u001b[38;5;241;43m.\u001b[39;49m\u001b[43m_fit_stage\u001b[49m\u001b[43m(\u001b[49m\n\u001b[0;32m    746\u001b[0m \u001b[43m    \u001b[49m\u001b[43mi\u001b[49m\u001b[43m,\u001b[49m\n\u001b[0;32m    747\u001b[0m \u001b[43m    \u001b[49m\u001b[43mX\u001b[49m\u001b[43m,\u001b[49m\n\u001b[0;32m    748\u001b[0m \u001b[43m    \u001b[49m\u001b[43my\u001b[49m\u001b[43m,\u001b[49m\n\u001b[0;32m    749\u001b[0m \u001b[43m    \u001b[49m\u001b[43mraw_predictions\u001b[49m\u001b[43m,\u001b[49m\n\u001b[0;32m    750\u001b[0m \u001b[43m    \u001b[49m\u001b[43msample_weight\u001b[49m\u001b[43m,\u001b[49m\n\u001b[0;32m    751\u001b[0m \u001b[43m    \u001b[49m\u001b[43msample_mask\u001b[49m\u001b[43m,\u001b[49m\n\u001b[0;32m    752\u001b[0m \u001b[43m    \u001b[49m\u001b[43mrandom_state\u001b[49m\u001b[43m,\u001b[49m\n\u001b[0;32m    753\u001b[0m \u001b[43m    \u001b[49m\u001b[43mX_csc\u001b[49m\u001b[43m,\u001b[49m\n\u001b[0;32m    754\u001b[0m \u001b[43m    \u001b[49m\u001b[43mX_csr\u001b[49m\u001b[43m,\u001b[49m\n\u001b[0;32m    755\u001b[0m \u001b[43m\u001b[49m\u001b[43m)\u001b[49m\n\u001b[0;32m    757\u001b[0m \u001b[38;5;66;03m# track deviance (= loss)\u001b[39;00m\n\u001b[0;32m    758\u001b[0m \u001b[38;5;28;01mif\u001b[39;00m do_oob:\n",
      "File \u001b[1;32m~\\Documents\\DSFC10\\venv\\lib\\site-packages\\sklearn\\ensemble\\_gb.py:247\u001b[0m, in \u001b[0;36mBaseGradientBoosting._fit_stage\u001b[1;34m(self, i, X, y, raw_predictions, sample_weight, sample_mask, random_state, X_csc, X_csr)\u001b[0m\n\u001b[0;32m    244\u001b[0m     sample_weight \u001b[38;5;241m=\u001b[39m sample_weight \u001b[38;5;241m*\u001b[39m sample_mask\u001b[38;5;241m.\u001b[39mastype(np\u001b[38;5;241m.\u001b[39mfloat64)\n\u001b[0;32m    246\u001b[0m X \u001b[38;5;241m=\u001b[39m X_csr \u001b[38;5;28;01mif\u001b[39;00m X_csr \u001b[38;5;129;01mis\u001b[39;00m \u001b[38;5;129;01mnot\u001b[39;00m \u001b[38;5;28;01mNone\u001b[39;00m \u001b[38;5;28;01melse\u001b[39;00m X\n\u001b[1;32m--> 247\u001b[0m \u001b[43mtree\u001b[49m\u001b[38;5;241;43m.\u001b[39;49m\u001b[43mfit\u001b[49m\u001b[43m(\u001b[49m\u001b[43mX\u001b[49m\u001b[43m,\u001b[49m\u001b[43m \u001b[49m\u001b[43mresidual\u001b[49m\u001b[43m,\u001b[49m\u001b[43m \u001b[49m\u001b[43msample_weight\u001b[49m\u001b[38;5;241;43m=\u001b[39;49m\u001b[43msample_weight\u001b[49m\u001b[43m,\u001b[49m\u001b[43m \u001b[49m\u001b[43mcheck_input\u001b[49m\u001b[38;5;241;43m=\u001b[39;49m\u001b[38;5;28;43;01mFalse\u001b[39;49;00m\u001b[43m)\u001b[49m\n\u001b[0;32m    249\u001b[0m \u001b[38;5;66;03m# update tree leaves\u001b[39;00m\n\u001b[0;32m    250\u001b[0m loss\u001b[38;5;241m.\u001b[39mupdate_terminal_regions(\n\u001b[0;32m    251\u001b[0m     tree\u001b[38;5;241m.\u001b[39mtree_,\n\u001b[0;32m    252\u001b[0m     X,\n\u001b[1;32m   (...)\u001b[0m\n\u001b[0;32m    259\u001b[0m     k\u001b[38;5;241m=\u001b[39mk,\n\u001b[0;32m    260\u001b[0m )\n",
      "File \u001b[1;32m~\\Documents\\DSFC10\\venv\\lib\\site-packages\\sklearn\\tree\\_classes.py:1342\u001b[0m, in \u001b[0;36mDecisionTreeRegressor.fit\u001b[1;34m(self, X, y, sample_weight, check_input)\u001b[0m\n\u001b[0;32m   1313\u001b[0m \u001b[38;5;28;01mdef\u001b[39;00m \u001b[38;5;21mfit\u001b[39m(\u001b[38;5;28mself\u001b[39m, X, y, sample_weight\u001b[38;5;241m=\u001b[39m\u001b[38;5;28;01mNone\u001b[39;00m, check_input\u001b[38;5;241m=\u001b[39m\u001b[38;5;28;01mTrue\u001b[39;00m):\n\u001b[0;32m   1314\u001b[0m     \u001b[38;5;124;03m\"\"\"Build a decision tree regressor from the training set (X, y).\u001b[39;00m\n\u001b[0;32m   1315\u001b[0m \n\u001b[0;32m   1316\u001b[0m \u001b[38;5;124;03m    Parameters\u001b[39;00m\n\u001b[1;32m   (...)\u001b[0m\n\u001b[0;32m   1339\u001b[0m \u001b[38;5;124;03m        Fitted estimator.\u001b[39;00m\n\u001b[0;32m   1340\u001b[0m \u001b[38;5;124;03m    \"\"\"\u001b[39;00m\n\u001b[1;32m-> 1342\u001b[0m     \u001b[38;5;28;43msuper\u001b[39;49m\u001b[43m(\u001b[49m\u001b[43m)\u001b[49m\u001b[38;5;241;43m.\u001b[39;49m\u001b[43mfit\u001b[49m\u001b[43m(\u001b[49m\n\u001b[0;32m   1343\u001b[0m \u001b[43m        \u001b[49m\u001b[43mX\u001b[49m\u001b[43m,\u001b[49m\n\u001b[0;32m   1344\u001b[0m \u001b[43m        \u001b[49m\u001b[43my\u001b[49m\u001b[43m,\u001b[49m\n\u001b[0;32m   1345\u001b[0m \u001b[43m        \u001b[49m\u001b[43msample_weight\u001b[49m\u001b[38;5;241;43m=\u001b[39;49m\u001b[43msample_weight\u001b[49m\u001b[43m,\u001b[49m\n\u001b[0;32m   1346\u001b[0m \u001b[43m        \u001b[49m\u001b[43mcheck_input\u001b[49m\u001b[38;5;241;43m=\u001b[39;49m\u001b[43mcheck_input\u001b[49m\u001b[43m,\u001b[49m\n\u001b[0;32m   1347\u001b[0m \u001b[43m    \u001b[49m\u001b[43m)\u001b[49m\n\u001b[0;32m   1348\u001b[0m     \u001b[38;5;28;01mreturn\u001b[39;00m \u001b[38;5;28mself\u001b[39m\n",
      "File \u001b[1;32m~\\Documents\\DSFC10\\venv\\lib\\site-packages\\sklearn\\tree\\_classes.py:458\u001b[0m, in \u001b[0;36mBaseDecisionTree.fit\u001b[1;34m(self, X, y, sample_weight, check_input)\u001b[0m\n\u001b[0;32m    447\u001b[0m \u001b[38;5;28;01melse\u001b[39;00m:\n\u001b[0;32m    448\u001b[0m     builder \u001b[38;5;241m=\u001b[39m BestFirstTreeBuilder(\n\u001b[0;32m    449\u001b[0m         splitter,\n\u001b[0;32m    450\u001b[0m         min_samples_split,\n\u001b[1;32m   (...)\u001b[0m\n\u001b[0;32m    455\u001b[0m         \u001b[38;5;28mself\u001b[39m\u001b[38;5;241m.\u001b[39mmin_impurity_decrease,\n\u001b[0;32m    456\u001b[0m     )\n\u001b[1;32m--> 458\u001b[0m \u001b[43mbuilder\u001b[49m\u001b[38;5;241;43m.\u001b[39;49m\u001b[43mbuild\u001b[49m\u001b[43m(\u001b[49m\u001b[38;5;28;43mself\u001b[39;49m\u001b[38;5;241;43m.\u001b[39;49m\u001b[43mtree_\u001b[49m\u001b[43m,\u001b[49m\u001b[43m \u001b[49m\u001b[43mX\u001b[49m\u001b[43m,\u001b[49m\u001b[43m \u001b[49m\u001b[43my\u001b[49m\u001b[43m,\u001b[49m\u001b[43m \u001b[49m\u001b[43msample_weight\u001b[49m\u001b[43m)\u001b[49m\n\u001b[0;32m    460\u001b[0m \u001b[38;5;28;01mif\u001b[39;00m \u001b[38;5;28mself\u001b[39m\u001b[38;5;241m.\u001b[39mn_outputs_ \u001b[38;5;241m==\u001b[39m \u001b[38;5;241m1\u001b[39m \u001b[38;5;129;01mand\u001b[39;00m is_classifier(\u001b[38;5;28mself\u001b[39m):\n\u001b[0;32m    461\u001b[0m     \u001b[38;5;28mself\u001b[39m\u001b[38;5;241m.\u001b[39mn_classes_ \u001b[38;5;241m=\u001b[39m \u001b[38;5;28mself\u001b[39m\u001b[38;5;241m.\u001b[39mn_classes_[\u001b[38;5;241m0\u001b[39m]\n",
      "\u001b[1;31mKeyboardInterrupt\u001b[0m: "
     ]
    }
   ],
   "source": [
    "auto_run = auto_ml(X_trainval, y_trainval, models_dict, scaler=MinMaxScaler(),\n",
    "               cv=StratifiedKFold(n_splits=5))\n",
    "auto = auto_run[0]\n",
    "auto_run[1]"
   ]
  },
  {
   "cell_type": "markdown",
   "metadata": {},
   "source": [
    "### Applying resampling techniques"
   ]
  },
  {
   "cell_type": "markdown",
   "metadata": {},
   "source": [
    "#### Oversampling"
   ]
  },
  {
   "cell_type": "code",
   "execution_count": null,
   "metadata": {
    "ExecuteTime": {
     "end_time": "2022-10-28T11:05:00.002787Z",
     "start_time": "2022-10-28T11:05:00.002787Z"
    }
   },
   "outputs": [],
   "source": [
    "res_list = [('SMOTE', SMOTE()),\n",
    "            ('ADASYN', ADASYN())]\n",
    "\n",
    "outputs = []\n",
    "for title, res in res_list:\n",
    "    print(colored(title, 'red', attrs=['bold']).center(120, \"-\"))\n",
    "    var = auto_ml(X_trainval, y_trainval, models_dict, scaler=MinMaxScaler(),\n",
    "                    cv=StratifiedKFold(n_splits=5), res_t=res)\n",
    "    outputs.append(var[0])\n",
    "    display(var[1])"
   ]
  },
  {
   "cell_type": "code",
   "execution_count": null,
   "metadata": {
    "ExecuteTime": {
     "end_time": "2022-10-28T11:05:00.062805Z",
     "start_time": "2022-10-28T11:05:00.062805Z"
    }
   },
   "outputs": [],
   "source": [
    "ps_over = pd.DataFrame(index=models_dict.keys())\n",
    "ps_over['NoResampling Val Recall'] = auto_run[1]['Val Recall']\n",
    "ps_over['SMOTE Val Recall'] = outputs[0]['Val Recall']\n",
    "ps_over['ADASYN Val Recall'] = outputs[1]['Val Recall']\n",
    "fig, ax = plt.subplots(figsize=(20, 8))\n",
    "ps_over.plot.bar(ax=ax)\n",
    "ax.set_ylabel('Recall Score', fontsize=12)\n",
    "for spine in ['right', 'top']:\n",
    "        ax.spines[spine].set_visible(False)\n",
    "ax.legend(edgecolor='white')\n",
    "fig.suptitle(\"Resampling Techniques-Oversampling\", size=15, y=0.9, weight='bold')\n",
    "plt.xticks(rotation=45, fontsize=12)\n",
    "plt.show()"
   ]
  },
  {
   "cell_type": "markdown",
   "metadata": {},
   "source": [
    "#### Undersampling"
   ]
  },
  {
   "cell_type": "code",
   "execution_count": null,
   "metadata": {
    "ExecuteTime": {
     "end_time": "2022-10-28T11:05:00.123825Z",
     "start_time": "2022-10-28T11:05:00.123825Z"
    }
   },
   "outputs": [],
   "source": [
    "res_list = [('TomekLinks', TomekLinks()),\n",
    "            ('NearMiss', NearMiss())]\n",
    "\n",
    "outputs_u = []\n",
    "for title, res in res_list:\n",
    "    print(colored(title, 'red', attrs=['bold']).center(120, \"-\"))\n",
    "    var = auto_ml(X_trainval, y_trainval, models_dict, scaler=MinMaxScaler(),\n",
    "                  cv=StratifiedKFold(n_splits=5), res_t=res)\n",
    "    outputs_u.append(var[0])\n",
    "    display(var[1])"
   ]
  },
  {
   "cell_type": "code",
   "execution_count": null,
   "metadata": {
    "ExecuteTime": {
     "end_time": "2022-10-28T11:05:00.353876Z",
     "start_time": "2022-10-28T11:05:00.352896Z"
    }
   },
   "outputs": [],
   "source": [
    "ps_under = pd.DataFrame(index=models_dict.keys())\n",
    "ps_under['NoResampling Val Recall'] = auto_run[1]['Val Recall']\n",
    "ps_under['TomekLinks Val Recall'] = outputs_u[0]['Val Recall']\n",
    "ps_under['NearMiss Val Recall'] = outputs_u[1]['Val Recall']\n",
    "\n",
    "fig, ax = plt.subplots(figsize=(20, 8))\n",
    "ps_under.plot.bar(ax=ax)\n",
    "ax.set_ylabel('Recall Score', fontsize=12)\n",
    "for spine in ['right', 'top']:\n",
    "        ax.spines[spine].set_visible(False)\n",
    "ax.legend(edgecolor='white')\n",
    "fig.suptitle(\"Resampling Techniques-Undersampling\", size=15, y=0.9, weight='bold')\n",
    "plt.xticks(rotation=45, fontsize=12)\n",
    "plt.show()"
   ]
  },
  {
   "cell_type": "markdown",
   "metadata": {},
   "source": [
    "<div><span style=\"background-color: #ff0257; padding-top: 100px; padding-right: 20px; padding-bottom: 50px; padding-left: 20px; color: #FFFAF0; font-size: 18px; font-weight: bold\">Grid-Search and Randomized Search Cross Validation </span></div>"
   ]
  },
  {
   "cell_type": "markdown",
   "metadata": {},
   "source": [
    "[Grid Search](https://scikit-learn.org/stable/modules/generated/sklearn.model_selection.GridSearchCV.html) and [Randomized Search Cross Validation](https://scikit-learn.org/stable/modules/generated/sklearn.model_selection.RandomizedSearchCV.html) are commonly used to hypertune models across multiple parameters"
   ]
  },
  {
   "cell_type": "code",
   "execution_count": null,
   "metadata": {
    "ExecuteTime": {
     "end_time": "2022-10-28T11:05:00.380884Z",
     "start_time": "2022-10-28T11:05:00.380884Z"
    }
   },
   "outputs": [],
   "source": [
    "def train_rf(X, y, metric, res_t=None, hypertune=False, resample=False):\n",
    "    \"\"\"Hypertune Random Forest and apply TomekLinks()\"\"\"\n",
    "    params = {'n_estimators': [50, 100, 150, 200],\n",
    "              'max_features': ['auto', 'sqrt', 'log2'],\n",
    "              'max_depth': list(range(3, 20))\n",
    "              }\n",
    "    new_params = {'randomforestclassifier__' +\n",
    "                  key: params[key] for key in params}\n",
    "\n",
    "    skf = StratifiedKFold(n_splits=5)\n",
    "    if resample is True:\n",
    "        imba_pipeline = make_pipeline(MinMaxScaler(),\n",
    "                                      res_t,\n",
    "                                      RandomForestClassifier(random_state=143))\n",
    "    else:\n",
    "        imba_pipeline = make_pipeline(MinMaxScaler(),\n",
    "                                      RandomForestClassifier(random_state=143))\n",
    "\n",
    "    if hypertune is True:\n",
    "        clf = GridSearchCV(imba_pipeline, param_grid=new_params,\n",
    "                           cv=skf, scoring=metric, return_train_score=True,\n",
    "                          verbose=10)\n",
    "        start_time = time.time()\n",
    "        clf.fit(X, y)\n",
    "        run_time = (time.time() - start_time)\n",
    "        model = clf.best_estimator_.fit(X, y)\n",
    "        return ['Random Forest Classifier', np.mean(clf.cv_results_['mean_train_score']),\n",
    "                clf.best_score_, 'Best parameters = {0}'.format(\n",
    "                    clf.best_params_),\n",
    "                run_time, model]\n",
    "    else:\n",
    "        clf = imba_pipeline\n",
    "        start_time = time.time()\n",
    "        clf.fit(X, y)\n",
    "        run_time = (time.time() - start_time)\n",
    "        cv_scores = cross_validate(estimator=clf, X=X, y=y,\n",
    "                                   scoring=metric, cv=skf, n_jobs=-1,\n",
    "                                   return_train_score=True)\n",
    "\n",
    "        return ['Random Forest Classifier', np.mean(cv_scores['train_score']),\n",
    "                np.mean(cv_scores['test_score']), run_time, clf]"
   ]
  },
  {
   "cell_type": "code",
   "execution_count": null,
   "metadata": {
    "ExecuteTime": {
     "end_time": "2022-10-28T11:05:00.397888Z",
     "start_time": "2022-10-28T11:05:00.397888Z"
    }
   },
   "outputs": [],
   "source": [
    "start_time = time.time()\n",
    "rf_tmk_rec = train_rf(X_trainval, y_trainval, 'recall', TomekLinks(),\n",
    "                       hypertune=True, resample=True)\n",
    "start_time = time.time()\n",
    "rf_tmk_acc = train_rf(X_trainval, y_trainval, 'accuracy', TomekLinks(),\n",
    "                      hypertune=True, resample=True)"
   ]
  },
  {
   "cell_type": "code",
   "execution_count": null,
   "metadata": {
    "ExecuteTime": {
     "end_time": "2022-10-28T11:05:00.419892Z",
     "start_time": "2022-10-28T11:05:00.419892Z"
    }
   },
   "outputs": [],
   "source": [
    "cols = ['', 'Train Accuracy', 'Val Accuracy',\n",
    "        'Train Recall', 'Val Recall']\n",
    "hyper = pd.DataFrame(columns=cols)\n",
    "hyper.loc[0] = [rf_tmk_rec[0],\n",
    "                np.round(rf_tmk_acc[1]*100, 6),\n",
    "                np.round(rf_tmk_acc[2]*100, 6),\n",
    "                np.round(rf_tmk_rec[1]*100, 6),\n",
    "                np.round(rf_tmk_rec[2]*100, 6)]\n",
    "hyper2 = pd.DataFrame(columns=cols)\n",
    "hyper2.loc[0] = [rf_tmk_rec[0],\n",
    "                 '{:.2f}%'.format(np.round(rf_tmk_acc[1]*100, 2)),\n",
    "                 '{:.2f}%'.format(np.round(rf_tmk_acc[2]*100, 2)),\n",
    "                 '{:.2f}%'.format(np.round(rf_tmk_rec[1]*100, 2)),\n",
    "                 '{:.2f}%'.format(np.round(rf_tmk_rec[2]*100, 2))]\n",
    "hyper2.style.hide_index()"
   ]
  },
  {
   "cell_type": "code",
   "execution_count": null,
   "metadata": {
    "ExecuteTime": {
     "end_time": "2022-10-28T11:05:00.430896Z",
     "start_time": "2022-10-28T11:05:00.430896Z"
    }
   },
   "outputs": [],
   "source": [
    "# re-fitting for the holdout\n",
    "rh = rf_tmk_rec[-1]\n",
    "rh.fit(X_trainval, y_trainval)\n",
    "y_preds = rh.predict(X_holdout)\n",
    "rh_holdout_score = recall_score(y_holdout, y_preds)"
   ]
  },
  {
   "cell_type": "markdown",
   "metadata": {},
   "source": [
    "#### Base-case"
   ]
  },
  {
   "cell_type": "code",
   "execution_count": null,
   "metadata": {
    "ExecuteTime": {
     "end_time": "2022-10-28T11:05:00.439900Z",
     "start_time": "2022-10-28T11:05:00.439900Z"
    }
   },
   "outputs": [],
   "source": [
    "# cross-validation\n",
    "base_var = train_rf(X_trainval, y_trainval, 'recall', hypertune=False, resample=False)\n",
    "\n",
    "# re-fitting for the holdout\n",
    "base_model = base_var[-1]\n",
    "base_model.fit(X_trainval, y_trainval)\n",
    "y_preds = base_model.predict(X_holdout)\n",
    "holdout_score = recall_score(y_holdout, y_preds)"
   ]
  },
  {
   "cell_type": "code",
   "execution_count": null,
   "metadata": {
    "ExecuteTime": {
     "end_time": "2022-10-28T11:05:00.450903Z",
     "start_time": "2022-10-28T11:05:00.449901Z"
    }
   },
   "outputs": [],
   "source": [
    "holdout_score"
   ]
  },
  {
   "cell_type": "code",
   "execution_count": null,
   "metadata": {
    "ExecuteTime": {
     "end_time": "2022-10-28T11:05:00.462429Z",
     "start_time": "2022-10-28T11:05:00.462429Z"
    }
   },
   "outputs": [],
   "source": [
    "cols = ['Method', 'Train Recall', 'Val Recall', 'Holdout Recall']\n",
    "summary = pd.DataFrame(columns=cols)\n",
    "summary.loc[0] = ['No Resampling',\n",
    "                 '{:.2f}%'.format(np.round(base_var[1]*100, 2)),\n",
    "                 '{:.2f}%'.format(np.round(base_var[2]*100, 2)),\n",
    "                 '{:.2f}%'.format(np.round(holdout_score*100, 2))]\n",
    "summary.loc[3] = ['Resampling x Hypertune',\n",
    "                 '{:.2f}%'.format(np.round(rf_tmk_rec[1]*100, 2)),\n",
    "                 '{:.2f}%'.format(np.round(rf_tmk_rec[2]*100, 2)),\n",
    "                 '{:.2f}%'.format(np.round(rh_holdout_score*100, 2))]\n",
    "summary.style.hide_index()"
   ]
  },
  {
   "cell_type": "code",
   "execution_count": null,
   "metadata": {},
   "outputs": [],
   "source": []
  },
  {
   "cell_type": "code",
   "execution_count": null,
   "metadata": {},
   "outputs": [],
   "source": []
  },
  {
   "cell_type": "code",
   "execution_count": null,
   "metadata": {},
   "outputs": [],
   "source": []
  },
  {
   "cell_type": "code",
   "execution_count": null,
   "metadata": {},
   "outputs": [],
   "source": []
  }
 ],
 "metadata": {
  "kernelspec": {
   "display_name": "Python 3 (ipykernel)",
   "language": "python",
   "name": "python3"
  },
  "language_info": {
   "codemirror_mode": {
    "name": "ipython",
    "version": 3
   },
   "file_extension": ".py",
   "mimetype": "text/x-python",
   "name": "python",
   "nbconvert_exporter": "python",
   "pygments_lexer": "ipython3",
   "version": "3.9.12"
  },
  "toc": {
   "base_numbering": 1,
   "nav_menu": {},
   "number_sections": true,
   "sideBar": true,
   "skip_h1_title": false,
   "title_cell": "Table of Contents",
   "title_sidebar": "Contents",
   "toc_cell": false,
   "toc_position": {},
   "toc_section_display": true,
   "toc_window_display": false
  }
 },
 "nbformat": 4,
 "nbformat_minor": 4
}
